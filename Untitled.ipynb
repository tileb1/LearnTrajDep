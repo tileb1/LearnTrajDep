{
 "cells": [
  {
   "cell_type": "code",
   "execution_count": 1,
   "metadata": {},
   "outputs": [],
   "source": [
    "from utils.h36motion import H36motion\n",
    "from torch.utils.data import DataLoader"
   ]
  },
  {
   "cell_type": "code",
   "execution_count": 2,
   "metadata": {},
   "outputs": [],
   "source": [
    "input_n = 10\n",
    "output_n = 25"
   ]
  },
  {
   "cell_type": "code",
   "execution_count": 3,
   "metadata": {},
   "outputs": [
    {
     "name": "stdout",
     "output_type": "stream",
     "text": [
      "Reading subject 1, action walking, subaction 1\n",
      "Reading subject 1, action walking, subaction 2\n",
      "(3305, 99)\n",
      "(3237, 35, 99)\n",
      "1\n"
     ]
    }
   ],
   "source": [
    "train_dataset = H36motion(path_to_data='./h3.6m/dataset', actions='all', input_n=input_n, output_n=output_n,\n",
    "                          split=0, sample_rate=2)"
   ]
  },
  {
   "cell_type": "code",
   "execution_count": 4,
   "metadata": {},
   "outputs": [],
   "source": [
    "train_loader = DataLoader(\n",
    "    dataset=train_dataset,\n",
    "    batch_size=16,\n",
    "    shuffle=True,\n",
    "    num_workers=8,\n",
    "    pin_memory=True)"
   ]
  },
  {
   "cell_type": "code",
   "execution_count": 5,
   "metadata": {},
   "outputs": [
    {
     "name": "stdout",
     "output_type": "stream",
     "text": [
      "torch.Size([16, 48, 35]) torch.Size([16, 48, 35]) torch.Size([16, 35, 99])\n",
      "torch.Size([16, 48, 35]) torch.Size([16, 48, 35]) torch.Size([16, 35, 99])\n",
      "torch.Size([16, 48, 35]) torch.Size([16, 48, 35]) torch.Size([16, 35, 99])\n",
      "torch.Size([16, 48, 35]) torch.Size([16, 48, 35]) torch.Size([16, 35, 99])\n",
      "torch.Size([16, 48, 35]) torch.Size([16, 48, 35]) torch.Size([16, 35, 99])\n",
      "torch.Size([16, 48, 35]) torch.Size([16, 48, 35]) torch.Size([16, 35, 99])\n",
      "torch.Size([16, 48, 35]) torch.Size([16, 48, 35]) torch.Size([16, 35, 99])\n",
      "torch.Size([16, 48, 35]) torch.Size([16, 48, 35]) torch.Size([16, 35, 99])\n",
      "torch.Size([16, 48, 35]) torch.Size([16, 48, 35]) torch.Size([16, 35, 99])\n",
      "torch.Size([16, 48, 35]) torch.Size([16, 48, 35]) torch.Size([16, 35, 99])\n",
      "torch.Size([16, 48, 35]) torch.Size([16, 48, 35]) torch.Size([16, 35, 99])\n",
      "torch.Size([16, 48, 35]) torch.Size([16, 48, 35]) torch.Size([16, 35, 99])\n",
      "torch.Size([16, 48, 35]) torch.Size([16, 48, 35]) torch.Size([16, 35, 99])\n",
      "torch.Size([16, 48, 35]) torch.Size([16, 48, 35]) torch.Size([16, 35, 99])\n",
      "torch.Size([16, 48, 35]) torch.Size([16, 48, 35]) torch.Size([16, 35, 99])\n",
      "torch.Size([16, 48, 35]) torch.Size([16, 48, 35]) torch.Size([16, 35, 99])\n",
      "torch.Size([16, 48, 35]) torch.Size([16, 48, 35]) torch.Size([16, 35, 99])\n",
      "torch.Size([16, 48, 35]) torch.Size([16, 48, 35]) torch.Size([16, 35, 99])\n",
      "torch.Size([16, 48, 35]) torch.Size([16, 48, 35]) torch.Size([16, 35, 99])\n",
      "torch.Size([16, 48, 35]) torch.Size([16, 48, 35]) torch.Size([16, 35, 99])\n",
      "torch.Size([16, 48, 35]) torch.Size([16, 48, 35]) torch.Size([16, 35, 99])\n",
      "torch.Size([16, 48, 35]) torch.Size([16, 48, 35]) torch.Size([16, 35, 99])\n",
      "torch.Size([16, 48, 35]) torch.Size([16, 48, 35]) torch.Size([16, 35, 99])\n",
      "torch.Size([16, 48, 35]) torch.Size([16, 48, 35]) torch.Size([16, 35, 99])\n",
      "torch.Size([16, 48, 35]) torch.Size([16, 48, 35]) torch.Size([16, 35, 99])\n",
      "torch.Size([16, 48, 35]) torch.Size([16, 48, 35]) torch.Size([16, 35, 99])\n",
      "torch.Size([16, 48, 35]) torch.Size([16, 48, 35]) torch.Size([16, 35, 99])\n",
      "torch.Size([16, 48, 35]) torch.Size([16, 48, 35]) torch.Size([16, 35, 99])\n",
      "torch.Size([16, 48, 35]) torch.Size([16, 48, 35]) torch.Size([16, 35, 99])\n",
      "torch.Size([16, 48, 35]) torch.Size([16, 48, 35]) torch.Size([16, 35, 99])\n",
      "torch.Size([16, 48, 35]) torch.Size([16, 48, 35]) torch.Size([16, 35, 99])\n",
      "torch.Size([16, 48, 35]) torch.Size([16, 48, 35]) torch.Size([16, 35, 99])\n",
      "torch.Size([16, 48, 35]) torch.Size([16, 48, 35]) torch.Size([16, 35, 99])\n",
      "torch.Size([16, 48, 35]) torch.Size([16, 48, 35]) torch.Size([16, 35, 99])\n",
      "torch.Size([16, 48, 35]) torch.Size([16, 48, 35]) torch.Size([16, 35, 99])\n",
      "torch.Size([16, 48, 35]) torch.Size([16, 48, 35]) torch.Size([16, 35, 99])\n",
      "torch.Size([16, 48, 35]) torch.Size([16, 48, 35]) torch.Size([16, 35, 99])\n",
      "torch.Size([16, 48, 35]) torch.Size([16, 48, 35]) torch.Size([16, 35, 99])\n",
      "torch.Size([16, 48, 35]) torch.Size([16, 48, 35]) torch.Size([16, 35, 99])\n",
      "torch.Size([16, 48, 35]) torch.Size([16, 48, 35]) torch.Size([16, 35, 99])\n",
      "torch.Size([16, 48, 35]) torch.Size([16, 48, 35]) torch.Size([16, 35, 99])\n",
      "torch.Size([16, 48, 35]) torch.Size([16, 48, 35]) torch.Size([16, 35, 99])\n",
      "torch.Size([16, 48, 35]) torch.Size([16, 48, 35]) torch.Size([16, 35, 99])\n",
      "torch.Size([16, 48, 35]) torch.Size([16, 48, 35]) torch.Size([16, 35, 99])\n",
      "torch.Size([16, 48, 35]) torch.Size([16, 48, 35]) torch.Size([16, 35, 99])\n",
      "torch.Size([16, 48, 35]) torch.Size([16, 48, 35]) torch.Size([16, 35, 99])\n",
      "torch.Size([16, 48, 35]) torch.Size([16, 48, 35]) torch.Size([16, 35, 99])\n",
      "torch.Size([16, 48, 35]) torch.Size([16, 48, 35]) torch.Size([16, 35, 99])\n",
      "torch.Size([16, 48, 35]) torch.Size([16, 48, 35]) torch.Size([16, 35, 99])\n",
      "torch.Size([16, 48, 35]) torch.Size([16, 48, 35]) torch.Size([16, 35, 99])\n",
      "torch.Size([16, 48, 35]) torch.Size([16, 48, 35]) torch.Size([16, 35, 99])\n",
      "torch.Size([16, 48, 35]) torch.Size([16, 48, 35]) torch.Size([16, 35, 99])\n",
      "torch.Size([16, 48, 35]) torch.Size([16, 48, 35]) torch.Size([16, 35, 99])\n",
      "torch.Size([16, 48, 35]) torch.Size([16, 48, 35]) torch.Size([16, 35, 99])\n",
      "torch.Size([16, 48, 35]) torch.Size([16, 48, 35]) torch.Size([16, 35, 99])\n",
      "torch.Size([16, 48, 35]) torch.Size([16, 48, 35]) torch.Size([16, 35, 99])\n",
      "torch.Size([16, 48, 35]) torch.Size([16, 48, 35]) torch.Size([16, 35, 99])\n",
      "torch.Size([16, 48, 35]) torch.Size([16, 48, 35]) torch.Size([16, 35, 99])\n",
      "torch.Size([16, 48, 35]) torch.Size([16, 48, 35]) torch.Size([16, 35, 99])\n",
      "torch.Size([16, 48, 35]) torch.Size([16, 48, 35]) torch.Size([16, 35, 99])\n",
      "torch.Size([16, 48, 35]) torch.Size([16, 48, 35]) torch.Size([16, 35, 99])\n",
      "torch.Size([16, 48, 35]) torch.Size([16, 48, 35]) torch.Size([16, 35, 99])\n",
      "torch.Size([16, 48, 35]) torch.Size([16, 48, 35]) torch.Size([16, 35, 99])\n",
      "torch.Size([16, 48, 35]) torch.Size([16, 48, 35]) torch.Size([16, 35, 99])\n",
      "torch.Size([16, 48, 35]) torch.Size([16, 48, 35]) torch.Size([16, 35, 99])\n",
      "torch.Size([16, 48, 35]) torch.Size([16, 48, 35]) torch.Size([16, 35, 99])\n",
      "torch.Size([16, 48, 35]) torch.Size([16, 48, 35]) torch.Size([16, 35, 99])\n",
      "torch.Size([16, 48, 35]) torch.Size([16, 48, 35]) torch.Size([16, 35, 99])\n",
      "torch.Size([16, 48, 35]) torch.Size([16, 48, 35]) torch.Size([16, 35, 99])\n",
      "torch.Size([16, 48, 35]) torch.Size([16, 48, 35]) torch.Size([16, 35, 99])\n",
      "torch.Size([16, 48, 35]) torch.Size([16, 48, 35]) torch.Size([16, 35, 99])\n",
      "torch.Size([16, 48, 35]) torch.Size([16, 48, 35]) torch.Size([16, 35, 99])\n",
      "torch.Size([16, 48, 35]) torch.Size([16, 48, 35]) torch.Size([16, 35, 99])\n",
      "torch.Size([16, 48, 35]) torch.Size([16, 48, 35]) torch.Size([16, 35, 99])\n",
      "torch.Size([16, 48, 35]) torch.Size([16, 48, 35]) torch.Size([16, 35, 99])\n",
      "torch.Size([16, 48, 35]) torch.Size([16, 48, 35]) torch.Size([16, 35, 99])\n",
      "torch.Size([16, 48, 35]) torch.Size([16, 48, 35]) torch.Size([16, 35, 99])\n",
      "torch.Size([16, 48, 35]) torch.Size([16, 48, 35]) torch.Size([16, 35, 99])\n",
      "torch.Size([16, 48, 35]) torch.Size([16, 48, 35]) torch.Size([16, 35, 99])\n",
      "torch.Size([16, 48, 35]) torch.Size([16, 48, 35]) torch.Size([16, 35, 99])\n",
      "torch.Size([16, 48, 35]) torch.Size([16, 48, 35]) torch.Size([16, 35, 99])\n",
      "torch.Size([16, 48, 35]) torch.Size([16, 48, 35]) torch.Size([16, 35, 99])\n",
      "torch.Size([16, 48, 35]) torch.Size([16, 48, 35]) torch.Size([16, 35, 99])\n",
      "torch.Size([16, 48, 35]) torch.Size([16, 48, 35]) torch.Size([16, 35, 99])\n",
      "torch.Size([16, 48, 35]) torch.Size([16, 48, 35]) torch.Size([16, 35, 99])\n",
      "torch.Size([16, 48, 35]) torch.Size([16, 48, 35]) torch.Size([16, 35, 99])\n",
      "torch.Size([16, 48, 35]) torch.Size([16, 48, 35]) torch.Size([16, 35, 99])\n",
      "torch.Size([16, 48, 35]) torch.Size([16, 48, 35]) torch.Size([16, 35, 99])\n",
      "torch.Size([16, 48, 35]) torch.Size([16, 48, 35]) torch.Size([16, 35, 99])\n",
      "torch.Size([16, 48, 35]) torch.Size([16, 48, 35]) torch.Size([16, 35, 99])\n",
      "torch.Size([16, 48, 35]) torch.Size([16, 48, 35]) torch.Size([16, 35, 99])\n",
      "torch.Size([16, 48, 35]) torch.Size([16, 48, 35]) torch.Size([16, 35, 99])\n",
      "torch.Size([16, 48, 35]) torch.Size([16, 48, 35]) torch.Size([16, 35, 99])\n",
      "torch.Size([16, 48, 35]) torch.Size([16, 48, 35]) torch.Size([16, 35, 99])\n",
      "torch.Size([16, 48, 35]) torch.Size([16, 48, 35]) torch.Size([16, 35, 99])\n",
      "torch.Size([16, 48, 35]) torch.Size([16, 48, 35]) torch.Size([16, 35, 99])\n",
      "torch.Size([16, 48, 35]) torch.Size([16, 48, 35]) torch.Size([16, 35, 99])\n",
      "torch.Size([16, 48, 35]) torch.Size([16, 48, 35]) torch.Size([16, 35, 99])\n",
      "torch.Size([16, 48, 35]) torch.Size([16, 48, 35]) torch.Size([16, 35, 99])\n",
      "torch.Size([16, 48, 35]) torch.Size([16, 48, 35]) torch.Size([16, 35, 99])\n",
      "torch.Size([16, 48, 35]) torch.Size([16, 48, 35]) torch.Size([16, 35, 99])\n",
      "torch.Size([16, 48, 35]) torch.Size([16, 48, 35]) torch.Size([16, 35, 99])\n",
      "torch.Size([16, 48, 35]) torch.Size([16, 48, 35]) torch.Size([16, 35, 99])\n",
      "torch.Size([16, 48, 35]) torch.Size([16, 48, 35]) torch.Size([16, 35, 99])\n",
      "torch.Size([16, 48, 35]) torch.Size([16, 48, 35]) torch.Size([16, 35, 99])\n",
      "torch.Size([16, 48, 35]) torch.Size([16, 48, 35]) torch.Size([16, 35, 99])\n",
      "torch.Size([16, 48, 35]) torch.Size([16, 48, 35]) torch.Size([16, 35, 99])\n",
      "torch.Size([16, 48, 35]) torch.Size([16, 48, 35]) torch.Size([16, 35, 99])\n",
      "torch.Size([16, 48, 35]) torch.Size([16, 48, 35]) torch.Size([16, 35, 99])\n",
      "torch.Size([16, 48, 35]) torch.Size([16, 48, 35]) torch.Size([16, 35, 99])\n"
     ]
    },
    {
     "name": "stdout",
     "output_type": "stream",
     "text": [
      "torch.Size([16, 48, 35]) torch.Size([16, 48, 35]) torch.Size([16, 35, 99])\n",
      "torch.Size([16, 48, 35]) torch.Size([16, 48, 35]) torch.Size([16, 35, 99])\n",
      "torch.Size([16, 48, 35]) torch.Size([16, 48, 35]) torch.Size([16, 35, 99])\n",
      "torch.Size([16, 48, 35]) torch.Size([16, 48, 35]) torch.Size([16, 35, 99])\n",
      "torch.Size([16, 48, 35]) torch.Size([16, 48, 35]) torch.Size([16, 35, 99])\n",
      "torch.Size([16, 48, 35]) torch.Size([16, 48, 35]) torch.Size([16, 35, 99])\n",
      "torch.Size([16, 48, 35]) torch.Size([16, 48, 35]) torch.Size([16, 35, 99])\n",
      "torch.Size([16, 48, 35]) torch.Size([16, 48, 35]) torch.Size([16, 35, 99])\n",
      "torch.Size([16, 48, 35]) torch.Size([16, 48, 35]) torch.Size([16, 35, 99])\n",
      "torch.Size([16, 48, 35]) torch.Size([16, 48, 35]) torch.Size([16, 35, 99])\n",
      "torch.Size([16, 48, 35]) torch.Size([16, 48, 35]) torch.Size([16, 35, 99])\n",
      "torch.Size([16, 48, 35]) torch.Size([16, 48, 35]) torch.Size([16, 35, 99])\n",
      "torch.Size([16, 48, 35]) torch.Size([16, 48, 35]) torch.Size([16, 35, 99])\n",
      "torch.Size([16, 48, 35]) torch.Size([16, 48, 35]) torch.Size([16, 35, 99])\n",
      "torch.Size([16, 48, 35]) torch.Size([16, 48, 35]) torch.Size([16, 35, 99])\n",
      "torch.Size([16, 48, 35]) torch.Size([16, 48, 35]) torch.Size([16, 35, 99])\n",
      "torch.Size([16, 48, 35]) torch.Size([16, 48, 35]) torch.Size([16, 35, 99])\n",
      "torch.Size([16, 48, 35]) torch.Size([16, 48, 35]) torch.Size([16, 35, 99])\n",
      "torch.Size([16, 48, 35]) torch.Size([16, 48, 35]) torch.Size([16, 35, 99])\n",
      "torch.Size([16, 48, 35]) torch.Size([16, 48, 35]) torch.Size([16, 35, 99])\n",
      "torch.Size([16, 48, 35]) torch.Size([16, 48, 35]) torch.Size([16, 35, 99])\n",
      "torch.Size([16, 48, 35]) torch.Size([16, 48, 35]) torch.Size([16, 35, 99])\n",
      "torch.Size([16, 48, 35]) torch.Size([16, 48, 35]) torch.Size([16, 35, 99])\n",
      "torch.Size([16, 48, 35]) torch.Size([16, 48, 35]) torch.Size([16, 35, 99])\n",
      "torch.Size([16, 48, 35]) torch.Size([16, 48, 35]) torch.Size([16, 35, 99])\n",
      "torch.Size([16, 48, 35]) torch.Size([16, 48, 35]) torch.Size([16, 35, 99])\n",
      "torch.Size([16, 48, 35]) torch.Size([16, 48, 35]) torch.Size([16, 35, 99])\n",
      "torch.Size([16, 48, 35]) torch.Size([16, 48, 35]) torch.Size([16, 35, 99])\n",
      "torch.Size([16, 48, 35]) torch.Size([16, 48, 35]) torch.Size([16, 35, 99])\n",
      "torch.Size([16, 48, 35]) torch.Size([16, 48, 35]) torch.Size([16, 35, 99])\n",
      "torch.Size([16, 48, 35]) torch.Size([16, 48, 35]) torch.Size([16, 35, 99])\n",
      "torch.Size([16, 48, 35]) torch.Size([16, 48, 35]) torch.Size([16, 35, 99])\n",
      "torch.Size([16, 48, 35]) torch.Size([16, 48, 35]) torch.Size([16, 35, 99])\n",
      "torch.Size([16, 48, 35]) torch.Size([16, 48, 35]) torch.Size([16, 35, 99])\n",
      "torch.Size([16, 48, 35]) torch.Size([16, 48, 35]) torch.Size([16, 35, 99])\n",
      "torch.Size([16, 48, 35]) torch.Size([16, 48, 35]) torch.Size([16, 35, 99])\n",
      "torch.Size([16, 48, 35]) torch.Size([16, 48, 35]) torch.Size([16, 35, 99])\n",
      "torch.Size([16, 48, 35]) torch.Size([16, 48, 35]) torch.Size([16, 35, 99])\n",
      "torch.Size([16, 48, 35]) torch.Size([16, 48, 35]) torch.Size([16, 35, 99])\n",
      "torch.Size([16, 48, 35]) torch.Size([16, 48, 35]) torch.Size([16, 35, 99])\n",
      "torch.Size([16, 48, 35]) torch.Size([16, 48, 35]) torch.Size([16, 35, 99])\n",
      "torch.Size([16, 48, 35]) torch.Size([16, 48, 35]) torch.Size([16, 35, 99])\n",
      "torch.Size([16, 48, 35]) torch.Size([16, 48, 35]) torch.Size([16, 35, 99])\n",
      "torch.Size([16, 48, 35]) torch.Size([16, 48, 35]) torch.Size([16, 35, 99])\n",
      "torch.Size([16, 48, 35]) torch.Size([16, 48, 35]) torch.Size([16, 35, 99])\n",
      "torch.Size([16, 48, 35]) torch.Size([16, 48, 35]) torch.Size([16, 35, 99])\n",
      "torch.Size([16, 48, 35]) torch.Size([16, 48, 35]) torch.Size([16, 35, 99])\n",
      "torch.Size([16, 48, 35]) torch.Size([16, 48, 35]) torch.Size([16, 35, 99])\n",
      "torch.Size([16, 48, 35]) torch.Size([16, 48, 35]) torch.Size([16, 35, 99])\n",
      "torch.Size([16, 48, 35]) torch.Size([16, 48, 35]) torch.Size([16, 35, 99])\n",
      "torch.Size([16, 48, 35]) torch.Size([16, 48, 35]) torch.Size([16, 35, 99])\n",
      "torch.Size([16, 48, 35]) torch.Size([16, 48, 35]) torch.Size([16, 35, 99])\n",
      "torch.Size([16, 48, 35]) torch.Size([16, 48, 35]) torch.Size([16, 35, 99])\n",
      "torch.Size([16, 48, 35]) torch.Size([16, 48, 35]) torch.Size([16, 35, 99])\n",
      "torch.Size([16, 48, 35]) torch.Size([16, 48, 35]) torch.Size([16, 35, 99])\n",
      "torch.Size([16, 48, 35]) torch.Size([16, 48, 35]) torch.Size([16, 35, 99])\n",
      "torch.Size([16, 48, 35]) torch.Size([16, 48, 35]) torch.Size([16, 35, 99])\n",
      "torch.Size([16, 48, 35]) torch.Size([16, 48, 35]) torch.Size([16, 35, 99])\n",
      "torch.Size([16, 48, 35]) torch.Size([16, 48, 35]) torch.Size([16, 35, 99])\n",
      "torch.Size([16, 48, 35]) torch.Size([16, 48, 35]) torch.Size([16, 35, 99])\n",
      "torch.Size([16, 48, 35]) torch.Size([16, 48, 35]) torch.Size([16, 35, 99])\n",
      "torch.Size([16, 48, 35]) torch.Size([16, 48, 35]) torch.Size([16, 35, 99])\n",
      "torch.Size([16, 48, 35]) torch.Size([16, 48, 35]) torch.Size([16, 35, 99])\n",
      "torch.Size([16, 48, 35]) torch.Size([16, 48, 35]) torch.Size([16, 35, 99])\n",
      "torch.Size([16, 48, 35]) torch.Size([16, 48, 35]) torch.Size([16, 35, 99])\n",
      "torch.Size([16, 48, 35]) torch.Size([16, 48, 35]) torch.Size([16, 35, 99])\n",
      "torch.Size([16, 48, 35]) torch.Size([16, 48, 35]) torch.Size([16, 35, 99])\n",
      "torch.Size([16, 48, 35]) torch.Size([16, 48, 35]) torch.Size([16, 35, 99])\n",
      "torch.Size([16, 48, 35]) torch.Size([16, 48, 35]) torch.Size([16, 35, 99])\n",
      "torch.Size([16, 48, 35]) torch.Size([16, 48, 35]) torch.Size([16, 35, 99])\n",
      "torch.Size([16, 48, 35]) torch.Size([16, 48, 35]) torch.Size([16, 35, 99])\n",
      "torch.Size([16, 48, 35]) torch.Size([16, 48, 35]) torch.Size([16, 35, 99])\n",
      "torch.Size([16, 48, 35]) torch.Size([16, 48, 35]) torch.Size([16, 35, 99])\n",
      "torch.Size([16, 48, 35]) torch.Size([16, 48, 35]) torch.Size([16, 35, 99])\n",
      "torch.Size([16, 48, 35]) torch.Size([16, 48, 35]) torch.Size([16, 35, 99])\n",
      "torch.Size([16, 48, 35]) torch.Size([16, 48, 35]) torch.Size([16, 35, 99])\n",
      "torch.Size([16, 48, 35]) torch.Size([16, 48, 35]) torch.Size([16, 35, 99])\n",
      "torch.Size([16, 48, 35]) torch.Size([16, 48, 35]) torch.Size([16, 35, 99])\n",
      "torch.Size([16, 48, 35]) torch.Size([16, 48, 35]) torch.Size([16, 35, 99])\n",
      "torch.Size([16, 48, 35]) torch.Size([16, 48, 35]) torch.Size([16, 35, 99])\n",
      "torch.Size([16, 48, 35]) torch.Size([16, 48, 35]) torch.Size([16, 35, 99])\n",
      "torch.Size([16, 48, 35]) torch.Size([16, 48, 35]) torch.Size([16, 35, 99])\n",
      "torch.Size([16, 48, 35]) torch.Size([16, 48, 35]) torch.Size([16, 35, 99])\n",
      "torch.Size([16, 48, 35]) torch.Size([16, 48, 35]) torch.Size([16, 35, 99])\n",
      "torch.Size([16, 48, 35]) torch.Size([16, 48, 35]) torch.Size([16, 35, 99])\n",
      "torch.Size([16, 48, 35]) torch.Size([16, 48, 35]) torch.Size([16, 35, 99])\n",
      "torch.Size([16, 48, 35]) torch.Size([16, 48, 35]) torch.Size([16, 35, 99])\n",
      "torch.Size([16, 48, 35]) torch.Size([16, 48, 35]) torch.Size([16, 35, 99])\n",
      "torch.Size([16, 48, 35]) torch.Size([16, 48, 35]) torch.Size([16, 35, 99])\n",
      "torch.Size([16, 48, 35]) torch.Size([16, 48, 35]) torch.Size([16, 35, 99])\n",
      "torch.Size([16, 48, 35]) torch.Size([16, 48, 35]) torch.Size([16, 35, 99])\n",
      "torch.Size([16, 48, 35]) torch.Size([16, 48, 35]) torch.Size([16, 35, 99])\n",
      "torch.Size([5, 48, 35]) torch.Size([5, 48, 35]) torch.Size([5, 35, 99])\n"
     ]
    }
   ],
   "source": [
    "for (x, y, z) in  train_loader:\n",
    "    print(x.shape, y.shape, z.shape)"
   ]
  },
  {
   "cell_type": "code",
   "execution_count": 59,
   "metadata": {},
   "outputs": [],
   "source": [
    "from utils.utils import load_model\n",
    "from utils.model import TimeAutoencoder\n",
    "import matplotlib.pyplot as plt"
   ]
  },
  {
   "cell_type": "code",
   "execution_count": 89,
   "metadata": {},
   "outputs": [],
   "source": [
    "seq_len = 35\n",
    "hidden_size = 30\n",
    "autoencoder = TimeAutoencoder(seq_len, hidden_size)\n",
    "load_model(autoencoder, 'autoencoder_{}_{}.pt'.format(seq_len, hidden_size))"
   ]
  },
  {
   "cell_type": "code",
   "execution_count": 107,
   "metadata": {},
   "outputs": [
    {
     "data": {
      "image/png": "[encoded data removed]",
      "text/plain": [
       "<Figure size 432x288 with 1 Axes>"
      ]
     },
     "metadata": {
      "needs_background": "light"
     },
     "output_type": "display_data"
    }
   ],
   "source": [
    "joint_index = 0\n",
    "\n",
    "some_seq = next(iter(train_loader))[1]\n",
    "some_reconstruction = autoencoder(some_seq)[0].detach()\n",
    "plt.plot(some_seq[0, joint_index, :], c='blue', label='GT')\n",
    "plt.plot(some_reconstruction[0, joint_index, :], c='red', label='reconstruction')\n",
    "plt.legend()\n",
    "plt.show()"
   ]
  },
  {
   "cell_type": "code",
   "execution_count": 88,
   "metadata": {},
   "outputs": [
    {
     "data": {
      "image/png": "[encoded data removed]",
      "text/plain": [
       "<Figure size 432x288 with 1 Axes>"
      ]
     },
     "metadata": {
      "needs_background": "light"
     },
     "output_type": "display_data"
    }
   ],
   "source": [
    "plt.plot(some_seq[0, joint_index, :], c='blue', label='GT', alpha=0.5)\n",
    "plt.legend()\n",
    "plt.show()"
   ]
  },
  {
   "cell_type": "code",
   "execution_count": 87,
   "metadata": {},
   "outputs": [
    {
     "data": {
      "text/plain": [
       "[<matplotlib.lines.Line2D at 0x7f0ca6b10450>]"
      ]
     },
     "execution_count": 87,
     "metadata": {},
     "output_type": "execute_result"
    },
    {
     "data": {
      "image/png": "[encoded data removed]",
      "text/plain": [
       "<Figure size 432x288 with 1 Axes>"
      ]
     },
     "metadata": {
      "needs_background": "light"
     },
     "output_type": "display_data"
    }
   ],
   "source": [
    "plt.plot(some_reconstruction[0, joint_index, :], c='red', label='reconstruction', alpha=0.5)\n"
   ]
  }
 ],
 "metadata": {
  "kernelspec": {
   "display_name": "maowei",
   "language": "python",
   "name": "maowei"
  },
  "language_info": {
   "codemirror_mode": {
    "name": "ipython",
    "version": 3
   },
   "file_extension": ".py",
   "mimetype": "text/x-python",
   "name": "python",
   "nbconvert_exporter": "python",
   "pygments_lexer": "ipython3",
   "version": "3.7.4"
  }
 },
 "nbformat": 4,
 "nbformat_minor": 2
}
