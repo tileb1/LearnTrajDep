{
 "cells": [
  {
   "cell_type": "code",
   "execution_count": 1,
   "metadata": {},
   "outputs": [],
   "source": [
    "from utils.h36motion import H36motion\n",
    "from torch.utils.data import DataLoader"
   ]
  },
  {
   "cell_type": "code",
   "execution_count": 2,
   "metadata": {},
   "outputs": [],
   "source": [
    "input_n = 10\n",
    "output_n = 25"
   ]
  },
  {
   "cell_type": "code",
   "execution_count": 3,
   "metadata": {},
   "outputs": [
    {
     "name": "stdout",
     "output_type": "stream",
     "text": [
      "Reading subject 1, action walking, subaction 1\n",
      "Reading subject 1, action walking, subaction 2\n",
      "Reading subject 1, action eating, subaction 1\n",
      "Reading subject 1, action eating, subaction 2\n",
      "Reading subject 1, action smoking, subaction 1\n",
      "Reading subject 1, action smoking, subaction 2\n",
      "Reading subject 1, action discussion, subaction 1\n",
      "Reading subject 1, action discussion, subaction 2\n",
      "Reading subject 1, action directions, subaction 1\n",
      "Reading subject 1, action directions, subaction 2\n",
      "Reading subject 1, action greeting, subaction 1\n",
      "Reading subject 1, action greeting, subaction 2\n",
      "Reading subject 1, action phoning, subaction 1\n",
      "Reading subject 1, action phoning, subaction 2\n",
      "Reading subject 1, action posing, subaction 1\n",
      "Reading subject 1, action posing, subaction 2\n",
      "Reading subject 1, action purchases, subaction 1\n",
      "Reading subject 1, action purchases, subaction 2\n",
      "Reading subject 1, action sitting, subaction 1\n",
      "Reading subject 1, action sitting, subaction 2\n",
      "Reading subject 1, action sittingdown, subaction 1\n",
      "Reading subject 1, action sittingdown, subaction 2\n",
      "Reading subject 1, action takingphoto, subaction 1\n",
      "Reading subject 1, action takingphoto, subaction 2\n",
      "Reading subject 1, action waiting, subaction 1\n",
      "Reading subject 1, action waiting, subaction 2\n",
      "Reading subject 1, action walkingdog, subaction 1\n",
      "Reading subject 1, action walkingdog, subaction 2\n",
      "Reading subject 1, action walkingtogether, subaction 1\n",
      "Reading subject 1, action walkingtogether, subaction 2\n",
      "Reading subject 6, action walking, subaction 1\n",
      "Reading subject 6, action walking, subaction 2\n",
      "Reading subject 6, action eating, subaction 1\n",
      "Reading subject 6, action eating, subaction 2\n",
      "Reading subject 6, action smoking, subaction 1\n",
      "Reading subject 6, action smoking, subaction 2\n",
      "Reading subject 6, action discussion, subaction 1\n",
      "Reading subject 6, action discussion, subaction 2\n",
      "Reading subject 6, action directions, subaction 1\n",
      "Reading subject 6, action directions, subaction 2\n",
      "Reading subject 6, action greeting, subaction 1\n",
      "Reading subject 6, action greeting, subaction 2\n",
      "Reading subject 6, action phoning, subaction 1\n",
      "Reading subject 6, action phoning, subaction 2\n",
      "Reading subject 6, action posing, subaction 1\n",
      "Reading subject 6, action posing, subaction 2\n",
      "Reading subject 6, action purchases, subaction 1\n",
      "Reading subject 6, action purchases, subaction 2\n",
      "Reading subject 6, action sitting, subaction 1\n",
      "Reading subject 6, action sitting, subaction 2\n",
      "Reading subject 6, action sittingdown, subaction 1\n",
      "Reading subject 6, action sittingdown, subaction 2\n",
      "Reading subject 6, action takingphoto, subaction 1\n",
      "Reading subject 6, action takingphoto, subaction 2\n",
      "Reading subject 6, action waiting, subaction 1\n",
      "Reading subject 6, action waiting, subaction 2\n",
      "Reading subject 6, action walkingdog, subaction 1\n",
      "Reading subject 6, action walkingdog, subaction 2\n",
      "Reading subject 6, action walkingtogether, subaction 1\n",
      "Reading subject 6, action walkingtogether, subaction 2\n",
      "Reading subject 7, action walking, subaction 1\n",
      "Reading subject 7, action walking, subaction 2\n",
      "Reading subject 7, action eating, subaction 1\n",
      "Reading subject 7, action eating, subaction 2\n",
      "Reading subject 7, action smoking, subaction 1\n",
      "Reading subject 7, action smoking, subaction 2\n",
      "Reading subject 7, action discussion, subaction 1\n",
      "Reading subject 7, action discussion, subaction 2\n",
      "Reading subject 7, action directions, subaction 1\n",
      "Reading subject 7, action directions, subaction 2\n",
      "Reading subject 7, action greeting, subaction 1\n",
      "Reading subject 7, action greeting, subaction 2\n",
      "Reading subject 7, action phoning, subaction 1\n",
      "Reading subject 7, action phoning, subaction 2\n",
      "Reading subject 7, action posing, subaction 1\n",
      "Reading subject 7, action posing, subaction 2\n",
      "Reading subject 7, action purchases, subaction 1\n",
      "Reading subject 7, action purchases, subaction 2\n",
      "Reading subject 7, action sitting, subaction 1\n",
      "Reading subject 7, action sitting, subaction 2\n",
      "Reading subject 7, action sittingdown, subaction 1\n",
      "Reading subject 7, action sittingdown, subaction 2\n",
      "Reading subject 7, action takingphoto, subaction 1\n",
      "Reading subject 7, action takingphoto, subaction 2\n",
      "Reading subject 7, action waiting, subaction 1\n",
      "Reading subject 7, action waiting, subaction 2\n",
      "Reading subject 7, action walkingdog, subaction 1\n",
      "Reading subject 7, action walkingdog, subaction 2\n",
      "Reading subject 7, action walkingtogether, subaction 1\n",
      "Reading subject 7, action walkingtogether, subaction 2\n",
      "Reading subject 8, action walking, subaction 1\n",
      "Reading subject 8, action walking, subaction 2\n",
      "Reading subject 8, action eating, subaction 1\n",
      "Reading subject 8, action eating, subaction 2\n",
      "Reading subject 8, action smoking, subaction 1\n",
      "Reading subject 8, action smoking, subaction 2\n",
      "Reading subject 8, action discussion, subaction 1\n",
      "Reading subject 8, action discussion, subaction 2\n",
      "Reading subject 8, action directions, subaction 1\n",
      "Reading subject 8, action directions, subaction 2\n",
      "Reading subject 8, action greeting, subaction 1\n",
      "Reading subject 8, action greeting, subaction 2\n",
      "Reading subject 8, action phoning, subaction 1\n",
      "Reading subject 8, action phoning, subaction 2\n",
      "Reading subject 8, action posing, subaction 1\n",
      "Reading subject 8, action posing, subaction 2\n",
      "Reading subject 8, action purchases, subaction 1\n",
      "Reading subject 8, action purchases, subaction 2\n",
      "Reading subject 8, action sitting, subaction 1\n",
      "Reading subject 8, action sitting, subaction 2\n",
      "Reading subject 8, action sittingdown, subaction 1\n",
      "Reading subject 8, action sittingdown, subaction 2\n",
      "Reading subject 8, action takingphoto, subaction 1\n",
      "Reading subject 8, action takingphoto, subaction 2\n",
      "Reading subject 8, action waiting, subaction 1\n",
      "Reading subject 8, action waiting, subaction 2\n",
      "Reading subject 8, action walkingdog, subaction 1\n",
      "Reading subject 8, action walkingdog, subaction 2\n",
      "Reading subject 8, action walkingtogether, subaction 1\n",
      "Reading subject 8, action walkingtogether, subaction 2\n",
      "Reading subject 9, action walking, subaction 1\n",
      "Reading subject 9, action walking, subaction 2\n",
      "Reading subject 9, action eating, subaction 1\n",
      "Reading subject 9, action eating, subaction 2\n",
      "Reading subject 9, action smoking, subaction 1\n",
      "Reading subject 9, action smoking, subaction 2\n",
      "Reading subject 9, action discussion, subaction 1\n",
      "Reading subject 9, action discussion, subaction 2\n",
      "Reading subject 9, action directions, subaction 1\n",
      "Reading subject 9, action directions, subaction 2\n",
      "Reading subject 9, action greeting, subaction 1\n",
      "Reading subject 9, action greeting, subaction 2\n",
      "Reading subject 9, action phoning, subaction 1\n",
      "Reading subject 9, action phoning, subaction 2\n",
      "Reading subject 9, action posing, subaction 1\n",
      "Reading subject 9, action posing, subaction 2\n",
      "Reading subject 9, action purchases, subaction 1\n",
      "Reading subject 9, action purchases, subaction 2\n",
      "Reading subject 9, action sitting, subaction 1\n",
      "Reading subject 9, action sitting, subaction 2\n",
      "Reading subject 9, action sittingdown, subaction 1\n",
      "Reading subject 9, action sittingdown, subaction 2\n",
      "Reading subject 9, action takingphoto, subaction 1\n",
      "Reading subject 9, action takingphoto, subaction 2\n",
      "Reading subject 9, action waiting, subaction 1\n",
      "Reading subject 9, action waiting, subaction 2\n",
      "Reading subject 9, action walkingdog, subaction 1\n",
      "Reading subject 9, action walkingdog, subaction 2\n",
      "Reading subject 9, action walkingtogether, subaction 1\n",
      "Reading subject 9, action walkingtogether, subaction 2\n"
     ]
    }
   ],
   "source": [
    "train_dataset = H36motion(path_to_data='./h3.6m/dataset', actions='all', input_n=input_n, output_n=output_n,\n",
    "                          split=0, sample_rate=2)"
   ]
  },
  {
   "cell_type": "code",
   "execution_count": 4,
   "metadata": {},
   "outputs": [],
   "source": [
    "train_loader = DataLoader(\n",
    "    dataset=train_dataset,\n",
    "    batch_size=16,\n",
    "    shuffle=True,\n",
    "    num_workers=8,\n",
    "    pin_memory=True)"
   ]
  },
  {
   "cell_type": "code",
   "execution_count": 5,
   "metadata": {},
   "outputs": [],
   "source": [
    "from utils.utils import load_model\n",
    "from utils.model import TimeAutoencoder\n",
    "import matplotlib.pyplot as plt\n",
    "import numpy as np"
   ]
  },
  {
   "cell_type": "code",
   "execution_count": 36,
   "metadata": {},
   "outputs": [],
   "source": [
    "seq_len = 35\n",
    "hidden_size = 30\n",
    "autoencoder = TimeAutoencoder(seq_len, hidden_size)\n",
    "load_model(autoencoder, 'autoencoder_{}_{}.pt'.format(seq_len, hidden_size))\n",
    "\n",
    "autoencoder_smoothingloss = TimeAutoencoder(seq_len, hidden_size)\n",
    "load_model(autoencoder, 'autoencoder_{}_{}_smoothingloss.pt'.format(seq_len, hidden_size))"
   ]
  },
  {
   "cell_type": "code",
   "execution_count": 71,
   "metadata": {},
   "outputs": [
    {
     "data": {
      "image/png": "[encoded data removed]",
      "text/plain": [
       "<Figure size 432x288 with 1 Axes>"
      ]
     },
     "metadata": {
      "needs_background": "light"
     },
     "output_type": "display_data"
    }
   ],
   "source": [
    "joint_index = np.random.randint(0, 48)\n",
    "\n",
    "some_seq = next(iter(train_loader))[1]\n",
    "some_reconstruction = autoencoder(some_seq)[0].detach()\n",
    "some_reconstruction_smoothingloss = autoencoder_smoothingloss(some_seq)[0].detach()\n",
    "plt.plot(some_seq[0, joint_index, :], c='blue', label='GT')\n",
    "plt.plot(some_reconstruction[0, joint_index, :], c='red', label='reconstruction')\n",
    "plt.plot(some_reconstruction_smoothingloss[0, joint_index, :], c='orange', label='reconstruction_smoothingloss')\n",
    "\n",
    "plt.legend()\n",
    "plt.show()"
   ]
  },
  {
   "cell_type": "code",
   "execution_count": 75,
   "metadata": {},
   "outputs": [
    {
     "data": {
      "text/plain": [
       "[<matplotlib.lines.Line2D at 0x7fb497c5af50>]"
      ]
     },
     "execution_count": 75,
     "metadata": {},
     "output_type": "execute_result"
    },
    {
     "data": {
      "image/png": "[encoded data removed]",
      "text/plain": [
       "<Figure size 432x288 with 1 Axes>"
      ]
     },
     "metadata": {
      "needs_background": "light"
     },
     "output_type": "display_data"
    }
   ],
   "source": [
    "plt.plot(some_seq[0, 0, :])"
   ]
  },
  {
   "cell_type": "code",
   "execution_count": 136,
   "metadata": {},
   "outputs": [
    {
     "data": {
      "text/plain": [
       "torch.Size([35, 48])"
      ]
     },
     "execution_count": 136,
     "metadata": {},
     "output_type": "execute_result"
    }
   ],
   "source": [
    "testtensor.shape"
   ]
  },
  {
   "cell_type": "code",
   "execution_count": 137,
   "metadata": {},
   "outputs": [
    {
     "data": {
      "text/plain": [
       "(31, 48)"
      ]
     },
     "execution_count": 137,
     "metadata": {},
     "output_type": "execute_result"
    }
   ],
   "source": [
    "testtensor = some_seq[0].transpose(0, 1)\n",
    "win3 = np.hamming(5)\n",
    "win3 = win3 / win3.sum()\n",
    "np.apply_along_axis(lambda x: np.convolve(x, win3, \"valid\"), 0, testtensor).shape"
   ]
  },
  {
   "cell_type": "code",
   "execution_count": 127,
   "metadata": {},
   "outputs": [
    {
     "data": {
      "text/plain": [
       "<matplotlib.legend.Legend at 0x7fb4b56c7210>"
      ]
     },
     "execution_count": 127,
     "metadata": {},
     "output_type": "execute_result"
    },
    {
     "data": {
      "image/png": "[encoded data removed]",
      "text/plain": [
       "<Figure size 432x288 with 1 Axes>"
      ]
     },
     "metadata": {
      "needs_background": "light"
     },
     "output_type": "display_data"
    }
   ],
   "source": [
    "some_seq = next(iter(train_loader))[1]\n",
    "win5 = np.hamming(5)\n",
    "win5 = win5 / win5.sum()\n",
    "smoothed3 = np.convolve(some_seq[0, joint_index, :], win3, \"same\")\n",
    "smoothed5 = np.convolve(some_seq[0, joint_index, :], win5, \"same\")\n",
    "plt.plot(smoothed3, label='win3')\n",
    "plt.plot(smoothed5, label='win5')\n",
    "plt.plot(some_seq[0, joint_index, :], label='GT')\n",
    "plt.legend()"
   ]
  },
  {
   "cell_type": "code",
   "execution_count": 64,
   "metadata": {},
   "outputs": [
    {
     "ename": "NameError",
     "evalue": "name 'poses_end_joints' is not defined",
     "output_type": "error",
     "traceback": [
      "\u001b[0;31m---------------------------------------------------------------------------\u001b[0m",
      "\u001b[0;31mNameError\u001b[0m                                 Traceback (most recent call last)",
      "\u001b[0;32m<ipython-input-64-e8375362c1a5>\u001b[0m in \u001b[0;36m<module>\u001b[0;34m\u001b[0m\n\u001b[1;32m      2\u001b[0m \u001b[0mplt\u001b[0m\u001b[0;34m.\u001b[0m\u001b[0mplot\u001b[0m\u001b[0;34m(\u001b[0m\u001b[0mhamming_window\u001b[0m\u001b[0;34m)\u001b[0m\u001b[0;34m\u001b[0m\u001b[0;34m\u001b[0m\u001b[0m\n\u001b[1;32m      3\u001b[0m \u001b[0;34m\u001b[0m\u001b[0m\n\u001b[0;32m----> 4\u001b[0;31m \u001b[0mconvolved_poses\u001b[0m \u001b[0;34m=\u001b[0m \u001b[0mnp\u001b[0m\u001b[0;34m.\u001b[0m\u001b[0mzeros\u001b[0m\u001b[0;34m(\u001b[0m\u001b[0mposes_end_joints\u001b[0m\u001b[0;34m.\u001b[0m\u001b[0mshape\u001b[0m\u001b[0;34m)\u001b[0m\u001b[0;34m\u001b[0m\u001b[0;34m\u001b[0m\u001b[0m\n\u001b[0m\u001b[1;32m      5\u001b[0m \u001b[0;32mfor\u001b[0m \u001b[0mjoint\u001b[0m \u001b[0;32min\u001b[0m \u001b[0mrange\u001b[0m\u001b[0;34m(\u001b[0m\u001b[0mposes_end_joints\u001b[0m\u001b[0;34m.\u001b[0m\u001b[0mshape\u001b[0m\u001b[0;34m[\u001b[0m\u001b[0;36m2\u001b[0m\u001b[0;34m]\u001b[0m\u001b[0;34m)\u001b[0m\u001b[0;34m:\u001b[0m\u001b[0;34m\u001b[0m\u001b[0;34m\u001b[0m\u001b[0m\n\u001b[1;32m      6\u001b[0m     \u001b[0;32mfor\u001b[0m \u001b[0mcoord\u001b[0m \u001b[0;32min\u001b[0m \u001b[0mrange\u001b[0m\u001b[0;34m(\u001b[0m\u001b[0;36m3\u001b[0m\u001b[0;34m)\u001b[0m\u001b[0;34m:\u001b[0m\u001b[0;34m\u001b[0m\u001b[0;34m\u001b[0m\u001b[0m\n",
      "\u001b[0;31mNameError\u001b[0m: name 'poses_end_joints' is not defined"
     ]
    },
    {
     "data": {
      "image/png": "[encoded data removed]",
      "text/plain": [
       "<Figure size 432x288 with 1 Axes>"
      ]
     },
     "metadata": {
      "needs_background": "light"
     },
     "output_type": "display_data"
    }
   ],
   "source": [
    "hamming_window = np.hamming(120)\n",
    "plt.plot(hamming_window)\n",
    "\n",
    "convolved_poses = np.zeros(poses_end_joints.shape)\n",
    "for joint in range(poses_end_joints.shape[1]):\n",
    "    for coord in range(3):\n",
    "        convolved_poses[:,coord,joint] = np.convolve(poses_end_joints[:,coord,joint], hamming_window, \"same\")"
   ]
  },
  {
   "cell_type": "code",
   "execution_count": 65,
   "metadata": {},
   "outputs": [],
   "source": [
    "import pandas as pd"
   ]
  },
  {
   "cell_type": "code",
   "execution_count": 67,
   "metadata": {},
   "outputs": [
    {
     "data": {
      "text/html": [
       "<div>\n",
       "<style scoped>\n",
       "    .dataframe tbody tr th:only-of-type {\n",
       "        vertical-align: middle;\n",
       "    }\n",
       "\n",
       "    .dataframe tbody tr th {\n",
       "        vertical-align: top;\n",
       "    }\n",
       "\n",
       "    .dataframe thead th {\n",
       "        text-align: right;\n",
       "    }\n",
       "</style>\n",
       "<table border=\"1\" class=\"dataframe\">\n",
       "  <thead>\n",
       "    <tr style=\"text-align: right;\">\n",
       "      <th></th>\n",
       "      <th>epoch</th>\n",
       "      <th>lr</th>\n",
       "      <th>t_l</th>\n",
       "      <th>t_e</th>\n",
       "      <th>t_3d</th>\n",
       "      <th>v_e</th>\n",
       "      <th>v_3d</th>\n",
       "      <th>walking80</th>\n",
       "      <th>walking160</th>\n",
       "      <th>walking320</th>\n",
       "      <th>...</th>\n",
       "      <th>walkingdog3d320</th>\n",
       "      <th>walkingdog3d400</th>\n",
       "      <th>walkingdog3d560</th>\n",
       "      <th>walkingdog3d1000</th>\n",
       "      <th>walkingtogether3d80</th>\n",
       "      <th>walkingtogether3d160</th>\n",
       "      <th>walkingtogether3d320</th>\n",
       "      <th>walkingtogether3d400</th>\n",
       "      <th>walkingtogether3d560</th>\n",
       "      <th>walkingtogether3d1000</th>\n",
       "    </tr>\n",
       "  </thead>\n",
       "  <tbody>\n",
       "    <tr>\n",
       "      <td>0</td>\n",
       "      <td>1.0</td>\n",
       "      <td>0.000500</td>\n",
       "      <td>18865.903812</td>\n",
       "      <td>6.722183</td>\n",
       "      <td>430.930961</td>\n",
       "      <td>2.697138</td>\n",
       "      <td>207.633898</td>\n",
       "      <td>2.268476</td>\n",
       "      <td>2.253831</td>\n",
       "      <td>2.259655</td>\n",
       "      <td>...</td>\n",
       "      <td>164.737000</td>\n",
       "      <td>208.462509</td>\n",
       "      <td>191.353729</td>\n",
       "      <td>236.888672</td>\n",
       "      <td>205.417908</td>\n",
       "      <td>214.558060</td>\n",
       "      <td>164.737000</td>\n",
       "      <td>208.462509</td>\n",
       "      <td>191.353729</td>\n",
       "      <td>236.888672</td>\n",
       "    </tr>\n",
       "    <tr>\n",
       "      <td>1</td>\n",
       "      <td>2.0</td>\n",
       "      <td>0.000480</td>\n",
       "      <td>5482.154311</td>\n",
       "      <td>2.429973</td>\n",
       "      <td>189.118478</td>\n",
       "      <td>1.753750</td>\n",
       "      <td>134.646489</td>\n",
       "      <td>1.312699</td>\n",
       "      <td>1.313182</td>\n",
       "      <td>1.388998</td>\n",
       "      <td>...</td>\n",
       "      <td>103.149979</td>\n",
       "      <td>113.610764</td>\n",
       "      <td>148.914230</td>\n",
       "      <td>143.970520</td>\n",
       "      <td>123.203644</td>\n",
       "      <td>110.186981</td>\n",
       "      <td>103.149979</td>\n",
       "      <td>113.610764</td>\n",
       "      <td>148.914230</td>\n",
       "      <td>143.970520</td>\n",
       "    </tr>\n",
       "    <tr>\n",
       "      <td>2</td>\n",
       "      <td>3.0</td>\n",
       "      <td>0.000480</td>\n",
       "      <td>3494.506271</td>\n",
       "      <td>1.731393</td>\n",
       "      <td>125.590169</td>\n",
       "      <td>1.555818</td>\n",
       "      <td>120.685909</td>\n",
       "      <td>1.204563</td>\n",
       "      <td>1.255453</td>\n",
       "      <td>1.280901</td>\n",
       "      <td>...</td>\n",
       "      <td>105.577301</td>\n",
       "      <td>103.194107</td>\n",
       "      <td>113.695084</td>\n",
       "      <td>141.609131</td>\n",
       "      <td>101.171265</td>\n",
       "      <td>100.258850</td>\n",
       "      <td>105.577301</td>\n",
       "      <td>103.194107</td>\n",
       "      <td>113.695084</td>\n",
       "      <td>141.609131</td>\n",
       "    </tr>\n",
       "    <tr>\n",
       "      <td>3</td>\n",
       "      <td>4.0</td>\n",
       "      <td>0.000461</td>\n",
       "      <td>2918.880398</td>\n",
       "      <td>1.582503</td>\n",
       "      <td>108.357313</td>\n",
       "      <td>1.445472</td>\n",
       "      <td>114.225273</td>\n",
       "      <td>1.075818</td>\n",
       "      <td>1.141748</td>\n",
       "      <td>1.186242</td>\n",
       "      <td>...</td>\n",
       "      <td>82.611526</td>\n",
       "      <td>95.218765</td>\n",
       "      <td>106.682655</td>\n",
       "      <td>116.174850</td>\n",
       "      <td>94.828354</td>\n",
       "      <td>102.760986</td>\n",
       "      <td>82.611526</td>\n",
       "      <td>95.218765</td>\n",
       "      <td>106.682655</td>\n",
       "      <td>116.174850</td>\n",
       "    </tr>\n",
       "  </tbody>\n",
       "</table>\n",
       "<p>4 rows × 187 columns</p>\n",
       "</div>"
      ],
      "text/plain": [
       "   epoch        lr           t_l       t_e        t_3d       v_e        v_3d  \\\n",
       "0    1.0  0.000500  18865.903812  6.722183  430.930961  2.697138  207.633898   \n",
       "1    2.0  0.000480   5482.154311  2.429973  189.118478  1.753750  134.646489   \n",
       "2    3.0  0.000480   3494.506271  1.731393  125.590169  1.555818  120.685909   \n",
       "3    4.0  0.000461   2918.880398  1.582503  108.357313  1.445472  114.225273   \n",
       "\n",
       "   walking80  walking160  walking320  ...  walkingdog3d320  walkingdog3d400  \\\n",
       "0   2.268476    2.253831    2.259655  ...       164.737000       208.462509   \n",
       "1   1.312699    1.313182    1.388998  ...       103.149979       113.610764   \n",
       "2   1.204563    1.255453    1.280901  ...       105.577301       103.194107   \n",
       "3   1.075818    1.141748    1.186242  ...        82.611526        95.218765   \n",
       "\n",
       "   walkingdog3d560  walkingdog3d1000  walkingtogether3d80  \\\n",
       "0       191.353729        236.888672           205.417908   \n",
       "1       148.914230        143.970520           123.203644   \n",
       "2       113.695084        141.609131           101.171265   \n",
       "3       106.682655        116.174850            94.828354   \n",
       "\n",
       "   walkingtogether3d160  walkingtogether3d320  walkingtogether3d400  \\\n",
       "0            214.558060            164.737000            208.462509   \n",
       "1            110.186981            103.149979            113.610764   \n",
       "2            100.258850            105.577301            103.194107   \n",
       "3            102.760986             82.611526             95.218765   \n",
       "\n",
       "   walkingtogether3d560  walkingtogether3d1000  \n",
       "0            191.353729             236.888672  \n",
       "1            148.914230             143.970520  \n",
       "2            113.695084             141.609131  \n",
       "3            106.682655             116.174850  \n",
       "\n",
       "[4 rows x 187 columns]"
      ]
     },
     "execution_count": 67,
     "metadata": {},
     "output_type": "execute_result"
    }
   ],
   "source": [
    "pd.read_csv('./checkpoint/test/main_in10_out25_dctn30.csv')"
   ]
  },
  {
   "cell_type": "code",
   "execution_count": null,
   "metadata": {},
   "outputs": [],
   "source": []
  },
  {
   "cell_type": "code",
   "execution_count": null,
   "metadata": {},
   "outputs": [],
   "source": []
  },
  {
   "cell_type": "code",
   "execution_count": null,
   "metadata": {},
   "outputs": [],
   "source": []
  },
  {
   "cell_type": "code",
   "execution_count": null,
   "metadata": {},
   "outputs": [],
   "source": []
  }
 ],
 "metadata": {
  "kernelspec": {
   "display_name": "maowei",
   "language": "python",
   "name": "maowei"
  },
  "language_info": {
   "codemirror_mode": {
    "name": "ipython",
    "version": 3
   },
   "file_extension": ".py",
   "mimetype": "text/x-python",
   "name": "python",
   "nbconvert_exporter": "python",
   "pygments_lexer": "ipython3",
   "version": "3.7.4"
  }
 },
 "nbformat": 4,
 "nbformat_minor": 2
}
