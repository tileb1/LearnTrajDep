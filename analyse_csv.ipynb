{
 "cells": [
  {
   "cell_type": "code",
   "execution_count": 1,
   "metadata": {},
   "outputs": [],
   "source": [
    "import pandas as pd\n",
    "import os\n",
    "from datetime import datetime\n",
    "import utils.data_utils as data_utils\n",
    "from collections import defaultdict\n",
    "\n",
    "LONG_TERM_ACTIONS = ['walking', 'eating', 'smoking', 'discussion']\n",
    "ACTIONS = data_utils.define_actions('all')\n",
    "ACTIONS_CMU = data_utils.define_actions_cmu('all')\n",
    "ACTIONS_CMU.sort(key=len)"
   ]
  },
  {
   "cell_type": "code",
   "execution_count": 7,
   "metadata": {},
   "outputs": [],
   "source": [
    "def csv_iter():\n",
    "    for f in os.listdir('./checkpoint/test'):\n",
    "#         if not f.startswith('5-5-10-10-10-15-15'):\n",
    "#             continue\n",
    "        try:\n",
    "            datetime.strptime(f[-23:-4], \"%d-%m-%Y-%H:%M:%S\")\n",
    "            if f.split('.')[-1] == 'csv':\n",
    "                day = int(f[-23:-21])\n",
    "                if day > 10:\n",
    "                    yield f\n",
    "        except:\n",
    "            pass\n",
    "\n",
    "def extend_df(df, long_term=True):\n",
    "    if long_term:\n",
    "        actions = LONG_TERM_ACTIONS\n",
    "        time_lens = [560, 1000]\n",
    "    else:\n",
    "        actions = ACTIONS\n",
    "        time_lens = [80, 160, 320, 400]\n",
    "    columns_mapping = defaultdict(list)\n",
    "    for time_len in time_lens:\n",
    "        for action_name in actions:\n",
    "            columns_mapping['3d' + str(time_len)].append(action_name + '3d' + str(time_len))\n",
    "            columns_mapping['usingfulltestset_3d' + str(time_len)].append('usingfulltestset_' + action_name + '3d' + str(time_len))\n",
    "\n",
    "    for key in columns_mapping:\n",
    "        df[key] = df[columns_mapping[key]].mean(axis=1)\n",
    "    \n",
    "    return list(columns_mapping.keys())\n",
    "\n",
    "def get_summary_df(merged):\n",
    "    cols = list(set([i[:-5] for i in merged.columns]))\n",
    "    new_cols = []\n",
    "    for col in cols:\n",
    "        col_name = [c for c in merged.columns if c.startswith(col)]\n",
    "        new_cols.append(col+'_mean')\n",
    "        new_cols.append(col+'_std')\n",
    "        merged[col+'_mean'] = merged[col_name].mean(axis=1)\n",
    "        merged[col+'_std'] = merged[col_name].std(axis=1)\n",
    "    return merged[new_cols]"
   ]
  },
  {
   "cell_type": "code",
   "execution_count": 8,
   "metadata": {},
   "outputs": [
    {
     "name": "stdout",
     "output_type": "stream",
     "text": [
      "0 5-5-10-10-10-15-15main_3d_3D_in15_out25_dct_n_30_22-06-2020-16:17:29.csv\n",
      "1 main_3d_3D_in10_out25_dct_n_30_17-06-2020-08:17:49.csv\n",
      "2 5-5-10-10-10-15-15main_3d_3D_in15_out25_dct_n_30_23-06-2020-21:18:06.csv\n",
      "3 5-5-10-10-10main_cmu_3d_3D_in10_out25_dct_n_30_27-06-2020-05:17:54.csv\n"
     ]
    },
    {
     "name": "stderr",
     "output_type": "stream",
     "text": [
      "Exception ignored in: <generator object csv_iter at 0x7fb2d908db50>\n",
      "RuntimeError: generator ignored GeneratorExit\n"
     ]
    },
    {
     "ename": "KeyError",
     "evalue": "'v_3d'",
     "output_type": "error",
     "traceback": [
      "\u001b[0;31m---------------------------------------------------------------------------\u001b[0m",
      "\u001b[0;31mKeyError\u001b[0m                                  Traceback (most recent call last)",
      "\u001b[0;32m<ipython-input-8-95c013ae4d65>\u001b[0m in \u001b[0;36m<module>\u001b[0;34m\u001b[0m\n\u001b[1;32m      4\u001b[0m     \u001b[0mprint\u001b[0m\u001b[0;34m(\u001b[0m\u001b[0mi\u001b[0m\u001b[0;34m,\u001b[0m \u001b[0mf\u001b[0m\u001b[0;34m)\u001b[0m\u001b[0;34m\u001b[0m\u001b[0;34m\u001b[0m\u001b[0m\n\u001b[1;32m      5\u001b[0m     \u001b[0mdf\u001b[0m \u001b[0;34m=\u001b[0m \u001b[0mpd\u001b[0m\u001b[0;34m.\u001b[0m\u001b[0mread_csv\u001b[0m\u001b[0;34m(\u001b[0m\u001b[0mos\u001b[0m\u001b[0;34m.\u001b[0m\u001b[0mpath\u001b[0m\u001b[0;34m.\u001b[0m\u001b[0mjoin\u001b[0m\u001b[0;34m(\u001b[0m\u001b[0;34m'checkpoint/test'\u001b[0m\u001b[0;34m,\u001b[0m \u001b[0;34m\"./\"\u001b[0m\u001b[0;34m,\u001b[0m \u001b[0mf\u001b[0m\u001b[0;34m)\u001b[0m\u001b[0;34m)\u001b[0m\u001b[0;34m\u001b[0m\u001b[0;34m\u001b[0m\u001b[0m\n\u001b[0;32m----> 6\u001b[0;31m     \u001b[0mdf\u001b[0m \u001b[0;34m=\u001b[0m \u001b[0mdf\u001b[0m\u001b[0;34m.\u001b[0m\u001b[0msort_values\u001b[0m\u001b[0;34m(\u001b[0m\u001b[0mby\u001b[0m\u001b[0;34m=\u001b[0m\u001b[0;34m'v_3d'\u001b[0m\u001b[0;34m)\u001b[0m\u001b[0;34m\u001b[0m\u001b[0;34m\u001b[0m\u001b[0m\n\u001b[0m\u001b[1;32m      7\u001b[0m     \u001b[0mdf_lst\u001b[0m\u001b[0;34m.\u001b[0m\u001b[0mappend\u001b[0m\u001b[0;34m(\u001b[0m\u001b[0mdf\u001b[0m\u001b[0;34m[\u001b[0m\u001b[0mextend_df\u001b[0m\u001b[0;34m(\u001b[0m\u001b[0mdf\u001b[0m\u001b[0;34m,\u001b[0m \u001b[0mLONG_TERM_ACTIONS\u001b[0m\u001b[0;34m)\u001b[0m\u001b[0;34m]\u001b[0m\u001b[0;34m.\u001b[0m\u001b[0madd_suffix\u001b[0m\u001b[0;34m(\u001b[0m\u001b[0;34m'_run'\u001b[0m \u001b[0;34m+\u001b[0m \u001b[0mstr\u001b[0m\u001b[0;34m(\u001b[0m\u001b[0mi\u001b[0m\u001b[0;34m)\u001b[0m\u001b[0;34m)\u001b[0m\u001b[0;34m)\u001b[0m\u001b[0;34m\u001b[0m\u001b[0;34m\u001b[0m\u001b[0m\n\u001b[1;32m      8\u001b[0m     \u001b[0mmini_df_lst\u001b[0m\u001b[0;34m.\u001b[0m\u001b[0mappend\u001b[0m\u001b[0;34m(\u001b[0m\u001b[0mdf\u001b[0m\u001b[0;34m[\u001b[0m\u001b[0mextend_df\u001b[0m\u001b[0;34m(\u001b[0m\u001b[0mdf\u001b[0m\u001b[0;34m,\u001b[0m \u001b[0mLONG_TERM_ACTIONS\u001b[0m\u001b[0;34m)\u001b[0m\u001b[0;34m]\u001b[0m\u001b[0;34m.\u001b[0m\u001b[0mhead\u001b[0m\u001b[0;34m(\u001b[0m\u001b[0;36m1\u001b[0m\u001b[0;34m)\u001b[0m\u001b[0;34m.\u001b[0m\u001b[0madd_suffix\u001b[0m\u001b[0;34m(\u001b[0m\u001b[0;34m'_run'\u001b[0m \u001b[0;34m+\u001b[0m \u001b[0mstr\u001b[0m\u001b[0;34m(\u001b[0m\u001b[0mi\u001b[0m\u001b[0;34m)\u001b[0m\u001b[0;34m)\u001b[0m\u001b[0;34m.\u001b[0m\u001b[0mreset_index\u001b[0m\u001b[0;34m(\u001b[0m\u001b[0mdrop\u001b[0m\u001b[0;34m=\u001b[0m\u001b[0;32mTrue\u001b[0m\u001b[0;34m)\u001b[0m\u001b[0;34m)\u001b[0m\u001b[0;34m\u001b[0m\u001b[0;34m\u001b[0m\u001b[0m\n",
      "\u001b[0;32m~/anaconda3/lib/python3.7/site-packages/pandas/core/frame.py\u001b[0m in \u001b[0;36msort_values\u001b[0;34m(self, by, axis, ascending, inplace, kind, na_position)\u001b[0m\n\u001b[1;32m   4991\u001b[0m \u001b[0;34m\u001b[0m\u001b[0m\n\u001b[1;32m   4992\u001b[0m             \u001b[0mby\u001b[0m \u001b[0;34m=\u001b[0m \u001b[0mby\u001b[0m\u001b[0;34m[\u001b[0m\u001b[0;36m0\u001b[0m\u001b[0;34m]\u001b[0m\u001b[0;34m\u001b[0m\u001b[0;34m\u001b[0m\u001b[0m\n\u001b[0;32m-> 4993\u001b[0;31m             \u001b[0mk\u001b[0m \u001b[0;34m=\u001b[0m \u001b[0mself\u001b[0m\u001b[0;34m.\u001b[0m\u001b[0m_get_label_or_level_values\u001b[0m\u001b[0;34m(\u001b[0m\u001b[0mby\u001b[0m\u001b[0;34m,\u001b[0m \u001b[0maxis\u001b[0m\u001b[0;34m=\u001b[0m\u001b[0maxis\u001b[0m\u001b[0;34m)\u001b[0m\u001b[0;34m\u001b[0m\u001b[0;34m\u001b[0m\u001b[0m\n\u001b[0m\u001b[1;32m   4994\u001b[0m \u001b[0;34m\u001b[0m\u001b[0m\n\u001b[1;32m   4995\u001b[0m             \u001b[0;32mif\u001b[0m \u001b[0misinstance\u001b[0m\u001b[0;34m(\u001b[0m\u001b[0mascending\u001b[0m\u001b[0;34m,\u001b[0m \u001b[0;34m(\u001b[0m\u001b[0mtuple\u001b[0m\u001b[0;34m,\u001b[0m \u001b[0mlist\u001b[0m\u001b[0;34m)\u001b[0m\u001b[0;34m)\u001b[0m\u001b[0;34m:\u001b[0m\u001b[0;34m\u001b[0m\u001b[0;34m\u001b[0m\u001b[0m\n",
      "\u001b[0;32m~/anaconda3/lib/python3.7/site-packages/pandas/core/generic.py\u001b[0m in \u001b[0;36m_get_label_or_level_values\u001b[0;34m(self, key, axis)\u001b[0m\n\u001b[1;32m   1772\u001b[0m             \u001b[0mvalues\u001b[0m \u001b[0;34m=\u001b[0m \u001b[0mself\u001b[0m\u001b[0;34m.\u001b[0m\u001b[0maxes\u001b[0m\u001b[0;34m[\u001b[0m\u001b[0maxis\u001b[0m\u001b[0;34m]\u001b[0m\u001b[0;34m.\u001b[0m\u001b[0mget_level_values\u001b[0m\u001b[0;34m(\u001b[0m\u001b[0mkey\u001b[0m\u001b[0;34m)\u001b[0m\u001b[0;34m.\u001b[0m\u001b[0m_values\u001b[0m\u001b[0;34m\u001b[0m\u001b[0;34m\u001b[0m\u001b[0m\n\u001b[1;32m   1773\u001b[0m         \u001b[0;32melse\u001b[0m\u001b[0;34m:\u001b[0m\u001b[0;34m\u001b[0m\u001b[0;34m\u001b[0m\u001b[0m\n\u001b[0;32m-> 1774\u001b[0;31m             \u001b[0;32mraise\u001b[0m \u001b[0mKeyError\u001b[0m\u001b[0;34m(\u001b[0m\u001b[0mkey\u001b[0m\u001b[0;34m)\u001b[0m\u001b[0;34m\u001b[0m\u001b[0;34m\u001b[0m\u001b[0m\n\u001b[0m\u001b[1;32m   1775\u001b[0m \u001b[0;34m\u001b[0m\u001b[0m\n\u001b[1;32m   1776\u001b[0m         \u001b[0;31m# Check for duplicates\u001b[0m\u001b[0;34m\u001b[0m\u001b[0;34m\u001b[0m\u001b[0;34m\u001b[0m\u001b[0m\n",
      "\u001b[0;31mKeyError\u001b[0m: 'v_3d'"
     ]
    }
   ],
   "source": [
    "df_lst = []\n",
    "mini_df_lst = []\n",
    "for i, f in enumerate(csv_iter()):\n",
    "    print(i, f)\n",
    "    df = pd.read_csv(os.path.join('checkpoint/test', \"./\", f))\n",
    "    df = df.sort_values(by='v_3d')\n",
    "    df_lst.append(df[extend_df(df, LONG_TERM_ACTIONS)].add_suffix('_run' + str(i)))\n",
    "    mini_df_lst.append(df[extend_df(df, LONG_TERM_ACTIONS)].head(1).add_suffix('_run' + str(i)).reset_index(drop=True))\n",
    "\n",
    "merged = pd.concat(mini_df_lst, axis=1)"
   ]
  },
  {
   "cell_type": "code",
   "execution_count": 47,
   "metadata": {},
   "outputs": [
    {
     "data": {
      "text/html": [
       "<div>\n",
       "<style scoped>\n",
       "    .dataframe tbody tr th:only-of-type {\n",
       "        vertical-align: middle;\n",
       "    }\n",
       "\n",
       "    .dataframe tbody tr th {\n",
       "        vertical-align: top;\n",
       "    }\n",
       "\n",
       "    .dataframe thead th {\n",
       "        text-align: right;\n",
       "    }\n",
       "</style>\n",
       "<table border=\"1\" class=\"dataframe\">\n",
       "  <thead>\n",
       "    <tr style=\"text-align: right;\">\n",
       "      <th></th>\n",
       "      <th>usingfulltestset_3d560_mean</th>\n",
       "      <th>usingfulltestset_3d560_std</th>\n",
       "      <th>usingfulltestset_3d1000_mean</th>\n",
       "      <th>usingfulltestset_3d1000_std</th>\n",
       "      <th>3d1000_mean</th>\n",
       "      <th>3d1000_std</th>\n",
       "      <th>3d560_mean</th>\n",
       "      <th>3d560_std</th>\n",
       "    </tr>\n",
       "  </thead>\n",
       "  <tbody>\n",
       "    <tr>\n",
       "      <td>0</td>\n",
       "      <td>59.312402</td>\n",
       "      <td>0.171246</td>\n",
       "      <td>79.850457</td>\n",
       "      <td>0.280009</td>\n",
       "      <td>66.508968</td>\n",
       "      <td>1.427072</td>\n",
       "      <td>55.718568</td>\n",
       "      <td>1.006279</td>\n",
       "    </tr>\n",
       "  </tbody>\n",
       "</table>\n",
       "</div>"
      ],
      "text/plain": [
       "   usingfulltestset_3d560_mean  usingfulltestset_3d560_std  \\\n",
       "0                    59.312402                    0.171246   \n",
       "\n",
       "   usingfulltestset_3d1000_mean  usingfulltestset_3d1000_std  3d1000_mean  \\\n",
       "0                     79.850457                     0.280009    66.508968   \n",
       "\n",
       "   3d1000_std  3d560_mean  3d560_std  \n",
       "0    1.427072   55.718568   1.006279  "
      ]
     },
     "execution_count": 47,
     "metadata": {},
     "output_type": "execute_result"
    }
   ],
   "source": [
    "get_summary_df(merged)"
   ]
  },
  {
   "cell_type": "code",
   "execution_count": 48,
   "metadata": {},
   "outputs": [
    {
     "data": {
      "text/html": [
       "<div>\n",
       "<style scoped>\n",
       "    .dataframe tbody tr th:only-of-type {\n",
       "        vertical-align: middle;\n",
       "    }\n",
       "\n",
       "    .dataframe tbody tr th {\n",
       "        vertical-align: top;\n",
       "    }\n",
       "\n",
       "    .dataframe thead th {\n",
       "        text-align: right;\n",
       "    }\n",
       "</style>\n",
       "<table border=\"1\" class=\"dataframe\">\n",
       "  <thead>\n",
       "    <tr style=\"text-align: right;\">\n",
       "      <th></th>\n",
       "      <th>3d560_run0</th>\n",
       "      <th>usingfulltestset_3d560_run0</th>\n",
       "      <th>3d1000_run0</th>\n",
       "      <th>usingfulltestset_3d1000_run0</th>\n",
       "    </tr>\n",
       "  </thead>\n",
       "  <tbody>\n",
       "    <tr>\n",
       "      <td>0</td>\n",
       "      <td>56.14349</td>\n",
       "      <td>59.327828</td>\n",
       "      <td>66.855033</td>\n",
       "      <td>79.628547</td>\n",
       "    </tr>\n",
       "  </tbody>\n",
       "</table>\n",
       "</div>"
      ],
      "text/plain": [
       "   3d560_run0  usingfulltestset_3d560_run0  3d1000_run0  \\\n",
       "0    56.14349                    59.327828    66.855033   \n",
       "\n",
       "   usingfulltestset_3d1000_run0  \n",
       "0                     79.628547  "
      ]
     },
     "execution_count": 48,
     "metadata": {},
     "output_type": "execute_result"
    }
   ],
   "source": [
    "mini_df_lst[0]"
   ]
  },
  {
   "cell_type": "code",
   "execution_count": 49,
   "metadata": {},
   "outputs": [
    {
     "data": {
      "text/html": [
       "<div>\n",
       "<style scoped>\n",
       "    .dataframe tbody tr th:only-of-type {\n",
       "        vertical-align: middle;\n",
       "    }\n",
       "\n",
       "    .dataframe tbody tr th {\n",
       "        vertical-align: top;\n",
       "    }\n",
       "\n",
       "    .dataframe thead th {\n",
       "        text-align: right;\n",
       "    }\n",
       "</style>\n",
       "<table border=\"1\" class=\"dataframe\">\n",
       "  <thead>\n",
       "    <tr style=\"text-align: right;\">\n",
       "      <th></th>\n",
       "      <th>3d560_run1</th>\n",
       "      <th>usingfulltestset_3d560_run1</th>\n",
       "      <th>3d1000_run1</th>\n",
       "      <th>usingfulltestset_3d1000_run1</th>\n",
       "    </tr>\n",
       "  </thead>\n",
       "  <tbody>\n",
       "    <tr>\n",
       "      <td>0</td>\n",
       "      <td>54.224918</td>\n",
       "      <td>59.172015</td>\n",
       "      <td>65.360337</td>\n",
       "      <td>79.474911</td>\n",
       "    </tr>\n",
       "  </tbody>\n",
       "</table>\n",
       "</div>"
      ],
      "text/plain": [
       "   3d560_run1  usingfulltestset_3d560_run1  3d1000_run1  \\\n",
       "0   54.224918                    59.172015    65.360337   \n",
       "\n",
       "   usingfulltestset_3d1000_run1  \n",
       "0                     79.474911  "
      ]
     },
     "execution_count": 49,
     "metadata": {},
     "output_type": "execute_result"
    }
   ],
   "source": [
    "mini_df_lst[1]"
   ]
  },
  {
   "cell_type": "code",
   "execution_count": 50,
   "metadata": {},
   "outputs": [
    {
     "data": {
      "text/html": [
       "<div>\n",
       "<style scoped>\n",
       "    .dataframe tbody tr th:only-of-type {\n",
       "        vertical-align: middle;\n",
       "    }\n",
       "\n",
       "    .dataframe tbody tr th {\n",
       "        vertical-align: top;\n",
       "    }\n",
       "\n",
       "    .dataframe thead th {\n",
       "        text-align: right;\n",
       "    }\n",
       "</style>\n",
       "<table border=\"1\" class=\"dataframe\">\n",
       "  <thead>\n",
       "    <tr style=\"text-align: right;\">\n",
       "      <th></th>\n",
       "      <th>3d560_run2</th>\n",
       "      <th>usingfulltestset_3d560_run2</th>\n",
       "      <th>3d1000_run2</th>\n",
       "      <th>usingfulltestset_3d1000_run2</th>\n",
       "    </tr>\n",
       "  </thead>\n",
       "  <tbody>\n",
       "    <tr>\n",
       "      <td>0</td>\n",
       "      <td>56.904558</td>\n",
       "      <td>59.579918</td>\n",
       "      <td>66.913328</td>\n",
       "      <td>80.102856</td>\n",
       "    </tr>\n",
       "  </tbody>\n",
       "</table>\n",
       "</div>"
      ],
      "text/plain": [
       "   3d560_run2  usingfulltestset_3d560_run2  3d1000_run2  \\\n",
       "0   56.904558                    59.579918    66.913328   \n",
       "\n",
       "   usingfulltestset_3d1000_run2  \n",
       "0                     80.102856  "
      ]
     },
     "execution_count": 50,
     "metadata": {},
     "output_type": "execute_result"
    }
   ],
   "source": [
    "mini_df_lst[2]"
   ]
  },
  {
   "cell_type": "code",
   "execution_count": 51,
   "metadata": {},
   "outputs": [
    {
     "data": {
      "text/html": [
       "<div>\n",
       "<style scoped>\n",
       "    .dataframe tbody tr th:only-of-type {\n",
       "        vertical-align: middle;\n",
       "    }\n",
       "\n",
       "    .dataframe tbody tr th {\n",
       "        vertical-align: top;\n",
       "    }\n",
       "\n",
       "    .dataframe thead th {\n",
       "        text-align: right;\n",
       "    }\n",
       "</style>\n",
       "<table border=\"1\" class=\"dataframe\">\n",
       "  <thead>\n",
       "    <tr style=\"text-align: right;\">\n",
       "      <th></th>\n",
       "      <th>3d560_run3</th>\n",
       "      <th>usingfulltestset_3d560_run3</th>\n",
       "      <th>3d1000_run3</th>\n",
       "      <th>usingfulltestset_3d1000_run3</th>\n",
       "    </tr>\n",
       "  </thead>\n",
       "  <tbody>\n",
       "    <tr>\n",
       "      <td>0</td>\n",
       "      <td>55.995639</td>\n",
       "      <td>59.329523</td>\n",
       "      <td>68.50588</td>\n",
       "      <td>80.015809</td>\n",
       "    </tr>\n",
       "  </tbody>\n",
       "</table>\n",
       "</div>"
      ],
      "text/plain": [
       "   3d560_run3  usingfulltestset_3d560_run3  3d1000_run3  \\\n",
       "0   55.995639                    59.329523     68.50588   \n",
       "\n",
       "   usingfulltestset_3d1000_run3  \n",
       "0                     80.015809  "
      ]
     },
     "execution_count": 51,
     "metadata": {},
     "output_type": "execute_result"
    }
   ],
   "source": [
    "mini_df_lst[3]"
   ]
  },
  {
   "cell_type": "code",
   "execution_count": 52,
   "metadata": {},
   "outputs": [
    {
     "data": {
      "text/html": [
       "<div>\n",
       "<style scoped>\n",
       "    .dataframe tbody tr th:only-of-type {\n",
       "        vertical-align: middle;\n",
       "    }\n",
       "\n",
       "    .dataframe tbody tr th {\n",
       "        vertical-align: top;\n",
       "    }\n",
       "\n",
       "    .dataframe thead th {\n",
       "        text-align: right;\n",
       "    }\n",
       "</style>\n",
       "<table border=\"1\" class=\"dataframe\">\n",
       "  <thead>\n",
       "    <tr style=\"text-align: right;\">\n",
       "      <th></th>\n",
       "      <th>3d560_run4</th>\n",
       "      <th>usingfulltestset_3d560_run4</th>\n",
       "      <th>3d1000_run4</th>\n",
       "      <th>usingfulltestset_3d1000_run4</th>\n",
       "    </tr>\n",
       "  </thead>\n",
       "  <tbody>\n",
       "    <tr>\n",
       "      <td>0</td>\n",
       "      <td>55.324234</td>\n",
       "      <td>59.152728</td>\n",
       "      <td>64.910262</td>\n",
       "      <td>80.030161</td>\n",
       "    </tr>\n",
       "  </tbody>\n",
       "</table>\n",
       "</div>"
      ],
      "text/plain": [
       "   3d560_run4  usingfulltestset_3d560_run4  3d1000_run4  \\\n",
       "0   55.324234                    59.152728    64.910262   \n",
       "\n",
       "   usingfulltestset_3d1000_run4  \n",
       "0                     80.030161  "
      ]
     },
     "execution_count": 52,
     "metadata": {},
     "output_type": "execute_result"
    }
   ],
   "source": [
    "mini_df_lst[4]"
   ]
  },
  {
   "cell_type": "code",
   "execution_count": null,
   "metadata": {},
   "outputs": [],
   "source": [
    "############################################ CMU #########################################################"
   ]
  },
  {
   "cell_type": "code",
   "execution_count": 2,
   "metadata": {},
   "outputs": [],
   "source": [
    "def csv_iter():\n",
    "    for f in os.listdir('./checkpoint/test'):\n",
    "        if f.find('cmu') < 1:\n",
    "            continue\n",
    "        try:\n",
    "            datetime.strptime(f[-23:-4], \"%d-%m-%Y-%H:%M:%S\")\n",
    "            if f.split('.')[-1] == 'csv':\n",
    "                day = int(f[-23:-21])\n",
    "                if day > 10:\n",
    "                    yield f\n",
    "        except:\n",
    "            pass\n",
    "\n",
    "def extend_df(df, long_term=True):\n",
    "#     if long_term:\n",
    "#         actions = LONG_TERM_ACTIONS\n",
    "#         time_lens = [560, 1000]\n",
    "#     else:\n",
    "#         actions = ACTIONS\n",
    "#         time_lens = [80, 160, 320, 400]\n",
    "    time_lens = [80, 160, 320, 400, 560, 1000]\n",
    "    actions = ACTIONS_CMU\n",
    "    columns_mapping = defaultdict(list)\n",
    "    for time_len in time_lens:\n",
    "        for action_name in actions:\n",
    "            columns_mapping['3d' + str(time_len)].append(action_name + '3d' + str(time_len))\n",
    "#             columns_mapping['usingfulltestset_3d' + str(time_len)].append('usingfulltestset_' + action_name + '3d' + str(time_len))\n",
    "\n",
    "    for key in columns_mapping:\n",
    "        df[key] = df[columns_mapping[key]].mean(axis=1)\n",
    "    \n",
    "    return list(columns_mapping.keys())\n",
    "\n",
    "def get_summary_df(merged):\n",
    "    cols = list(set([i[:-5] for i in merged.columns]))\n",
    "    new_cols = []\n",
    "    for col in cols:\n",
    "        col_name = [c for c in merged.columns if c.startswith(col)]\n",
    "        new_cols.append(col+'_mean')\n",
    "        new_cols.append(col+'_std')\n",
    "        merged[col+'_mean'] = merged[col_name].mean(axis=1)\n",
    "        merged[col+'_std'] = merged[col_name].std(axis=1)\n",
    "    return merged[new_cols]"
   ]
  },
  {
   "cell_type": "code",
   "execution_count": 3,
   "metadata": {},
   "outputs": [
    {
     "name": "stdout",
     "output_type": "stream",
     "text": [
      "0 5-5-10-10-10main_cmu_3d_3D_in10_out25_dct_n_30_27-06-2020-05:17:54.csv\n",
      "1 5-5-10-10-10main_cmu_3d_3D_in10_out25_dct_n_30_27-06-2020-00:56:35.csv\n",
      "2 5-5-10-10-10main_cmu_3d_3D_in10_out25_dct_n_30_26-06-2020-22:41:45.csv\n",
      "3 5-5-10-10-10main_cmu_3d_3D_in10_out25_dct_n_30_27-06-2020-03:07:28.csv\n",
      "4 5-5-10-10-10main_cmu_3d_3D_in10_out25_dct_n_30_27-06-2020-07:27:49.csv\n"
     ]
    }
   ],
   "source": [
    "df_lst = []\n",
    "mini_df_lst = []\n",
    "for i, f in enumerate(csv_iter()):\n",
    "    print(i, f)\n",
    "    df = pd.read_csv(os.path.join('checkpoint/test', \"./\", f))\n",
    "    df = df.sort_values(by='t_l')\n",
    "    df_lst.append(df[extend_df(df, LONG_TERM_ACTIONS)].add_suffix('_run' + str(i)))\n",
    "    mini_df_lst.append(df[extend_df(df, LONG_TERM_ACTIONS)].head(1).add_suffix('_run' + str(i)).reset_index(drop=True))\n",
    "\n",
    "merged = pd.concat(mini_df_lst, axis=1)"
   ]
  },
  {
   "cell_type": "code",
   "execution_count": 21,
   "metadata": {},
   "outputs": [
    {
     "name": "stdout",
     "output_type": "stream",
     "text": [
      "0 5-5-10-10-10main_cmu_3d_3D_in10_out25_dct_n_30_27-06-2020-05:17:54.csv\n",
      "1 5-5-10-10-10main_cmu_3d_3D_in10_out25_dct_n_30_27-06-2020-00:56:35.csv\n",
      "2 5-5-10-10-10main_cmu_3d_3D_in10_out25_dct_n_30_26-06-2020-22:41:45.csv\n",
      "3 5-5-10-10-10main_cmu_3d_3D_in10_out25_dct_n_30_27-06-2020-03:07:28.csv\n",
      "4 5-5-10-10-10main_cmu_3d_3D_in10_out25_dct_n_30_27-06-2020-07:27:49.csv\n"
     ]
    }
   ],
   "source": [
    "df_lst = []\n",
    "mini_df_lst = []\n",
    "for i, f in enumerate(csv_iter()):\n",
    "    print(i, f)\n",
    "    df = pd.read_csv(os.path.join('checkpoint/test', \"./\", f))\n",
    "    df = df.sort_values(by='t_l')\n",
    "    extend_df(df, LONG_TERM_ACTIONS)\n",
    "    df = df[['basketball3d80', 'basketball3d160',\n",
    "       'basketball3d320', 'basketball3d400', 'basketball3d560',\n",
    "       'basketball3d1000', 'basketball_signal3d80', 'basketball_signal3d160',\n",
    "       'basketball_signal3d320', 'basketball_signal3d400',\n",
    "       'basketball_signal3d560', 'basketball_signal3d1000',\n",
    "       'directing_traffic3d80', 'directing_traffic3d160',\n",
    "       'directing_traffic3d320', 'directing_traffic3d400',\n",
    "       'directing_traffic3d560', 'directing_traffic3d1000', 'jumping3d80',\n",
    "       'jumping3d160', 'jumping3d320', 'jumping3d400', 'jumping3d560',\n",
    "       'jumping3d1000', 'running3d80', 'running3d160', 'running3d320',\n",
    "       'running3d400', 'running3d560', 'running3d1000', 'soccer3d80',\n",
    "       'soccer3d160', 'soccer3d320', 'soccer3d400', 'soccer3d560',\n",
    "       'soccer3d1000', 'walking3d80', 'walking3d160', 'walking3d320',\n",
    "       'walking3d400', 'walking3d560', 'walking3d1000', 'washwindow3d80',\n",
    "       'washwindow3d160', 'washwindow3d320', 'washwindow3d400',\n",
    "       'washwindow3d560', 'washwindow3d1000', '3d80', '3d160', '3d320',\n",
    "       '3d400', '3d560', '3d1000']]\n",
    "    df = df.head(1).add_suffix('_run' + str(i)).reset_index(drop=True)\n",
    "    mini_df_lst.append(df)\n",
    "\n",
    "merged = pd.concat(mini_df_lst, axis=1)"
   ]
  },
  {
   "cell_type": "code",
   "execution_count": 22,
   "metadata": {},
   "outputs": [
    {
     "data": {
      "text/html": [
       "<div>\n",
       "<style scoped>\n",
       "    .dataframe tbody tr th:only-of-type {\n",
       "        vertical-align: middle;\n",
       "    }\n",
       "\n",
       "    .dataframe tbody tr th {\n",
       "        vertical-align: top;\n",
       "    }\n",
       "\n",
       "    .dataframe thead th {\n",
       "        text-align: right;\n",
       "    }\n",
       "</style>\n",
       "<table border=\"1\" class=\"dataframe\">\n",
       "  <thead>\n",
       "    <tr style=\"text-align: right;\">\n",
       "      <th></th>\n",
       "      <th>basketball3d80_run0</th>\n",
       "      <th>basketball3d160_run0</th>\n",
       "      <th>basketball3d320_run0</th>\n",
       "      <th>basketball3d400_run0</th>\n",
       "      <th>basketball3d560_run0</th>\n",
       "      <th>basketball3d1000_run0</th>\n",
       "      <th>basketball_signal3d80_run0</th>\n",
       "      <th>basketball_signal3d160_run0</th>\n",
       "      <th>basketball_signal3d320_run0</th>\n",
       "      <th>basketball_signal3d400_run0</th>\n",
       "      <th>...</th>\n",
       "      <th>washwindow3d320_run4</th>\n",
       "      <th>washwindow3d400_run4</th>\n",
       "      <th>washwindow3d560_run4</th>\n",
       "      <th>washwindow3d1000_run4</th>\n",
       "      <th>3d80_run4</th>\n",
       "      <th>3d160_run4</th>\n",
       "      <th>3d320_run4</th>\n",
       "      <th>3d400_run4</th>\n",
       "      <th>3d560_run4</th>\n",
       "      <th>3d1000_run4</th>\n",
       "    </tr>\n",
       "  </thead>\n",
       "  <tbody>\n",
       "    <tr>\n",
       "      <td>0</td>\n",
       "      <td>13.308311</td>\n",
       "      <td>23.384243</td>\n",
       "      <td>46.629196</td>\n",
       "      <td>58.205097</td>\n",
       "      <td>76.416893</td>\n",
       "      <td>107.87616</td>\n",
       "      <td>3.395906</td>\n",
       "      <td>6.495772</td>\n",
       "      <td>12.945606</td>\n",
       "      <td>16.926878</td>\n",
       "      <td>...</td>\n",
       "      <td>33.221855</td>\n",
       "      <td>43.872963</td>\n",
       "      <td>55.564011</td>\n",
       "      <td>77.489571</td>\n",
       "      <td>10.862974</td>\n",
       "      <td>19.379491</td>\n",
       "      <td>36.790796</td>\n",
       "      <td>46.252044</td>\n",
       "      <td>63.472875</td>\n",
       "      <td>96.995269</td>\n",
       "    </tr>\n",
       "  </tbody>\n",
       "</table>\n",
       "<p>1 rows × 270 columns</p>\n",
       "</div>"
      ],
      "text/plain": [
       "   basketball3d80_run0  basketball3d160_run0  basketball3d320_run0  \\\n",
       "0            13.308311             23.384243             46.629196   \n",
       "\n",
       "   basketball3d400_run0  basketball3d560_run0  basketball3d1000_run0  \\\n",
       "0             58.205097             76.416893              107.87616   \n",
       "\n",
       "   basketball_signal3d80_run0  basketball_signal3d160_run0  \\\n",
       "0                    3.395906                     6.495772   \n",
       "\n",
       "   basketball_signal3d320_run0  basketball_signal3d400_run0  ...  \\\n",
       "0                    12.945606                    16.926878  ...   \n",
       "\n",
       "   washwindow3d320_run4  washwindow3d400_run4  washwindow3d560_run4  \\\n",
       "0             33.221855             43.872963             55.564011   \n",
       "\n",
       "   washwindow3d1000_run4  3d80_run4  3d160_run4  3d320_run4  3d400_run4  \\\n",
       "0              77.489571  10.862974   19.379491   36.790796   46.252044   \n",
       "\n",
       "   3d560_run4  3d1000_run4  \n",
       "0   63.472875    96.995269  \n",
       "\n",
       "[1 rows x 270 columns]"
      ]
     },
     "execution_count": 22,
     "metadata": {},
     "output_type": "execute_result"
    }
   ],
   "source": [
    "merged"
   ]
  },
  {
   "cell_type": "code",
   "execution_count": 23,
   "metadata": {},
   "outputs": [
    {
     "data": {
      "text/html": [
       "<div>\n",
       "<style scoped>\n",
       "    .dataframe tbody tr th:only-of-type {\n",
       "        vertical-align: middle;\n",
       "    }\n",
       "\n",
       "    .dataframe tbody tr th {\n",
       "        vertical-align: top;\n",
       "    }\n",
       "\n",
       "    .dataframe thead th {\n",
       "        text-align: right;\n",
       "    }\n",
       "</style>\n",
       "<table border=\"1\" class=\"dataframe\">\n",
       "  <thead>\n",
       "    <tr style=\"text-align: right;\">\n",
       "      <th></th>\n",
       "      <th>3d1000_mean</th>\n",
       "      <th>3d160_mean</th>\n",
       "      <th>3d320_mean</th>\n",
       "      <th>3d400_mean</th>\n",
       "      <th>3d560_mean</th>\n",
       "      <th>3d80_mean</th>\n",
       "      <th>basketball3d1000_mean</th>\n",
       "      <th>basketball3d160_mean</th>\n",
       "      <th>basketball3d320_mean</th>\n",
       "      <th>basketball3d400_mean</th>\n",
       "      <th>...</th>\n",
       "      <th>walking3d320_mean</th>\n",
       "      <th>walking3d400_mean</th>\n",
       "      <th>walking3d560_mean</th>\n",
       "      <th>walking3d80_mean</th>\n",
       "      <th>washwindow3d1000_mean</th>\n",
       "      <th>washwindow3d160_mean</th>\n",
       "      <th>washwindow3d320_mean</th>\n",
       "      <th>washwindow3d400_mean</th>\n",
       "      <th>washwindow3d560_mean</th>\n",
       "      <th>washwindow3d80_mean</th>\n",
       "    </tr>\n",
       "  </thead>\n",
       "  <tbody>\n",
       "    <tr>\n",
       "      <td>0</td>\n",
       "      <td>95.706309</td>\n",
       "      <td>19.515544</td>\n",
       "      <td>36.997466</td>\n",
       "      <td>46.200378</td>\n",
       "      <td>62.713289</td>\n",
       "      <td>10.831285</td>\n",
       "      <td>102.04586</td>\n",
       "      <td>22.661903</td>\n",
       "      <td>44.699953</td>\n",
       "      <td>55.68073</td>\n",
       "      <td>...</td>\n",
       "      <td>19.953937</td>\n",
       "      <td>22.894094</td>\n",
       "      <td>27.885699</td>\n",
       "      <td>7.195072</td>\n",
       "      <td>80.47498</td>\n",
       "      <td>12.312403</td>\n",
       "      <td>32.165336</td>\n",
       "      <td>42.629682</td>\n",
       "      <td>54.679941</td>\n",
       "      <td>5.922688</td>\n",
       "    </tr>\n",
       "  </tbody>\n",
       "</table>\n",
       "<p>1 rows × 54 columns</p>\n",
       "</div>"
      ],
      "text/plain": [
       "   3d1000_mean  3d160_mean  3d320_mean  3d400_mean  3d560_mean  3d80_mean  \\\n",
       "0    95.706309   19.515544   36.997466   46.200378   62.713289  10.831285   \n",
       "\n",
       "   basketball3d1000_mean  basketball3d160_mean  basketball3d320_mean  \\\n",
       "0              102.04586             22.661903             44.699953   \n",
       "\n",
       "   basketball3d400_mean  ...  walking3d320_mean  walking3d400_mean  \\\n",
       "0              55.68073  ...          19.953937          22.894094   \n",
       "\n",
       "   walking3d560_mean  walking3d80_mean  washwindow3d1000_mean  \\\n",
       "0          27.885699          7.195072               80.47498   \n",
       "\n",
       "   washwindow3d160_mean  washwindow3d320_mean  washwindow3d400_mean  \\\n",
       "0             12.312403             32.165336             42.629682   \n",
       "\n",
       "   washwindow3d560_mean  washwindow3d80_mean  \n",
       "0             54.679941             5.922688  \n",
       "\n",
       "[1 rows x 54 columns]"
      ]
     },
     "execution_count": 23,
     "metadata": {},
     "output_type": "execute_result"
    }
   ],
   "source": [
    "out = get_summary_df(merged)\n",
    "out[sorted([i for i in out.columns if i[-4:] == 'mean'])]"
   ]
  },
  {
   "cell_type": "code",
   "execution_count": 24,
   "metadata": {},
   "outputs": [
    {
     "data": {
      "text/plain": [
       "['basketball',\n",
       " 'basketball_signal',\n",
       " 'directing_traffic',\n",
       " 'jumping',\n",
       " 'running',\n",
       " 'soccer',\n",
       " 'walking',\n",
       " 'washwindow']"
      ]
     },
     "execution_count": 24,
     "metadata": {},
     "output_type": "execute_result"
    }
   ],
   "source": [
    "sorted(ACTIONS_CMU)"
   ]
  },
  {
   "cell_type": "code",
   "execution_count": 25,
   "metadata": {},
   "outputs": [
    {
     "name": "stdout",
     "output_type": "stream",
     "text": [
      "['basketball3d80_mean', 'basketball3d160_mean', 'basketball3d320_mean', 'basketball3d400_mean', 'basketball3d1000_mean', 'basketball_signal3d80_mean', 'basketball_signal3d160_mean', 'basketball_signal3d320_mean', 'basketball_signal3d400_mean', 'basketball_signal3d1000_mean', 'directing_traffic3d80_mean', 'directing_traffic3d160_mean', 'directing_traffic3d320_mean', 'directing_traffic3d400_mean', 'directing_traffic3d1000_mean', 'jumping3d80_mean', 'jumping3d160_mean', 'jumping3d320_mean', 'jumping3d400_mean', 'jumping3d1000_mean', 'running3d80_mean', 'running3d160_mean', 'running3d320_mean', 'running3d400_mean', 'running3d1000_mean', 'soccer3d80_mean', 'soccer3d160_mean', 'soccer3d320_mean', 'soccer3d400_mean', 'soccer3d1000_mean', 'walking3d80_mean', 'walking3d160_mean', 'walking3d320_mean', 'walking3d400_mean', 'walking3d1000_mean', 'washwindow3d80_mean', 'washwindow3d160_mean', 'washwindow3d320_mean', 'washwindow3d400_mean', 'washwindow3d1000_mean', '3d80_mean', '3d160_mean', '3d320_mean', '3d400_mean', '3d1000_mean']\n"
     ]
    }
   ],
   "source": [
    "my_cols = []\n",
    "for name in sorted(ACTIONS_CMU):\n",
    "    my_cols.append(name + '3d80_mean')\n",
    "    my_cols.append(name + '3d160_mean')\n",
    "    my_cols.append(name + '3d320_mean')\n",
    "    my_cols.append(name + '3d400_mean')\n",
    "    my_cols.append(name + '3d1000_mean')\n",
    "my_cols.append('3d80_mean')\n",
    "my_cols.append('3d160_mean')\n",
    "my_cols.append('3d320_mean')\n",
    "my_cols.append('3d400_mean')\n",
    "my_cols.append('3d1000_mean')\n",
    "print(my_cols)"
   ]
  },
  {
   "cell_type": "code",
   "execution_count": 35,
   "metadata": {},
   "outputs": [
    {
     "data": {
      "text/plain": [
       "['102.0', '57.0', '138.3', '163.5', '62.6', '122.1', '39.3', '80.4', '95.7']"
      ]
     },
     "execution_count": 35,
     "metadata": {},
     "output_type": "execute_result"
    }
   ],
   "source": [
    "values = [str(i).split('.')[0] + '.' + str(i).split('.')[1][:1] for i in list(out[my_cols].iloc[0])]\n",
    "# print('&'.join(values[:20]))\n",
    "# print()\n",
    "# print('&'.join(values[20:]))\n",
    "values[4::5]"
   ]
  },
  {
   "cell_type": "code",
   "execution_count": 18,
   "metadata": {},
   "outputs": [
    {
     "name": "stdout",
     "output_type": "stream",
     "text": [
      "   soccer3d80_mean  soccer3d160_mean  soccer3d320_mean  soccer3d400_mean  \\\n",
      "0         11.23921         22.198215         45.166055         58.181467   \n",
      "\n",
      "   soccer3d1000_mean  \n",
      "0         122.171361  \n",
      "\n",
      "\n",
      "\n",
      "\n",
      "   jumping3d80_mean  jumping3d160_mean  jumping3d320_mean  jumping3d400_mean  \\\n",
      "0         14.857477          31.113573          71.207083          91.350748   \n",
      "\n",
      "   jumping3d1000_mean  \n",
      "0          163.593665  \n",
      "\n",
      "\n",
      "\n",
      "\n",
      "   running3d80_mean  running3d160_mean  running3d320_mean  running3d400_mean  \\\n",
      "0          24.51249          37.010357            39.9759          41.910265   \n",
      "\n",
      "   running3d1000_mean  \n",
      "0           62.642335  \n",
      "\n",
      "\n",
      "\n",
      "\n",
      "   walking3d80_mean  walking3d160_mean  walking3d320_mean  walking3d400_mean  \\\n",
      "0          7.195072          11.109052          19.953937          22.894094   \n",
      "\n",
      "   walking3d1000_mean  \n",
      "0           39.348861  \n",
      "\n",
      "\n",
      "\n",
      "\n",
      "   basketball3d80_mean  basketball3d160_mean  basketball3d320_mean  \\\n",
      "0            12.763901             22.661903             44.699953   \n",
      "\n",
      "   basketball3d400_mean  basketball3d1000_mean  \n",
      "0              55.68073              102.04586  \n",
      "\n",
      "\n",
      "\n",
      "\n",
      "   washwindow3d80_mean  washwindow3d160_mean  washwindow3d320_mean  \\\n",
      "0             5.922688             12.312403             32.165336   \n",
      "\n",
      "   washwindow3d400_mean  washwindow3d1000_mean  \n",
      "0             42.629682               80.47498  \n",
      "\n",
      "\n",
      "\n",
      "\n",
      "   basketball_signal3d80_mean  basketball_signal3d160_mean  \\\n",
      "0                    3.043491                     5.603056   \n",
      "\n",
      "   basketball_signal3d320_mean  basketball_signal3d400_mean  \\\n",
      "0                    11.637839                    15.516144   \n",
      "\n",
      "   basketball_signal3d1000_mean  \n",
      "0                     57.016085  \n",
      "\n",
      "\n",
      "\n",
      "\n",
      "   directing_traffic3d80_mean  directing_traffic3d160_mean  \\\n",
      "0                    7.115954                    14.115793   \n",
      "\n",
      "   directing_traffic3d320_mean  directing_traffic3d400_mean  \\\n",
      "0                    31.173621                    41.439893   \n",
      "\n",
      "   directing_traffic3d1000_mean  \n",
      "0                    138.357324  \n",
      "\n",
      "\n",
      "\n",
      "\n",
      "   3d80_mean  3d160_mean  3d320_mean  3d400_mean  3d1000_mean\n",
      "0  10.831285   19.515544   36.997466   46.200378    95.706309\n",
      "\n",
      "\n",
      "\n",
      "\n"
     ]
    }
   ],
   "source": [
    "from itertools import chain\n",
    "sorted_cols = []\n",
    "for actions in chain(ACTIONS_CMU, ['']):\n",
    "    cols = []\n",
    "    for time_len in [80, 160, 320, 400, 1000]:\n",
    "        cols.append(actions + '3d' + str(time_len) + '_mean')\n",
    "    print(out[cols])\n",
    "    print('\\n'*3)"
   ]
  },
  {
   "cell_type": "code",
   "execution_count": 62,
   "metadata": {},
   "outputs": [
    {
     "data": {
      "text/html": [
       "<style>.container { width:100% !important; }</style>"
      ],
      "text/plain": [
       "<IPython.core.display.HTML object>"
      ]
     },
     "metadata": {},
     "output_type": "display_data"
    }
   ],
   "source": [
    "from IPython.core.display import display, HTML\n",
    "display(HTML(\"<style>.container { width:100% !important; }</style>\"))"
   ]
  },
  {
   "cell_type": "code",
   "execution_count": 36,
   "metadata": {},
   "outputs": [
    {
     "name": "stdout",
     "output_type": "stream",
     "text": [
      "['18.4', '33.8', '59.5', '70.5', '106.7', '12.7', '23.8', '40.3', '46.7', '77.5', '15.2', '29.6', '55.1', '66.1', '127.1', '36.0', '68.7', '125.0', '145.5', '195.5', '15.6', '19.4', '31.2', '36.2', '43.3']\n",
      "['16.7', '30.5', '53.8', '64.3', '91.5', '8.4', '16.2', '30.8', '37.8', '76.5', '10.6', '20.3', '38.7', '48.4', '115.5', '22.4', '44.0', '87.5', '106.3', '162.6', '14.3', '16.3', '18.0', '20.2', '27.5']\n",
      "['14.0', '25.4', '49.6', '61.4', '106.1', '3.5', '6.1', '11.7', '15.2', '53.9', '7.4', '15.1', '31.7', '42.2', '152.4', '16.9', '34.4', '76.3', '96.8', '164.6', '25.5', '36.7', '39.3', '39.9', '58.2']\n",
      "\n",
      "\n",
      "['20.3', '39.5', '71.3', '84', '129.6', '8.2', '13.7', '21.9', '24.5', '32.2', '8.4', '15.8', '29.3', '35.4', '61.1', '16.8', '30.5', '54.2', '63.6', '77.8']\n",
      "['12.1', '21.8', '41.9', '52.9', '94.6', '7.6', '12.5', '23.0', '27.5', '49.8', '8.2', '15.9', '32.1', '39.9', '58.9', '12.5', '22.2', '40.7', '49.7', '63.4']\n",
      "['11.3', '21.5', '44.2', '55.8', '117.5', '7.7', '11.8', '19.4', '23.1', '40.2', '5.9', '11.9', '30.3', '40.0', '79.3', '11.5', '20.4', '37.8', '46.8', '62.8']\n",
      "\n",
      "\n"
     ]
    }
   ],
   "source": [
    "with open('cmu.txt', 'r') as f:\n",
    "    counter = 0\n",
    "    for i, line in enumerate(f):\n",
    "        if len(line) > 5:\n",
    "            tmp = line.split(']')[-1]\n",
    "            tmp = tmp.strip('\\n')\n",
    "            tmp = tmp.strip(' ')\n",
    "            print(tmp.split(' '))\n",
    "            counter += 1\n",
    "            if counter == 3:\n",
    "                print()\n",
    "                print()\n",
    "                counter = 0"
   ]
  },
  {
   "cell_type": "code",
   "execution_count": 45,
   "metadata": {},
   "outputs": [
    {
     "data": {
      "text/plain": [
       "96.625"
      ]
     },
     "execution_count": 45,
     "metadata": {},
     "output_type": "execute_result"
    }
   ],
   "source": [
    "resup = [float(i) for i in ['18.4', '33.8', '59.5', '70.5', '106.7', '12.7', '23.8', '40.3', '46.7', '77.5', '15.2', '29.6', '55.1', '66.1', '127.1', '36.0', '68.7', '125.0', '145.5', '195.5', '15.6', '19.4', '31.2', '36.2', '43.3'] + ['20.3', '39.5', '71.3', '84', '129.6', '8.2', '13.7', '21.9', '24.5', '32.2', '8.4', '15.8', '29.3', '35.4', '61.1']]\n",
    "assert(len(resup[4::5]) == 8)\n",
    "np.array(resup[4::5]).mean()"
   ]
  },
  {
   "cell_type": "code",
   "execution_count": 42,
   "metadata": {},
   "outputs": [],
   "source": [
    "import numpy as np"
   ]
  },
  {
   "cell_type": "code",
   "execution_count": 47,
   "metadata": {},
   "outputs": [
    {
     "data": {
      "text/plain": [
       "84.6125"
      ]
     },
     "execution_count": 47,
     "metadata": {},
     "output_type": "execute_result"
    }
   ],
   "source": [
    "convseq = [float(i) for i in ['16.7', '30.5', '53.8', '64.3', '91.5', '8.4', '16.2', '30.8', '37.8', '76.5', '10.6', '20.3', '38.7', '48.4', '115.5', '22.4', '44.0', '87.5', '106.3', '162.6', '14.3', '16.3', '18.0', '20.2', '27.5'] + ['12.1', '21.8', '41.9', '52.9', '94.6', '7.6', '12.5', '23.0', '27.5', '49.8', '8.2', '15.9', '32.1', '39.9', '58.9']]\n",
    "assert(len(convseq[4::5]) == 8)\n",
    "np.array(convseq[4::5]).mean()"
   ]
  },
  {
   "cell_type": "code",
   "execution_count": 52,
   "metadata": {},
   "outputs": [
    {
     "data": {
      "text/plain": [
       "array([ 91.5,  76.5, 115.5, 162.6,  27.5,  94.6,  49.8,  58.9])"
      ]
     },
     "execution_count": 52,
     "metadata": {},
     "output_type": "execute_result"
    }
   ],
   "source": [
    "np.array(convseq[4::5])"
   ]
  },
  {
   "cell_type": "code",
   "execution_count": 63,
   "metadata": {
    "scrolled": false
   },
   "outputs": [
    {
     "data": {
      "text/plain": [
       "[32.2,\n",
       " 37.75,\n",
       " 43.3,\n",
       " 45.53333333333333,\n",
       " 46.650000000000006,\n",
       " 51.0,\n",
       " 52.2,\n",
       " 53.525,\n",
       " 54.85,\n",
       " 56.93333333333334,\n",
       " 60.4,\n",
       " 60.63333333333333,\n",
       " 60.73333333333333,\n",
       " 60.824999999999996,\n",
       " 61.1,\n",
       " 64.16,\n",
       " 64.925,\n",
       " 65.925,\n",
       " 66.55,\n",
       " 66.66666666666667,\n",
       " 67.53333333333332,\n",
       " 68.24,\n",
       " 68.36666666666666,\n",
       " 68.74,\n",
       " 69.3,\n",
       " 69.375,\n",
       " 69.45,\n",
       " 70.02499999999999,\n",
       " 70.36666666666666,\n",
       " 70.64999999999999,\n",
       " 72.13333333333333,\n",
       " 72.15,\n",
       " 73.46666666666667,\n",
       " 74.08000000000001,\n",
       " 74.3,\n",
       " 74.47500000000001,\n",
       " 74.58000000000001,\n",
       " 74.64999999999999,\n",
       " 75.0,\n",
       " 75.06666666666668,\n",
       " 75.10000000000001,\n",
       " 75.83333333333333,\n",
       " 77.16666666666666,\n",
       " 77.25,\n",
       " 77.325,\n",
       " 77.35999999999999,\n",
       " 77.5,\n",
       " 77.86,\n",
       " 77.875,\n",
       " 77.95,\n",
       " 77.99999999999999,\n",
       " 78.46666666666667,\n",
       " 78.66,\n",
       " 78.93333333333334,\n",
       " 79.65,\n",
       " 79.76666666666667,\n",
       " 80.9,\n",
       " 80.91999999999999,\n",
       " 81.41999999999999,\n",
       " 81.76666666666667,\n",
       " 81.775,\n",
       " 81.92,\n",
       " 81.94,\n",
       " 82.4,\n",
       " 82.5,\n",
       " 82.63333333333333,\n",
       " 83.025,\n",
       " 83.05,\n",
       " 83.14,\n",
       " 83.33333333333334,\n",
       " 83.46666666666665,\n",
       " 83.64000000000001,\n",
       " 83.9,\n",
       " 84.55000000000001,\n",
       " 85.17500000000001,\n",
       " 85.19999999999999,\n",
       " 85.5,\n",
       " 85.87499999999999,\n",
       " 86.05,\n",
       " 86.06666666666666,\n",
       " 86.44999999999999,\n",
       " 86.49999999999999,\n",
       " 87.125,\n",
       " 87.5,\n",
       " 87.72,\n",
       " 87.76,\n",
       " 87.78,\n",
       " 88.56666666666666,\n",
       " 88.64999999999999,\n",
       " 88.66666666666667,\n",
       " 89.03333333333332,\n",
       " 89.275,\n",
       " 89.39999999999999,\n",
       " 89.45,\n",
       " 89.5,\n",
       " 89.86666666666666,\n",
       " 90.275,\n",
       " 90.33333333333333,\n",
       " 90.88333333333333,\n",
       " 91.03999999999999,\n",
       " 91.34,\n",
       " 91.575,\n",
       " 91.6,\n",
       " 91.84,\n",
       " 91.91428571428571,\n",
       " 92.1,\n",
       " 92.27142857142859,\n",
       " 92.34,\n",
       " 92.36666666666667,\n",
       " 93.1,\n",
       " 93.2,\n",
       " 93.56000000000002,\n",
       " 93.725,\n",
       " 94.1,\n",
       " 94.31666666666666,\n",
       " 94.35000000000001,\n",
       " 94.375,\n",
       " 94.425,\n",
       " 94.6,\n",
       " 94.61999999999999,\n",
       " 94.73333333333333,\n",
       " 95.12,\n",
       " 95.1857142857143,\n",
       " 95.35,\n",
       " 95.61999999999999,\n",
       " 96.26666666666667,\n",
       " 96.3,\n",
       " 96.82000000000001,\n",
       " 96.83999999999999,\n",
       " 97.05,\n",
       " 97.46666666666668,\n",
       " 98.13333333333334,\n",
       " 98.30000000000001,\n",
       " 98.68,\n",
       " 98.825,\n",
       " 98.875,\n",
       " 98.89999999999999,\n",
       " 99.13333333333334,\n",
       " 99.18,\n",
       " 99.35714285714288,\n",
       " 99.525,\n",
       " 99.96666666666668,\n",
       " 100.0,\n",
       " 100.01666666666667,\n",
       " 100.14999999999999,\n",
       " 100.4,\n",
       " 100.43333333333334,\n",
       " 100.86666666666667,\n",
       " 100.9,\n",
       " 100.96000000000001,\n",
       " 101.4,\n",
       " 101.46000000000001,\n",
       " 101.65,\n",
       " 101.67500000000001,\n",
       " 101.7,\n",
       " 101.73333333333333,\n",
       " 101.86666666666666,\n",
       " 102.28333333333335,\n",
       " 102.3,\n",
       " 102.975,\n",
       " 103.55,\n",
       " 103.76666666666665,\n",
       " 103.83333333333336,\n",
       " 103.97500000000001,\n",
       " 104.24285714285715,\n",
       " 104.52000000000001,\n",
       " 104.59999999999998,\n",
       " 104.60000000000001,\n",
       " 105.01999999999998,\n",
       " 105.43333333333334,\n",
       " 105.54,\n",
       " 105.68333333333334,\n",
       " 105.73333333333335,\n",
       " 105.75,\n",
       " 105.82857142857142,\n",
       " 105.93333333333334,\n",
       " 106.125,\n",
       " 106.7,\n",
       " 106.74000000000001,\n",
       " 106.75000000000001,\n",
       " 107.24000000000001,\n",
       " 107.375,\n",
       " 107.8,\n",
       " 108.075,\n",
       " 108.3,\n",
       " 108.7,\n",
       " 108.7,\n",
       " 109.1,\n",
       " 110.01999999999998,\n",
       " 110.2,\n",
       " 110.225,\n",
       " 110.52000000000001,\n",
       " 110.55000000000001,\n",
       " 110.85000000000001,\n",
       " 111.32000000000001,\n",
       " 111.36666666666667,\n",
       " 111.39999999999999,\n",
       " 111.43333333333334,\n",
       " 111.46666666666665,\n",
       " 111.475,\n",
       " 112.38000000000002,\n",
       " 113.28333333333332,\n",
       " 113.58,\n",
       " 113.85,\n",
       " 114.08,\n",
       " 114.6,\n",
       " 115.16666666666667,\n",
       " 115.30000000000001,\n",
       " 115.375,\n",
       " 115.92500000000001,\n",
       " 115.99999999999999,\n",
       " 116.25,\n",
       " 116.9,\n",
       " 118.15,\n",
       " 118.15,\n",
       " 118.16000000000001,\n",
       " 118.22,\n",
       " 118.26666666666667,\n",
       " 118.775,\n",
       " 119.10000000000001,\n",
       " 119.4,\n",
       " 120.44000000000001,\n",
       " 121.10000000000001,\n",
       " 121.10000000000001,\n",
       " 121.13333333333333,\n",
       " 121.96666666666668,\n",
       " 122.60000000000001,\n",
       " 122.8,\n",
       " 123.225,\n",
       " 123.875,\n",
       " 124.0,\n",
       " 126.56666666666666,\n",
       " 126.69999999999999,\n",
       " 127.1,\n",
       " 127.28,\n",
       " 127.32499999999999,\n",
       " 127.90000000000002,\n",
       " 128.3,\n",
       " 128.32500000000002,\n",
       " 128.35,\n",
       " 128.73333333333335,\n",
       " 129.6,\n",
       " 132.425,\n",
       " 133.36666666666667,\n",
       " 134.20000000000002,\n",
       " 136.5,\n",
       " 139.725,\n",
       " 143.1,\n",
       " 143.9333333333333,\n",
       " 150.73333333333335,\n",
       " 151.1,\n",
       " 161.3,\n",
       " 162.55,\n",
       " 195.5]"
      ]
     },
     "execution_count": 63,
     "metadata": {},
     "output_type": "execute_result"
    }
   ],
   "source": [
    "import itertools\n",
    "\n",
    "lst = []\n",
    "for len_ in range(1, 8):\n",
    "    for i in itertools.combinations(np.array(resup[4::5]), len_):\n",
    "        lst.append(sum(i)/len_)\n",
    "sorted(lst)"
   ]
  },
  {
   "cell_type": "code",
   "execution_count": null,
   "metadata": {},
   "outputs": [],
   "source": []
  }
 ],
 "metadata": {
  "kernelspec": {
   "display_name": "maowei",
   "language": "python",
   "name": "maowei"
  },
  "language_info": {
   "codemirror_mode": {
    "name": "ipython",
    "version": 3
   },
   "file_extension": ".py",
   "mimetype": "text/x-python",
   "name": "python",
   "nbconvert_exporter": "python",
   "pygments_lexer": "ipython3",
   "version": "3.7.4"
  }
 },
 "nbformat": 4,
 "nbformat_minor": 2
}
