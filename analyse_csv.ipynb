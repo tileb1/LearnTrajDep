{
 "cells": [
  {
   "cell_type": "code",
   "execution_count": 1,
   "metadata": {},
   "outputs": [],
   "source": [
    "import pandas as pd\n",
    "import os\n",
    "from datetime import datetime\n",
    "import utils.data_utils as data_utils\n",
    "from collections import defaultdict\n",
    "\n",
    "LONG_TERM_ACTIONS = ['walking', 'eating', 'smoking', 'discussion']\n",
    "ACTIONS = data_utils.define_actions('all')\n",
    "ACTIONS.sort(key=len)"
   ]
  },
  {
   "cell_type": "code",
   "execution_count": 4,
   "metadata": {},
   "outputs": [],
   "source": [
    "def csv_iter():\n",
    "    for f in os.listdir('./checkpoint/test'):\n",
    "        if not f.startswith('short_term'):\n",
    "            continue\n",
    "        try:\n",
    "            datetime.strptime(f[-23:-4], \"%d-%m-%Y-%H:%M:%S\")\n",
    "            if f.split('.')[-1] == 'csv':\n",
    "                day = int(f[-23:-21])\n",
    "                if day > 20:\n",
    "                    yield f\n",
    "        except:\n",
    "            pass\n",
    "\n",
    "def extend_df(df, long_term=True):\n",
    "    if long_term:\n",
    "        actions = LONG_TERM_ACTIONS\n",
    "        time_lens = [560, 1000]\n",
    "    else:\n",
    "        actions = ACTIONS\n",
    "        time_lens = [80, 160, 320, 400]\n",
    "    columns_mapping = defaultdict(list)\n",
    "    for time_len in time_lens:\n",
    "        for action_name in actions:\n",
    "            columns_mapping['3d' + str(time_len)].append(action_name + '3d' + str(time_len))\n",
    "            columns_mapping['usingfulltestset_3d' + str(time_len)].append('usingfulltestset_' + action_name + '3d' + str(time_len))\n",
    "\n",
    "    for key in columns_mapping:\n",
    "        df[key] = df[columns_mapping[key]].mean(axis=1)\n",
    "    \n",
    "    return list(columns_mapping.keys())\n",
    "\n",
    "def get_summary_df(merged):\n",
    "    cols = list(set([i[:-5] for i in merged.columns]))\n",
    "    new_cols = []\n",
    "    for col in cols:\n",
    "        col_name = [c for c in merged.columns if c.startswith(col)]\n",
    "        new_cols.append(col+'_mean')\n",
    "        new_cols.append(col+'_std')\n",
    "        merged[col+'_mean'] = merged[col_name].mean(axis=1)\n",
    "        merged[col+'_std'] = merged[col_name].std(axis=1)\n",
    "    return merged[new_cols]"
   ]
  },
  {
   "cell_type": "code",
   "execution_count": 17,
   "metadata": {},
   "outputs": [
    {
     "name": "stdout",
     "output_type": "stream",
     "text": [
      "0 short_termmain_3d_3D_in10_out10_dct_n_30_28-06-2020-17:11:11.csv\n",
      "1 short_termmain_3d_3D_in10_out10_dct_n_30_26-06-2020-17:51:18.csv\n",
      "2 short_termmain_3d_3D_in10_out10_dct_n_30_27-06-2020-05:36:39.csv\n",
      "3 short_termmain_3d_3D_in10_out10_dct_n_30_27-06-2020-17:23:34.csv\n",
      "4 short_termmain_3d_3D_in10_out10_dct_n_30_28-06-2020-05:20:17.csv\n"
     ]
    }
   ],
   "source": [
    "df_lst = []\n",
    "mini_df_lst = []\n",
    "for i, f in enumerate(csv_iter()):\n",
    "    print(i, f)\n",
    "    df = pd.read_csv(os.path.join('checkpoint/test', \"./\", f))\n",
    "    df = df.sort_values(by='v_3d')\n",
    "    df_lst.append(df[extend_df(df, long_term=False)].add_suffix('_run' + str(i)))\n",
    "    mini_df_lst.append(df[extend_df(df, long_term=False)].head(1).add_suffix('_run' + str(i)).reset_index(drop=True))\n",
    "\n",
    "merged = pd.concat(mini_df_lst, axis=1)"
   ]
  },
  {
   "cell_type": "code",
   "execution_count": 18,
   "metadata": {},
   "outputs": [
    {
     "data": {
      "text/html": [
       "<div>\n",
       "<style scoped>\n",
       "    .dataframe tbody tr th:only-of-type {\n",
       "        vertical-align: middle;\n",
       "    }\n",
       "\n",
       "    .dataframe tbody tr th {\n",
       "        vertical-align: top;\n",
       "    }\n",
       "\n",
       "    .dataframe thead th {\n",
       "        text-align: right;\n",
       "    }\n",
       "</style>\n",
       "<table border=\"1\" class=\"dataframe\">\n",
       "  <thead>\n",
       "    <tr style=\"text-align: right;\">\n",
       "      <th></th>\n",
       "      <th>3d320_mean</th>\n",
       "      <th>3d320_std</th>\n",
       "      <th>3d400_mean</th>\n",
       "      <th>3d400_std</th>\n",
       "      <th>3d80_mean</th>\n",
       "      <th>3d80_std</th>\n",
       "      <th>3d160_mean</th>\n",
       "      <th>3d160_std</th>\n",
       "    </tr>\n",
       "  </thead>\n",
       "  <tbody>\n",
       "    <tr>\n",
       "      <td>0</td>\n",
       "      <td>50.417804</td>\n",
       "      <td>0.342099</td>\n",
       "      <td>60.950869</td>\n",
       "      <td>0.46302</td>\n",
       "      <td>11.416297</td>\n",
       "      <td>0.168276</td>\n",
       "      <td>24.375663</td>\n",
       "      <td>0.286886</td>\n",
       "    </tr>\n",
       "  </tbody>\n",
       "</table>\n",
       "</div>"
      ],
      "text/plain": [
       "   3d320_mean  3d320_std  3d400_mean  3d400_std  3d80_mean  3d80_std  \\\n",
       "0   50.417804   0.342099   60.950869    0.46302  11.416297  0.168276   \n",
       "\n",
       "   3d160_mean  3d160_std  \n",
       "0   24.375663   0.286886  "
      ]
     },
     "execution_count": 18,
     "metadata": {},
     "output_type": "execute_result"
    }
   ],
   "source": [
    "tmp = get_summary_df(merged)\n",
    "tmp[[i for i in tmp.columns if not i.startswith('usingfulltestset')]]"
   ]
  },
  {
   "cell_type": "code",
   "execution_count": 8,
   "metadata": {},
   "outputs": [
    {
     "data": {
      "text/html": [
       "<div>\n",
       "<style scoped>\n",
       "    .dataframe tbody tr th:only-of-type {\n",
       "        vertical-align: middle;\n",
       "    }\n",
       "\n",
       "    .dataframe tbody tr th {\n",
       "        vertical-align: top;\n",
       "    }\n",
       "\n",
       "    .dataframe thead th {\n",
       "        text-align: right;\n",
       "    }\n",
       "</style>\n",
       "<table border=\"1\" class=\"dataframe\">\n",
       "  <thead>\n",
       "    <tr style=\"text-align: right;\">\n",
       "      <th></th>\n",
       "      <th>3d80_run0</th>\n",
       "      <th>usingfulltestset_3d80_run0</th>\n",
       "      <th>3d160_run0</th>\n",
       "      <th>usingfulltestset_3d160_run0</th>\n",
       "      <th>3d320_run0</th>\n",
       "      <th>usingfulltestset_3d320_run0</th>\n",
       "      <th>3d400_run0</th>\n",
       "      <th>usingfulltestset_3d400_run0</th>\n",
       "    </tr>\n",
       "  </thead>\n",
       "  <tbody>\n",
       "    <tr>\n",
       "      <td>0</td>\n",
       "      <td>11.456757</td>\n",
       "      <td>10.540577</td>\n",
       "      <td>24.508205</td>\n",
       "      <td>23.004704</td>\n",
       "      <td>50.59056</td>\n",
       "      <td>48.326132</td>\n",
       "      <td>61.277202</td>\n",
       "      <td>59.85636</td>\n",
       "    </tr>\n",
       "  </tbody>\n",
       "</table>\n",
       "</div>"
      ],
      "text/plain": [
       "   3d80_run0  usingfulltestset_3d80_run0  3d160_run0  \\\n",
       "0  11.456757                   10.540577   24.508205   \n",
       "\n",
       "   usingfulltestset_3d160_run0  3d320_run0  usingfulltestset_3d320_run0  \\\n",
       "0                    23.004704    50.59056                    48.326132   \n",
       "\n",
       "   3d400_run0  usingfulltestset_3d400_run0  \n",
       "0   61.277202                     59.85636  "
      ]
     },
     "execution_count": 8,
     "metadata": {},
     "output_type": "execute_result"
    }
   ],
   "source": [
    "mini_df_lst[0]"
   ]
  },
  {
   "cell_type": "code",
   "execution_count": 9,
   "metadata": {},
   "outputs": [
    {
     "data": {
      "text/html": [
       "<div>\n",
       "<style scoped>\n",
       "    .dataframe tbody tr th:only-of-type {\n",
       "        vertical-align: middle;\n",
       "    }\n",
       "\n",
       "    .dataframe tbody tr th {\n",
       "        vertical-align: top;\n",
       "    }\n",
       "\n",
       "    .dataframe thead th {\n",
       "        text-align: right;\n",
       "    }\n",
       "</style>\n",
       "<table border=\"1\" class=\"dataframe\">\n",
       "  <thead>\n",
       "    <tr style=\"text-align: right;\">\n",
       "      <th></th>\n",
       "      <th>3d80_run1</th>\n",
       "      <th>usingfulltestset_3d80_run1</th>\n",
       "      <th>3d160_run1</th>\n",
       "      <th>usingfulltestset_3d160_run1</th>\n",
       "      <th>3d320_run1</th>\n",
       "      <th>usingfulltestset_3d320_run1</th>\n",
       "      <th>3d400_run1</th>\n",
       "      <th>usingfulltestset_3d400_run1</th>\n",
       "    </tr>\n",
       "  </thead>\n",
       "  <tbody>\n",
       "    <tr>\n",
       "      <td>0</td>\n",
       "      <td>11.567771</td>\n",
       "      <td>10.609106</td>\n",
       "      <td>24.594277</td>\n",
       "      <td>23.089859</td>\n",
       "      <td>50.895493</td>\n",
       "      <td>48.384029</td>\n",
       "      <td>61.551733</td>\n",
       "      <td>59.84307</td>\n",
       "    </tr>\n",
       "  </tbody>\n",
       "</table>\n",
       "</div>"
      ],
      "text/plain": [
       "   3d80_run1  usingfulltestset_3d80_run1  3d160_run1  \\\n",
       "0  11.567771                   10.609106   24.594277   \n",
       "\n",
       "   usingfulltestset_3d160_run1  3d320_run1  usingfulltestset_3d320_run1  \\\n",
       "0                    23.089859   50.895493                    48.384029   \n",
       "\n",
       "   3d400_run1  usingfulltestset_3d400_run1  \n",
       "0   61.551733                     59.84307  "
      ]
     },
     "execution_count": 9,
     "metadata": {},
     "output_type": "execute_result"
    }
   ],
   "source": [
    "mini_df_lst[1]"
   ]
  },
  {
   "cell_type": "code",
   "execution_count": 10,
   "metadata": {},
   "outputs": [
    {
     "data": {
      "text/html": [
       "<div>\n",
       "<style scoped>\n",
       "    .dataframe tbody tr th:only-of-type {\n",
       "        vertical-align: middle;\n",
       "    }\n",
       "\n",
       "    .dataframe tbody tr th {\n",
       "        vertical-align: top;\n",
       "    }\n",
       "\n",
       "    .dataframe thead th {\n",
       "        text-align: right;\n",
       "    }\n",
       "</style>\n",
       "<table border=\"1\" class=\"dataframe\">\n",
       "  <thead>\n",
       "    <tr style=\"text-align: right;\">\n",
       "      <th></th>\n",
       "      <th>3d80_run2</th>\n",
       "      <th>usingfulltestset_3d80_run2</th>\n",
       "      <th>3d160_run2</th>\n",
       "      <th>usingfulltestset_3d160_run2</th>\n",
       "      <th>3d320_run2</th>\n",
       "      <th>usingfulltestset_3d320_run2</th>\n",
       "      <th>3d400_run2</th>\n",
       "      <th>usingfulltestset_3d400_run2</th>\n",
       "    </tr>\n",
       "  </thead>\n",
       "  <tbody>\n",
       "    <tr>\n",
       "      <td>0</td>\n",
       "      <td>11.130844</td>\n",
       "      <td>10.489414</td>\n",
       "      <td>23.87558</td>\n",
       "      <td>22.955754</td>\n",
       "      <td>50.001742</td>\n",
       "      <td>48.325465</td>\n",
       "      <td>60.443906</td>\n",
       "      <td>59.766395</td>\n",
       "    </tr>\n",
       "  </tbody>\n",
       "</table>\n",
       "</div>"
      ],
      "text/plain": [
       "   3d80_run2  usingfulltestset_3d80_run2  3d160_run2  \\\n",
       "0  11.130844                   10.489414    23.87558   \n",
       "\n",
       "   usingfulltestset_3d160_run2  3d320_run2  usingfulltestset_3d320_run2  \\\n",
       "0                    22.955754   50.001742                    48.325465   \n",
       "\n",
       "   3d400_run2  usingfulltestset_3d400_run2  \n",
       "0   60.443906                    59.766395  "
      ]
     },
     "execution_count": 10,
     "metadata": {},
     "output_type": "execute_result"
    }
   ],
   "source": [
    "mini_df_lst[2]"
   ]
  },
  {
   "cell_type": "code",
   "execution_count": 11,
   "metadata": {},
   "outputs": [
    {
     "data": {
      "text/html": [
       "<div>\n",
       "<style scoped>\n",
       "    .dataframe tbody tr th:only-of-type {\n",
       "        vertical-align: middle;\n",
       "    }\n",
       "\n",
       "    .dataframe tbody tr th {\n",
       "        vertical-align: top;\n",
       "    }\n",
       "\n",
       "    .dataframe thead th {\n",
       "        text-align: right;\n",
       "    }\n",
       "</style>\n",
       "<table border=\"1\" class=\"dataframe\">\n",
       "  <thead>\n",
       "    <tr style=\"text-align: right;\">\n",
       "      <th></th>\n",
       "      <th>3d80_run3</th>\n",
       "      <th>usingfulltestset_3d80_run3</th>\n",
       "      <th>3d160_run3</th>\n",
       "      <th>usingfulltestset_3d160_run3</th>\n",
       "      <th>3d320_run3</th>\n",
       "      <th>usingfulltestset_3d320_run3</th>\n",
       "      <th>3d400_run3</th>\n",
       "      <th>usingfulltestset_3d400_run3</th>\n",
       "    </tr>\n",
       "  </thead>\n",
       "  <tbody>\n",
       "    <tr>\n",
       "      <td>0</td>\n",
       "      <td>11.425437</td>\n",
       "      <td>10.514747</td>\n",
       "      <td>24.486741</td>\n",
       "      <td>22.860766</td>\n",
       "      <td>50.231618</td>\n",
       "      <td>47.883244</td>\n",
       "      <td>60.591237</td>\n",
       "      <td>59.326504</td>\n",
       "    </tr>\n",
       "  </tbody>\n",
       "</table>\n",
       "</div>"
      ],
      "text/plain": [
       "   3d80_run3  usingfulltestset_3d80_run3  3d160_run3  \\\n",
       "0  11.425437                   10.514747   24.486741   \n",
       "\n",
       "   usingfulltestset_3d160_run3  3d320_run3  usingfulltestset_3d320_run3  \\\n",
       "0                    22.860766   50.231618                    47.883244   \n",
       "\n",
       "   3d400_run3  usingfulltestset_3d400_run3  \n",
       "0   60.591237                    59.326504  "
      ]
     },
     "execution_count": 11,
     "metadata": {},
     "output_type": "execute_result"
    }
   ],
   "source": [
    "mini_df_lst[3]"
   ]
  },
  {
   "cell_type": "code",
   "execution_count": 12,
   "metadata": {},
   "outputs": [
    {
     "data": {
      "text/html": [
       "<div>\n",
       "<style scoped>\n",
       "    .dataframe tbody tr th:only-of-type {\n",
       "        vertical-align: middle;\n",
       "    }\n",
       "\n",
       "    .dataframe tbody tr th {\n",
       "        vertical-align: top;\n",
       "    }\n",
       "\n",
       "    .dataframe thead th {\n",
       "        text-align: right;\n",
       "    }\n",
       "</style>\n",
       "<table border=\"1\" class=\"dataframe\">\n",
       "  <thead>\n",
       "    <tr style=\"text-align: right;\">\n",
       "      <th></th>\n",
       "      <th>3d80_run4</th>\n",
       "      <th>usingfulltestset_3d80_run4</th>\n",
       "      <th>3d160_run4</th>\n",
       "      <th>usingfulltestset_3d160_run4</th>\n",
       "      <th>3d320_run4</th>\n",
       "      <th>usingfulltestset_3d320_run4</th>\n",
       "      <th>3d400_run4</th>\n",
       "      <th>usingfulltestset_3d400_run4</th>\n",
       "    </tr>\n",
       "  </thead>\n",
       "  <tbody>\n",
       "    <tr>\n",
       "      <td>0</td>\n",
       "      <td>11.500675</td>\n",
       "      <td>10.676572</td>\n",
       "      <td>24.413511</td>\n",
       "      <td>23.155687</td>\n",
       "      <td>50.369607</td>\n",
       "      <td>48.408978</td>\n",
       "      <td>60.890268</td>\n",
       "      <td>59.925512</td>\n",
       "    </tr>\n",
       "  </tbody>\n",
       "</table>\n",
       "</div>"
      ],
      "text/plain": [
       "   3d80_run4  usingfulltestset_3d80_run4  3d160_run4  \\\n",
       "0  11.500675                   10.676572   24.413511   \n",
       "\n",
       "   usingfulltestset_3d160_run4  3d320_run4  usingfulltestset_3d320_run4  \\\n",
       "0                    23.155687   50.369607                    48.408978   \n",
       "\n",
       "   3d400_run4  usingfulltestset_3d400_run4  \n",
       "0   60.890268                    59.925512  "
      ]
     },
     "execution_count": 12,
     "metadata": {},
     "output_type": "execute_result"
    }
   ],
   "source": [
    "mini_df_lst[4]"
   ]
  },
  {
   "cell_type": "code",
   "execution_count": null,
   "metadata": {},
   "outputs": [],
   "source": []
  }
 ],
 "metadata": {
  "kernelspec": {
   "display_name": "maowei",
   "language": "python",
   "name": "maowei"
  },
  "language_info": {
   "codemirror_mode": {
    "name": "ipython",
    "version": 3
   },
   "file_extension": ".py",
   "mimetype": "text/x-python",
   "name": "python",
   "nbconvert_exporter": "python",
   "pygments_lexer": "ipython3",
   "version": "3.7.4"
  }
 },
 "nbformat": 4,
 "nbformat_minor": 2
}
