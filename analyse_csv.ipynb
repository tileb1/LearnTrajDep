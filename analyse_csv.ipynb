{
 "cells": [
  {
   "cell_type": "code",
   "execution_count": 1,
   "metadata": {},
   "outputs": [],
   "source": [
    "import pandas as pd\n",
    "import os\n",
    "from datetime import datetime\n",
    "import utils.data_utils as data_utils\n",
    "from collections import defaultdict\n",
    "\n",
    "LONG_TERM_ACTIONS = ['walking', 'eating', 'smoking', 'discussion']\n",
    "ACTIONS = data_utils.define_actions('all')\n",
    "ACTIONS.sort(key=len)"
   ]
  },
  {
   "cell_type": "code",
   "execution_count": 2,
   "metadata": {},
   "outputs": [],
   "source": [
    "def csv_iter():\n",
    "    for f in os.listdir('./checkpoint/test'):\n",
    "        try:\n",
    "            datetime.strptime(f[-23:-4], \"%d-%m-%Y-%H:%M:%S\")\n",
    "            if f.split('.')[-1] == 'csv':\n",
    "                yield f\n",
    "        except:\n",
    "            pass\n",
    "\n",
    "def extend_df(df, long_term=True):\n",
    "    if long_term:\n",
    "        actions = LONG_TERM_ACTIONS\n",
    "        time_lens = [560, 1000]\n",
    "    else:\n",
    "        actions = ACTIONS\n",
    "        time_lens = [80, 160, 320, 400]\n",
    "    columns_mapping = defaultdict(list)\n",
    "    for time_len in time_lens:\n",
    "        for action_name in actions:\n",
    "            columns_mapping['3d' + str(time_len)].append(action_name + '3d' + str(time_len))\n",
    "            columns_mapping['usingfulltestset_3d' + str(time_len)].append('usingfulltestset_' + action_name + '3d' + str(time_len))\n",
    "\n",
    "    for key in columns_mapping:\n",
    "        df[key] = df[columns_mapping[key]].mean(axis=1)\n",
    "    \n",
    "    return list(columns_mapping.keys())\n",
    "\n",
    "def get_summary_df(merged):\n",
    "    cols = list(set([i[:-5] for i in merged.columns]))\n",
    "    new_cols = []\n",
    "    for col in cols:\n",
    "        col_name = [c for c in merged.columns if c.startswith(col)]\n",
    "        new_cols.append(col+'_mean')\n",
    "        new_cols.append(col+'_std')\n",
    "        merged[col+'_mean'] = merged[col_name].mean(axis=1)\n",
    "        merged[col+'_std'] = merged[col_name].std(axis=1)\n",
    "    return merged[new_cols]"
   ]
  },
  {
   "cell_type": "code",
   "execution_count": 3,
   "metadata": {},
   "outputs": [],
   "source": [
    "df_lst = []\n",
    "mini_df_lst = []\n",
    "for i, f in enumerate(csv_iter()):\n",
    "    df = pd.read_csv(os.path.join('checkpoint/test', \"./\", f))\n",
    "    df = df.sort_values(by='v_3d')\n",
    "    df_lst.append(df[extend_df(df, LONG_TERM_ACTIONS)].add_suffix('_run' + str(i)))\n",
    "    mini_df_lst.append(df[extend_df(df, LONG_TERM_ACTIONS)].head(1).add_suffix('_run' + str(i)).reset_index(drop=True))\n",
    "\n",
    "merged = pd.concat(mini_df_lst, axis=1)"
   ]
  },
  {
   "cell_type": "code",
   "execution_count": 4,
   "metadata": {},
   "outputs": [
    {
     "data": {
      "text/html": [
       "<div>\n",
       "<style scoped>\n",
       "    .dataframe tbody tr th:only-of-type {\n",
       "        vertical-align: middle;\n",
       "    }\n",
       "\n",
       "    .dataframe tbody tr th {\n",
       "        vertical-align: top;\n",
       "    }\n",
       "\n",
       "    .dataframe thead th {\n",
       "        text-align: right;\n",
       "    }\n",
       "</style>\n",
       "<table border=\"1\" class=\"dataframe\">\n",
       "  <thead>\n",
       "    <tr style=\"text-align: right;\">\n",
       "      <th></th>\n",
       "      <th>usingfulltestset_3d1000_mean</th>\n",
       "      <th>usingfulltestset_3d1000_std</th>\n",
       "      <th>3d560_mean</th>\n",
       "      <th>3d560_std</th>\n",
       "      <th>3d1000_mean</th>\n",
       "      <th>3d1000_std</th>\n",
       "      <th>usingfulltestset_3d560_mean</th>\n",
       "      <th>usingfulltestset_3d560_std</th>\n",
       "    </tr>\n",
       "  </thead>\n",
       "  <tbody>\n",
       "    <tr>\n",
       "      <td>0</td>\n",
       "      <td>81.991883</td>\n",
       "      <td>0.595504</td>\n",
       "      <td>51.937186</td>\n",
       "      <td>1.137306</td>\n",
       "      <td>72.785109</td>\n",
       "      <td>1.986594</td>\n",
       "      <td>61.675857</td>\n",
       "      <td>0.574441</td>\n",
       "    </tr>\n",
       "  </tbody>\n",
       "</table>\n",
       "</div>"
      ],
      "text/plain": [
       "   usingfulltestset_3d1000_mean  usingfulltestset_3d1000_std  3d560_mean  \\\n",
       "0                     81.991883                     0.595504   51.937186   \n",
       "\n",
       "   3d560_std  3d1000_mean  3d1000_std  usingfulltestset_3d560_mean  \\\n",
       "0   1.137306    72.785109    1.986594                    61.675857   \n",
       "\n",
       "   usingfulltestset_3d560_std  \n",
       "0                    0.574441  "
      ]
     },
     "execution_count": 4,
     "metadata": {},
     "output_type": "execute_result"
    }
   ],
   "source": [
    "get_summary_df(merged)"
   ]
  },
  {
   "cell_type": "code",
   "execution_count": 15,
   "metadata": {},
   "outputs": [
    {
     "data": {
      "text/html": [
       "<div>\n",
       "<style scoped>\n",
       "    .dataframe tbody tr th:only-of-type {\n",
       "        vertical-align: middle;\n",
       "    }\n",
       "\n",
       "    .dataframe tbody tr th {\n",
       "        vertical-align: top;\n",
       "    }\n",
       "\n",
       "    .dataframe thead th {\n",
       "        text-align: right;\n",
       "    }\n",
       "</style>\n",
       "<table border=\"1\" class=\"dataframe\">\n",
       "  <thead>\n",
       "    <tr style=\"text-align: right;\">\n",
       "      <th></th>\n",
       "      <th>3d560_run0</th>\n",
       "      <th>usingfulltestset_3d560_run0</th>\n",
       "      <th>3d1000_run0</th>\n",
       "      <th>usingfulltestset_3d1000_run0</th>\n",
       "    </tr>\n",
       "  </thead>\n",
       "  <tbody>\n",
       "    <tr>\n",
       "      <td>0</td>\n",
       "      <td>52.794194</td>\n",
       "      <td>62.402323</td>\n",
       "      <td>75.314949</td>\n",
       "      <td>82.871946</td>\n",
       "    </tr>\n",
       "  </tbody>\n",
       "</table>\n",
       "</div>"
      ],
      "text/plain": [
       "   3d560_run0  usingfulltestset_3d560_run0  3d1000_run0  \\\n",
       "0   52.794194                    62.402323    75.314949   \n",
       "\n",
       "   usingfulltestset_3d1000_run0  \n",
       "0                     82.871946  "
      ]
     },
     "execution_count": 15,
     "metadata": {},
     "output_type": "execute_result"
    }
   ],
   "source": [
    "mini_df_lst[0]"
   ]
  },
  {
   "cell_type": "code",
   "execution_count": 16,
   "metadata": {},
   "outputs": [
    {
     "data": {
      "text/html": [
       "<div>\n",
       "<style scoped>\n",
       "    .dataframe tbody tr th:only-of-type {\n",
       "        vertical-align: middle;\n",
       "    }\n",
       "\n",
       "    .dataframe tbody tr th {\n",
       "        vertical-align: top;\n",
       "    }\n",
       "\n",
       "    .dataframe thead th {\n",
       "        text-align: right;\n",
       "    }\n",
       "</style>\n",
       "<table border=\"1\" class=\"dataframe\">\n",
       "  <thead>\n",
       "    <tr style=\"text-align: right;\">\n",
       "      <th></th>\n",
       "      <th>3d560_run1</th>\n",
       "      <th>usingfulltestset_3d560_run1</th>\n",
       "      <th>3d1000_run1</th>\n",
       "      <th>usingfulltestset_3d1000_run1</th>\n",
       "    </tr>\n",
       "  </thead>\n",
       "  <tbody>\n",
       "    <tr>\n",
       "      <td>0</td>\n",
       "      <td>50.355148</td>\n",
       "      <td>60.985961</td>\n",
       "      <td>69.98599</td>\n",
       "      <td>81.468526</td>\n",
       "    </tr>\n",
       "  </tbody>\n",
       "</table>\n",
       "</div>"
      ],
      "text/plain": [
       "   3d560_run1  usingfulltestset_3d560_run1  3d1000_run1  \\\n",
       "0   50.355148                    60.985961     69.98599   \n",
       "\n",
       "   usingfulltestset_3d1000_run1  \n",
       "0                     81.468526  "
      ]
     },
     "execution_count": 16,
     "metadata": {},
     "output_type": "execute_result"
    }
   ],
   "source": [
    "mini_df_lst[1]"
   ]
  },
  {
   "cell_type": "code",
   "execution_count": 17,
   "metadata": {},
   "outputs": [
    {
     "data": {
      "text/html": [
       "<div>\n",
       "<style scoped>\n",
       "    .dataframe tbody tr th:only-of-type {\n",
       "        vertical-align: middle;\n",
       "    }\n",
       "\n",
       "    .dataframe tbody tr th {\n",
       "        vertical-align: top;\n",
       "    }\n",
       "\n",
       "    .dataframe thead th {\n",
       "        text-align: right;\n",
       "    }\n",
       "</style>\n",
       "<table border=\"1\" class=\"dataframe\">\n",
       "  <thead>\n",
       "    <tr style=\"text-align: right;\">\n",
       "      <th></th>\n",
       "      <th>3d560_run2</th>\n",
       "      <th>usingfulltestset_3d560_run2</th>\n",
       "      <th>3d1000_run2</th>\n",
       "      <th>usingfulltestset_3d1000_run2</th>\n",
       "    </tr>\n",
       "  </thead>\n",
       "  <tbody>\n",
       "    <tr>\n",
       "      <td>0</td>\n",
       "      <td>53.25893</td>\n",
       "      <td>61.262306</td>\n",
       "      <td>73.707946</td>\n",
       "      <td>81.653718</td>\n",
       "    </tr>\n",
       "  </tbody>\n",
       "</table>\n",
       "</div>"
      ],
      "text/plain": [
       "   3d560_run2  usingfulltestset_3d560_run2  3d1000_run2  \\\n",
       "0    53.25893                    61.262306    73.707946   \n",
       "\n",
       "   usingfulltestset_3d1000_run2  \n",
       "0                     81.653718  "
      ]
     },
     "execution_count": 17,
     "metadata": {},
     "output_type": "execute_result"
    }
   ],
   "source": [
    "mini_df_lst[2]"
   ]
  },
  {
   "cell_type": "code",
   "execution_count": 18,
   "metadata": {},
   "outputs": [
    {
     "data": {
      "text/html": [
       "<div>\n",
       "<style scoped>\n",
       "    .dataframe tbody tr th:only-of-type {\n",
       "        vertical-align: middle;\n",
       "    }\n",
       "\n",
       "    .dataframe tbody tr th {\n",
       "        vertical-align: top;\n",
       "    }\n",
       "\n",
       "    .dataframe thead th {\n",
       "        text-align: right;\n",
       "    }\n",
       "</style>\n",
       "<table border=\"1\" class=\"dataframe\">\n",
       "  <thead>\n",
       "    <tr style=\"text-align: right;\">\n",
       "      <th></th>\n",
       "      <th>3d560_run3</th>\n",
       "      <th>usingfulltestset_3d560_run3</th>\n",
       "      <th>3d1000_run3</th>\n",
       "      <th>usingfulltestset_3d1000_run3</th>\n",
       "    </tr>\n",
       "  </thead>\n",
       "  <tbody>\n",
       "    <tr>\n",
       "      <td>0</td>\n",
       "      <td>51.562971</td>\n",
       "      <td>62.056882</td>\n",
       "      <td>72.95121</td>\n",
       "      <td>82.340075</td>\n",
       "    </tr>\n",
       "  </tbody>\n",
       "</table>\n",
       "</div>"
      ],
      "text/plain": [
       "   3d560_run3  usingfulltestset_3d560_run3  3d1000_run3  \\\n",
       "0   51.562971                    62.056882     72.95121   \n",
       "\n",
       "   usingfulltestset_3d1000_run3  \n",
       "0                     82.340075  "
      ]
     },
     "execution_count": 18,
     "metadata": {},
     "output_type": "execute_result"
    }
   ],
   "source": [
    "mini_df_lst[3]"
   ]
  },
  {
   "cell_type": "code",
   "execution_count": 19,
   "metadata": {},
   "outputs": [
    {
     "data": {
      "text/html": [
       "<div>\n",
       "<style scoped>\n",
       "    .dataframe tbody tr th:only-of-type {\n",
       "        vertical-align: middle;\n",
       "    }\n",
       "\n",
       "    .dataframe tbody tr th {\n",
       "        vertical-align: top;\n",
       "    }\n",
       "\n",
       "    .dataframe thead th {\n",
       "        text-align: right;\n",
       "    }\n",
       "</style>\n",
       "<table border=\"1\" class=\"dataframe\">\n",
       "  <thead>\n",
       "    <tr style=\"text-align: right;\">\n",
       "      <th></th>\n",
       "      <th>3d560_run4</th>\n",
       "      <th>usingfulltestset_3d560_run4</th>\n",
       "      <th>3d1000_run4</th>\n",
       "      <th>usingfulltestset_3d1000_run4</th>\n",
       "    </tr>\n",
       "  </thead>\n",
       "  <tbody>\n",
       "    <tr>\n",
       "      <td>0</td>\n",
       "      <td>51.714684</td>\n",
       "      <td>61.67181</td>\n",
       "      <td>71.965448</td>\n",
       "      <td>81.625149</td>\n",
       "    </tr>\n",
       "  </tbody>\n",
       "</table>\n",
       "</div>"
      ],
      "text/plain": [
       "   3d560_run4  usingfulltestset_3d560_run4  3d1000_run4  \\\n",
       "0   51.714684                     61.67181    71.965448   \n",
       "\n",
       "   usingfulltestset_3d1000_run4  \n",
       "0                     81.625149  "
      ]
     },
     "execution_count": 19,
     "metadata": {},
     "output_type": "execute_result"
    }
   ],
   "source": [
    "mini_df_lst[4]"
   ]
  },
  {
   "cell_type": "code",
   "execution_count": null,
   "metadata": {},
   "outputs": [],
   "source": []
  }
 ],
 "metadata": {
  "kernelspec": {
   "display_name": "maowei",
   "language": "python",
   "name": "maowei"
  },
  "language_info": {
   "codemirror_mode": {
    "name": "ipython",
    "version": 3
   },
   "file_extension": ".py",
   "mimetype": "text/x-python",
   "name": "python",
   "nbconvert_exporter": "python",
   "pygments_lexer": "ipython3",
   "version": "3.7.4"
  }
 },
 "nbformat": 4,
 "nbformat_minor": 2
}
