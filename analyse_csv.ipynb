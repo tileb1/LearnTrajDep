{
 "cells": [
  {
   "cell_type": "code",
   "execution_count": 33,
   "metadata": {},
   "outputs": [],
   "source": [
    "import pandas as pd\n",
    "import os\n",
    "from datetime import datetime\n",
    "import utils.data_utils as data_utils\n",
    "from collections import defaultdict\n",
    "\n",
    "LONG_TERM_ACTIONS = ['walking', 'eating', 'smoking', 'discussion']\n",
    "ACTIONS = data_utils.define_actions('all')\n",
    "ACTIONS.sort(key=len)"
   ]
  },
  {
   "cell_type": "code",
   "execution_count": 34,
   "metadata": {},
   "outputs": [],
   "source": [
    "def csv_iter():\n",
    "    for f in os.listdir('./checkpoint/test'):\n",
    "        try:\n",
    "            datetime.strptime(f[-23:-4], \"%d-%m-%Y-%H:%M:%S\")\n",
    "            if f.split('.')[-1] == 'csv':\n",
    "                day = int(f[-23:-21])\n",
    "                if day > 10:\n",
    "                    yield f\n",
    "        except:\n",
    "            pass\n",
    "\n",
    "def extend_df(df, long_term=True):\n",
    "    if long_term:\n",
    "        actions = LONG_TERM_ACTIONS\n",
    "        time_lens = [560, 1000]\n",
    "    else:\n",
    "        actions = ACTIONS\n",
    "        time_lens = [80, 160, 320, 400]\n",
    "    columns_mapping = defaultdict(list)\n",
    "    for time_len in time_lens:\n",
    "        for action_name in actions:\n",
    "            columns_mapping['3d' + str(time_len)].append(action_name + '3d' + str(time_len))\n",
    "            columns_mapping['usingfulltestset_3d' + str(time_len)].append('usingfulltestset_' + action_name + '3d' + str(time_len))\n",
    "\n",
    "    for key in columns_mapping:\n",
    "        df[key] = df[columns_mapping[key]].mean(axis=1)\n",
    "    \n",
    "    return list(columns_mapping.keys())\n",
    "\n",
    "def get_summary_df(merged):\n",
    "    cols = list(set([i[:-5] for i in merged.columns]))\n",
    "    new_cols = []\n",
    "    for col in cols:\n",
    "        col_name = [c for c in merged.columns if c.startswith(col)]\n",
    "        new_cols.append(col+'_mean')\n",
    "        new_cols.append(col+'_std')\n",
    "        merged[col+'_mean'] = merged[col_name].mean(axis=1)\n",
    "        merged[col+'_std'] = merged[col_name].std(axis=1)\n",
    "    return merged[new_cols]"
   ]
  },
  {
   "cell_type": "code",
   "execution_count": 38,
   "metadata": {},
   "outputs": [
    {
     "name": "stdout",
     "output_type": "stream",
     "text": [
      "0 5-5-10-10-10-15-15main_3d_3D_in15_out25_dct_n_30_22-06-2020-16:17:29.csv\n",
      "2 5-5-10-10-10-15-15main_3d_3D_in15_out25_dct_n_30_23-06-2020-21:18:06.csv\n",
      "4 5-5-10-10-10-15-15main_3d_3D_in15_out25_dct_n_30_22-06-2020-03:59:13.csv\n",
      "5 5-5-10-10-10-15-15main_3d_3D_in15_out25_dct_n_30_23-06-2020-04:39:51.csv\n",
      "9 5-5-10-10-10-15-15main_3d_3D_in15_out25_dct_n_30_21-06-2020-15:45:52.csv\n"
     ]
    }
   ],
   "source": [
    "df_lst = []\n",
    "mini_df_lst = []\n",
    "for i, f in enumerate(csv_iter()):\n",
    "    if not f.startswith('5-5-10-10-10-15-15'):\n",
    "        continue\n",
    "    print(i, f)\n",
    "    df = pd.read_csv(os.path.join('checkpoint/test', \"./\", f))\n",
    "    df = df.sort_values(by='v_3d')\n",
    "    df_lst.append(df[extend_df(df, LONG_TERM_ACTIONS)].add_suffix('_run' + str(i)))\n",
    "    mini_df_lst.append(df[extend_df(df, LONG_TERM_ACTIONS)].head(1).add_suffix('_run' + str(i)).reset_index(drop=True))\n",
    "\n",
    "merged = pd.concat(mini_df_lst, axis=1)"
   ]
  },
  {
   "cell_type": "code",
   "execution_count": 39,
   "metadata": {},
   "outputs": [
    {
     "data": {
      "text/html": [
       "<div>\n",
       "<style scoped>\n",
       "    .dataframe tbody tr th:only-of-type {\n",
       "        vertical-align: middle;\n",
       "    }\n",
       "\n",
       "    .dataframe tbody tr th {\n",
       "        vertical-align: top;\n",
       "    }\n",
       "\n",
       "    .dataframe thead th {\n",
       "        text-align: right;\n",
       "    }\n",
       "</style>\n",
       "<table border=\"1\" class=\"dataframe\">\n",
       "  <thead>\n",
       "    <tr style=\"text-align: right;\">\n",
       "      <th></th>\n",
       "      <th>usingfulltestset_3d560_mean</th>\n",
       "      <th>usingfulltestset_3d560_std</th>\n",
       "      <th>usingfulltestset_3d1000_mean</th>\n",
       "      <th>usingfulltestset_3d1000_std</th>\n",
       "      <th>3d1000_mean</th>\n",
       "      <th>3d1000_std</th>\n",
       "      <th>3d560_mean</th>\n",
       "      <th>3d560_std</th>\n",
       "    </tr>\n",
       "  </thead>\n",
       "  <tbody>\n",
       "    <tr>\n",
       "      <td>0</td>\n",
       "      <td>59.312402</td>\n",
       "      <td>0.171246</td>\n",
       "      <td>79.850457</td>\n",
       "      <td>0.280009</td>\n",
       "      <td>66.508968</td>\n",
       "      <td>1.427072</td>\n",
       "      <td>55.718568</td>\n",
       "      <td>1.006279</td>\n",
       "    </tr>\n",
       "  </tbody>\n",
       "</table>\n",
       "</div>"
      ],
      "text/plain": [
       "   usingfulltestset_3d560_mean  usingfulltestset_3d560_std  \\\n",
       "0                    59.312402                    0.171246   \n",
       "\n",
       "   usingfulltestset_3d1000_mean  usingfulltestset_3d1000_std  3d1000_mean  \\\n",
       "0                     79.850457                     0.280009    66.508968   \n",
       "\n",
       "   3d1000_std  3d560_mean  3d560_std  \n",
       "0    1.427072   55.718568   1.006279  "
      ]
     },
     "execution_count": 39,
     "metadata": {},
     "output_type": "execute_result"
    }
   ],
   "source": [
    "get_summary_df(merged)"
   ]
  },
  {
   "cell_type": "code",
   "execution_count": 40,
   "metadata": {},
   "outputs": [
    {
     "data": {
      "text/html": [
       "<div>\n",
       "<style scoped>\n",
       "    .dataframe tbody tr th:only-of-type {\n",
       "        vertical-align: middle;\n",
       "    }\n",
       "\n",
       "    .dataframe tbody tr th {\n",
       "        vertical-align: top;\n",
       "    }\n",
       "\n",
       "    .dataframe thead th {\n",
       "        text-align: right;\n",
       "    }\n",
       "</style>\n",
       "<table border=\"1\" class=\"dataframe\">\n",
       "  <thead>\n",
       "    <tr style=\"text-align: right;\">\n",
       "      <th></th>\n",
       "      <th>3d560_run0</th>\n",
       "      <th>usingfulltestset_3d560_run0</th>\n",
       "      <th>3d1000_run0</th>\n",
       "      <th>usingfulltestset_3d1000_run0</th>\n",
       "    </tr>\n",
       "  </thead>\n",
       "  <tbody>\n",
       "    <tr>\n",
       "      <td>0</td>\n",
       "      <td>56.14349</td>\n",
       "      <td>59.327828</td>\n",
       "      <td>66.855033</td>\n",
       "      <td>79.628547</td>\n",
       "    </tr>\n",
       "  </tbody>\n",
       "</table>\n",
       "</div>"
      ],
      "text/plain": [
       "   3d560_run0  usingfulltestset_3d560_run0  3d1000_run0  \\\n",
       "0    56.14349                    59.327828    66.855033   \n",
       "\n",
       "   usingfulltestset_3d1000_run0  \n",
       "0                     79.628547  "
      ]
     },
     "execution_count": 40,
     "metadata": {},
     "output_type": "execute_result"
    }
   ],
   "source": [
    "mini_df_lst[0]"
   ]
  },
  {
   "cell_type": "code",
   "execution_count": 41,
   "metadata": {},
   "outputs": [
    {
     "data": {
      "text/html": [
       "<div>\n",
       "<style scoped>\n",
       "    .dataframe tbody tr th:only-of-type {\n",
       "        vertical-align: middle;\n",
       "    }\n",
       "\n",
       "    .dataframe tbody tr th {\n",
       "        vertical-align: top;\n",
       "    }\n",
       "\n",
       "    .dataframe thead th {\n",
       "        text-align: right;\n",
       "    }\n",
       "</style>\n",
       "<table border=\"1\" class=\"dataframe\">\n",
       "  <thead>\n",
       "    <tr style=\"text-align: right;\">\n",
       "      <th></th>\n",
       "      <th>3d560_run2</th>\n",
       "      <th>usingfulltestset_3d560_run2</th>\n",
       "      <th>3d1000_run2</th>\n",
       "      <th>usingfulltestset_3d1000_run2</th>\n",
       "    </tr>\n",
       "  </thead>\n",
       "  <tbody>\n",
       "    <tr>\n",
       "      <td>0</td>\n",
       "      <td>54.224918</td>\n",
       "      <td>59.172015</td>\n",
       "      <td>65.360337</td>\n",
       "      <td>79.474911</td>\n",
       "    </tr>\n",
       "  </tbody>\n",
       "</table>\n",
       "</div>"
      ],
      "text/plain": [
       "   3d560_run2  usingfulltestset_3d560_run2  3d1000_run2  \\\n",
       "0   54.224918                    59.172015    65.360337   \n",
       "\n",
       "   usingfulltestset_3d1000_run2  \n",
       "0                     79.474911  "
      ]
     },
     "execution_count": 41,
     "metadata": {},
     "output_type": "execute_result"
    }
   ],
   "source": [
    "mini_df_lst[1]"
   ]
  },
  {
   "cell_type": "code",
   "execution_count": 42,
   "metadata": {},
   "outputs": [
    {
     "data": {
      "text/html": [
       "<div>\n",
       "<style scoped>\n",
       "    .dataframe tbody tr th:only-of-type {\n",
       "        vertical-align: middle;\n",
       "    }\n",
       "\n",
       "    .dataframe tbody tr th {\n",
       "        vertical-align: top;\n",
       "    }\n",
       "\n",
       "    .dataframe thead th {\n",
       "        text-align: right;\n",
       "    }\n",
       "</style>\n",
       "<table border=\"1\" class=\"dataframe\">\n",
       "  <thead>\n",
       "    <tr style=\"text-align: right;\">\n",
       "      <th></th>\n",
       "      <th>3d560_run4</th>\n",
       "      <th>usingfulltestset_3d560_run4</th>\n",
       "      <th>3d1000_run4</th>\n",
       "      <th>usingfulltestset_3d1000_run4</th>\n",
       "    </tr>\n",
       "  </thead>\n",
       "  <tbody>\n",
       "    <tr>\n",
       "      <td>0</td>\n",
       "      <td>56.904558</td>\n",
       "      <td>59.579918</td>\n",
       "      <td>66.913328</td>\n",
       "      <td>80.102856</td>\n",
       "    </tr>\n",
       "  </tbody>\n",
       "</table>\n",
       "</div>"
      ],
      "text/plain": [
       "   3d560_run4  usingfulltestset_3d560_run4  3d1000_run4  \\\n",
       "0   56.904558                    59.579918    66.913328   \n",
       "\n",
       "   usingfulltestset_3d1000_run4  \n",
       "0                     80.102856  "
      ]
     },
     "execution_count": 42,
     "metadata": {},
     "output_type": "execute_result"
    }
   ],
   "source": [
    "mini_df_lst[2]"
   ]
  },
  {
   "cell_type": "code",
   "execution_count": 43,
   "metadata": {},
   "outputs": [
    {
     "data": {
      "text/html": [
       "<div>\n",
       "<style scoped>\n",
       "    .dataframe tbody tr th:only-of-type {\n",
       "        vertical-align: middle;\n",
       "    }\n",
       "\n",
       "    .dataframe tbody tr th {\n",
       "        vertical-align: top;\n",
       "    }\n",
       "\n",
       "    .dataframe thead th {\n",
       "        text-align: right;\n",
       "    }\n",
       "</style>\n",
       "<table border=\"1\" class=\"dataframe\">\n",
       "  <thead>\n",
       "    <tr style=\"text-align: right;\">\n",
       "      <th></th>\n",
       "      <th>3d560_run5</th>\n",
       "      <th>usingfulltestset_3d560_run5</th>\n",
       "      <th>3d1000_run5</th>\n",
       "      <th>usingfulltestset_3d1000_run5</th>\n",
       "    </tr>\n",
       "  </thead>\n",
       "  <tbody>\n",
       "    <tr>\n",
       "      <td>0</td>\n",
       "      <td>55.995639</td>\n",
       "      <td>59.329523</td>\n",
       "      <td>68.50588</td>\n",
       "      <td>80.015809</td>\n",
       "    </tr>\n",
       "  </tbody>\n",
       "</table>\n",
       "</div>"
      ],
      "text/plain": [
       "   3d560_run5  usingfulltestset_3d560_run5  3d1000_run5  \\\n",
       "0   55.995639                    59.329523     68.50588   \n",
       "\n",
       "   usingfulltestset_3d1000_run5  \n",
       "0                     80.015809  "
      ]
     },
     "execution_count": 43,
     "metadata": {},
     "output_type": "execute_result"
    }
   ],
   "source": [
    "mini_df_lst[3]"
   ]
  },
  {
   "cell_type": "code",
   "execution_count": 44,
   "metadata": {},
   "outputs": [
    {
     "data": {
      "text/html": [
       "<div>\n",
       "<style scoped>\n",
       "    .dataframe tbody tr th:only-of-type {\n",
       "        vertical-align: middle;\n",
       "    }\n",
       "\n",
       "    .dataframe tbody tr th {\n",
       "        vertical-align: top;\n",
       "    }\n",
       "\n",
       "    .dataframe thead th {\n",
       "        text-align: right;\n",
       "    }\n",
       "</style>\n",
       "<table border=\"1\" class=\"dataframe\">\n",
       "  <thead>\n",
       "    <tr style=\"text-align: right;\">\n",
       "      <th></th>\n",
       "      <th>3d560_run9</th>\n",
       "      <th>usingfulltestset_3d560_run9</th>\n",
       "      <th>3d1000_run9</th>\n",
       "      <th>usingfulltestset_3d1000_run9</th>\n",
       "    </tr>\n",
       "  </thead>\n",
       "  <tbody>\n",
       "    <tr>\n",
       "      <td>0</td>\n",
       "      <td>55.324234</td>\n",
       "      <td>59.152728</td>\n",
       "      <td>64.910262</td>\n",
       "      <td>80.030161</td>\n",
       "    </tr>\n",
       "  </tbody>\n",
       "</table>\n",
       "</div>"
      ],
      "text/plain": [
       "   3d560_run9  usingfulltestset_3d560_run9  3d1000_run9  \\\n",
       "0   55.324234                    59.152728    64.910262   \n",
       "\n",
       "   usingfulltestset_3d1000_run9  \n",
       "0                     80.030161  "
      ]
     },
     "execution_count": 44,
     "metadata": {},
     "output_type": "execute_result"
    }
   ],
   "source": [
    "mini_df_lst[4]"
   ]
  },
  {
   "cell_type": "code",
   "execution_count": null,
   "metadata": {},
   "outputs": [],
   "source": []
  }
 ],
 "metadata": {
  "kernelspec": {
   "display_name": "maowei",
   "language": "python",
   "name": "maowei"
  },
  "language_info": {
   "codemirror_mode": {
    "name": "ipython",
    "version": 3
   },
   "file_extension": ".py",
   "mimetype": "text/x-python",
   "name": "python",
   "nbconvert_exporter": "python",
   "pygments_lexer": "ipython3",
   "version": "3.7.4"
  }
 },
 "nbformat": 4,
 "nbformat_minor": 2
}
