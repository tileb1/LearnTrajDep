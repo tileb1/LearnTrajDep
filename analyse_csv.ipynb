{
 "cells": [
  {
   "cell_type": "code",
   "execution_count": 1,
   "metadata": {},
   "outputs": [],
   "source": [
    "import pandas as pd\n",
    "import os\n",
    "from datetime import datetime\n",
    "import utils.data_utils as data_utils\n",
    "from collections import defaultdict\n",
    "\n",
    "LONG_TERM_ACTIONS = ['walking', 'eating', 'smoking', 'discussion']\n",
    "ACTIONS = data_utils.define_actions('all')\n",
    "ACTIONS.sort(key=len)"
   ]
  },
  {
   "cell_type": "code",
   "execution_count": 10,
   "metadata": {},
   "outputs": [],
   "source": [
    "def csv_iter():\n",
    "    for f in os.listdir('./checkpoint/test'):\n",
    "        if not f.startswith('5-5-10-10-10-15-15'):\n",
    "            continue\n",
    "        try:\n",
    "            datetime.strptime(f[-23:-4], \"%d-%m-%Y-%H:%M:%S\")\n",
    "            if f.split('.')[-1] == 'csv':\n",
    "                day = int(f[-23:-21])\n",
    "                if day > 10:\n",
    "                    yield f\n",
    "        except:\n",
    "            pass\n",
    "\n",
    "def extend_df(df, long_term=True):\n",
    "    if long_term:\n",
    "        actions = LONG_TERM_ACTIONS\n",
    "        time_lens = [560, 1000]\n",
    "    else:\n",
    "        actions = ACTIONS\n",
    "        time_lens = [80, 160, 320, 400]\n",
    "    columns_mapping = defaultdict(list)\n",
    "    for time_len in time_lens:\n",
    "        for action_name in actions:\n",
    "            columns_mapping['3d' + str(time_len)].append(action_name + '3d' + str(time_len))\n",
    "#             columns_mapping['usingfulltestset_3d' + str(time_len)].append('usingfulltestset_' + action_name + '3d' + str(time_len))\n",
    "\n",
    "    for key in columns_mapping:\n",
    "        df[key] = df[columns_mapping[key]].mean(axis=1)\n",
    "    \n",
    "    return list(columns_mapping.keys())\n",
    "\n",
    "def get_summary_df(merged):\n",
    "    cols = list(set([i[:-5] for i in merged.columns]))\n",
    "    new_cols = []\n",
    "    for col in cols:\n",
    "        col_name = [c for c in merged.columns if c.startswith(col)]\n",
    "        new_cols.append(col+'_mean')\n",
    "        new_cols.append(col+'_std')\n",
    "        merged[col+'_mean'] = merged[col_name].mean(axis=1)\n",
    "        merged[col+'_std'] = merged[col_name].std(axis=1)\n",
    "    return merged[new_cols]"
   ]
  },
  {
   "cell_type": "code",
   "execution_count": 34,
   "metadata": {},
   "outputs": [
    {
     "name": "stdout",
     "output_type": "stream",
     "text": [
      "0 5-5-10-10-10-15-15main_3d_3D_in15_out25_dct_n_30_22-06-2020-16:17:29.csv\n",
      "1 5-5-10-10-10-15-15main_3d_3D_in15_out25_dct_n_30_23-06-2020-21:18:06.csv\n",
      "2 5-5-10-10-10-15-15main_3d_3D_in15_out25_dct_n_30_22-06-2020-03:59:13.csv\n",
      "3 5-5-10-10-10-15-15main_3d_3D_in15_out25_dct_n_30_23-06-2020-04:39:51.csv\n",
      "4 5-5-10-10-10-15-15main_3d_3D_in15_out25_dct_n_30_21-06-2020-15:45:52.csv\n"
     ]
    }
   ],
   "source": [
    "# df_lst = []\n",
    "mini_df_lst = []\n",
    "for i, f in enumerate(csv_iter()):\n",
    "    print(i, f)\n",
    "    df = pd.read_csv(os.path.join('checkpoint/test', \"./\", f))\n",
    "    df = df.sort_values(by='v_3d')\n",
    "#     df_lst.append(df[extend_df(df, long_term=True)].add_suffix('_run' + str(i)))\n",
    "    extend_df(df, long_term=True)\n",
    "    cols_to_keep = [i for i in df.columns if i not in ['epoch', 'lr', 't_l', 'v_3d'] and not i.startswith('usingfulltestset')]\n",
    "    \n",
    "    cols_to_keep = [col for col in cols_to_keep if col.split('3')[0] in ACTIONS and int(col.split('3d')[1]) in [560, 1000] or col.startswith('3')]\n",
    "    \n",
    "    mini_df_lst.append(df[cols_to_keep].head(1).add_suffix('_run' + str(i)).reset_index(drop=True))\n",
    "\n",
    "merged = pd.concat(mini_df_lst, axis=1)"
   ]
  },
  {
   "cell_type": "code",
   "execution_count": 35,
   "metadata": {},
   "outputs": [],
   "source": [
    "my_cols = []\n",
    "\n",
    "for name in LONG_TERM_ACTIONS:\n",
    "    my_cols.append(name + '3d560_mean')\n",
    "    my_cols.append(name + '3d1000_mean')\n",
    "my_cols.append('3d560_mean')\n",
    "my_cols.append('3d1000_mean')"
   ]
  },
  {
   "cell_type": "code",
   "execution_count": 36,
   "metadata": {},
   "outputs": [
    {
     "data": {
      "text/html": [
       "<div>\n",
       "<style scoped>\n",
       "    .dataframe tbody tr th:only-of-type {\n",
       "        vertical-align: middle;\n",
       "    }\n",
       "\n",
       "    .dataframe tbody tr th {\n",
       "        vertical-align: top;\n",
       "    }\n",
       "\n",
       "    .dataframe thead th {\n",
       "        text-align: right;\n",
       "    }\n",
       "</style>\n",
       "<table border=\"1\" class=\"dataframe\">\n",
       "  <thead>\n",
       "    <tr style=\"text-align: right;\">\n",
       "      <th></th>\n",
       "      <th>walking3d560_mean</th>\n",
       "      <th>walking3d1000_mean</th>\n",
       "      <th>eating3d560_mean</th>\n",
       "      <th>eating3d1000_mean</th>\n",
       "      <th>smoking3d560_mean</th>\n",
       "      <th>smoking3d1000_mean</th>\n",
       "      <th>discussion3d560_mean</th>\n",
       "      <th>discussion3d1000_mean</th>\n",
       "      <th>3d560_mean</th>\n",
       "      <th>3d1000_mean</th>\n",
       "    </tr>\n",
       "  </thead>\n",
       "  <tbody>\n",
       "    <tr>\n",
       "      <td>0</td>\n",
       "      <td>43.323638</td>\n",
       "      <td>43.142335</td>\n",
       "      <td>45.879971</td>\n",
       "      <td>65.254553</td>\n",
       "      <td>36.483842</td>\n",
       "      <td>62.988739</td>\n",
       "      <td>97.186821</td>\n",
       "      <td>94.650246</td>\n",
       "      <td>55.718568</td>\n",
       "      <td>66.508968</td>\n",
       "    </tr>\n",
       "  </tbody>\n",
       "</table>\n",
       "</div>"
      ],
      "text/plain": [
       "   walking3d560_mean  walking3d1000_mean  eating3d560_mean  eating3d1000_mean  \\\n",
       "0          43.323638           43.142335         45.879971          65.254553   \n",
       "\n",
       "   smoking3d560_mean  smoking3d1000_mean  discussion3d560_mean  \\\n",
       "0          36.483842           62.988739             97.186821   \n",
       "\n",
       "   discussion3d1000_mean  3d560_mean  3d1000_mean  \n",
       "0              94.650246   55.718568    66.508968  "
      ]
     },
     "execution_count": 36,
     "metadata": {},
     "output_type": "execute_result"
    }
   ],
   "source": [
    "tmp = get_summary_df(merged)\n",
    "tmp[my_cols]"
   ]
  },
  {
   "cell_type": "code",
   "execution_count": 37,
   "metadata": {},
   "outputs": [
    {
     "data": {
      "text/plain": [
       "'43.3&43.1&45.8&65.2&36.4&62.9&97.1&94.6&55.7&66.5'"
      ]
     },
     "execution_count": 37,
     "metadata": {},
     "output_type": "execute_result"
    }
   ],
   "source": [
    "values = [str(i).split('.')[0] + '.' + str(i).split('.')[1][:1] for i in list(tmp[my_cols].iloc[0])]\n",
    "'&'.join(values)"
   ]
  },
  {
   "cell_type": "code",
   "execution_count": null,
   "metadata": {},
   "outputs": [],
   "source": []
  }
 ],
 "metadata": {
  "kernelspec": {
   "display_name": "maowei",
   "language": "python",
   "name": "maowei"
  },
  "language_info": {
   "codemirror_mode": {
    "name": "ipython",
    "version": 3
   },
   "file_extension": ".py",
   "mimetype": "text/x-python",
   "name": "python",
   "nbconvert_exporter": "python",
   "pygments_lexer": "ipython3",
   "version": "3.7.4"
  }
 },
 "nbformat": 4,
 "nbformat_minor": 2
}
