{
 "cells": [
  {
   "cell_type": "code",
   "execution_count": 169,
   "metadata": {},
   "outputs": [],
   "source": [
    "import pandas as pd\n",
    "import os\n",
    "from datetime import datetime\n",
    "import utils.data_utils as data_utils\n",
    "from collections import defaultdict\n",
    "\n",
    "LONG_TERM_ACTIONS = ['walking', 'eating', 'smoking', 'discussion']\n",
    "ACTIONS = data_utils.define_actions('all')\n",
    "ACTIONS.sort(key=len)"
   ]
  },
  {
   "cell_type": "code",
   "execution_count": 170,
   "metadata": {},
   "outputs": [
    {
     "data": {
      "text/plain": [
       "['eating',\n",
       " 'posing',\n",
       " 'walking',\n",
       " 'smoking',\n",
       " 'phoning',\n",
       " 'sitting',\n",
       " 'waiting',\n",
       " 'greeting',\n",
       " 'purchases',\n",
       " 'discussion',\n",
       " 'directions',\n",
       " 'walkingdog',\n",
       " 'sittingdown',\n",
       " 'takingphoto',\n",
       " 'walkingtogether']"
      ]
     },
     "execution_count": 170,
     "metadata": {},
     "output_type": "execute_result"
    }
   ],
   "source": [
    "ACTIONS"
   ]
  },
  {
   "cell_type": "code",
   "execution_count": 171,
   "metadata": {},
   "outputs": [],
   "source": [
    "def csv_iter():\n",
    "    for f in os.listdir('./checkpoint/test'):\n",
    "        if not f.startswith('short_term'):\n",
    "            continue\n",
    "        try:\n",
    "            datetime.strptime(f[-23:-4], \"%d-%m-%Y-%H:%M:%S\")\n",
    "            if f.split('.')[-1] == 'csv':\n",
    "                day = int(f[-23:-21])\n",
    "                if day > 20:\n",
    "                    yield f\n",
    "        except:\n",
    "            pass\n",
    "\n",
    "def extend_df(df, long_term=True):\n",
    "    if long_term:\n",
    "        actions = LONG_TERM_ACTIONS\n",
    "        time_lens = [560, 1000]\n",
    "    else:\n",
    "        actions = ACTIONS\n",
    "        time_lens = [80, 160, 320, 400]\n",
    "    columns_mapping = defaultdict(list)\n",
    "    for time_len in time_lens:\n",
    "        for action_name in actions:\n",
    "            columns_mapping['3d' + str(time_len)].append(action_name + '3d' + str(time_len))\n",
    "#             columns_mapping['usingfulltestset_3d' + str(time_len)].append('usingfulltestset_' + action_name + '3d' + str(time_len))\n",
    "\n",
    "    for key in columns_mapping:\n",
    "        df[key] = df[columns_mapping[key]].mean(axis=1)\n",
    "    \n",
    "    return list(columns_mapping.keys())\n",
    "\n",
    "def get_summary_df(merged):\n",
    "    cols = list(set([i[:-5] for i in merged.columns]))\n",
    "    new_cols = []\n",
    "    for col in cols:\n",
    "        col_name = [c for c in merged.columns if c.startswith(col)]\n",
    "        new_cols.append(col+'_mean')\n",
    "        new_cols.append(col+'_std')\n",
    "        merged[col+'_mean'] = merged[col_name].mean(axis=1)\n",
    "        merged[col+'_std'] = merged[col_name].std(axis=1)\n",
    "    return merged[new_cols]"
   ]
  },
  {
   "cell_type": "code",
   "execution_count": 172,
   "metadata": {},
   "outputs": [
    {
     "name": "stdout",
     "output_type": "stream",
     "text": [
      "0 short_termmain_3d_3D_in10_out10_dct_n_30_28-06-2020-17:11:11.csv\n",
      "1 short_termmain_3d_3D_in10_out10_dct_n_30_26-06-2020-17:51:18.csv\n",
      "2 short_termmain_3d_3D_in10_out10_dct_n_30_27-06-2020-05:36:39.csv\n",
      "3 short_termmain_3d_3D_in10_out10_dct_n_30_27-06-2020-17:23:34.csv\n",
      "4 short_termmain_3d_3D_in10_out10_dct_n_30_28-06-2020-05:20:17.csv\n"
     ]
    }
   ],
   "source": [
    "# df_lst = []\n",
    "mini_df_lst = []\n",
    "for i, f in enumerate(csv_iter()):\n",
    "    print(i, f)\n",
    "    df = pd.read_csv(os.path.join('checkpoint/test', \"./\", f))\n",
    "    df = df.sort_values(by='v_3d')\n",
    "#     df_lst.append(df[extend_df(df, long_term=True)].add_suffix('_run' + str(i)))\n",
    "    extend_df(df, long_term=False)\n",
    "    cols_to_keep = [i for i in df.columns if i not in ['epoch', 'lr', 't_l', 'v_3d'] and not i.startswith('usingfulltestset')]\n",
    "    \n",
    "    cols_to_keep = [col for col in cols_to_keep if col.split('3')[0] in ACTIONS and int(col.split('3d')[1]) in [80, 160, 320, 400] or col.startswith('3')]\n",
    "    \n",
    "    mini_df_lst.append(df[cols_to_keep].head(1).add_suffix('_run' + str(i)).reset_index(drop=True))\n",
    "\n",
    "merged = pd.concat(mini_df_lst, axis=1)"
   ]
  },
  {
   "cell_type": "code",
   "execution_count": 173,
   "metadata": {},
   "outputs": [
    {
     "data": {
      "text/html": [
       "<div>\n",
       "<style scoped>\n",
       "    .dataframe tbody tr th:only-of-type {\n",
       "        vertical-align: middle;\n",
       "    }\n",
       "\n",
       "    .dataframe tbody tr th {\n",
       "        vertical-align: top;\n",
       "    }\n",
       "\n",
       "    .dataframe thead th {\n",
       "        text-align: right;\n",
       "    }\n",
       "</style>\n",
       "<table border=\"1\" class=\"dataframe\">\n",
       "  <thead>\n",
       "    <tr style=\"text-align: right;\">\n",
       "      <th></th>\n",
       "      <th>walking3d80_run0</th>\n",
       "      <th>walking3d160_run0</th>\n",
       "      <th>walking3d320_run0</th>\n",
       "      <th>walking3d400_run0</th>\n",
       "      <th>eating3d80_run0</th>\n",
       "      <th>eating3d160_run0</th>\n",
       "      <th>eating3d320_run0</th>\n",
       "      <th>eating3d400_run0</th>\n",
       "      <th>smoking3d80_run0</th>\n",
       "      <th>smoking3d160_run0</th>\n",
       "      <th>...</th>\n",
       "      <th>walkingdog3d320_run4</th>\n",
       "      <th>walkingdog3d400_run4</th>\n",
       "      <th>walkingtogether3d80_run4</th>\n",
       "      <th>walkingtogether3d160_run4</th>\n",
       "      <th>walkingtogether3d320_run4</th>\n",
       "      <th>walkingtogether3d400_run4</th>\n",
       "      <th>3d80_run4</th>\n",
       "      <th>3d160_run4</th>\n",
       "      <th>3d320_run4</th>\n",
       "      <th>3d400_run4</th>\n",
       "    </tr>\n",
       "  </thead>\n",
       "  <tbody>\n",
       "    <tr>\n",
       "      <td>0</td>\n",
       "      <td>9.225759</td>\n",
       "      <td>15.620593</td>\n",
       "      <td>29.53867</td>\n",
       "      <td>34.02269</td>\n",
       "      <td>8.293664</td>\n",
       "      <td>18.330667</td>\n",
       "      <td>39.044098</td>\n",
       "      <td>48.458885</td>\n",
       "      <td>6.709925</td>\n",
       "      <td>13.287291</td>\n",
       "      <td>...</td>\n",
       "      <td>96.397354</td>\n",
       "      <td>115.334625</td>\n",
       "      <td>8.893956</td>\n",
       "      <td>18.114157</td>\n",
       "      <td>35.208073</td>\n",
       "      <td>44.087776</td>\n",
       "      <td>11.500675</td>\n",
       "      <td>24.413511</td>\n",
       "      <td>50.369607</td>\n",
       "      <td>60.890268</td>\n",
       "    </tr>\n",
       "  </tbody>\n",
       "</table>\n",
       "<p>1 rows × 320 columns</p>\n",
       "</div>"
      ],
      "text/plain": [
       "   walking3d80_run0  walking3d160_run0  walking3d320_run0  walking3d400_run0  \\\n",
       "0          9.225759          15.620593           29.53867           34.02269   \n",
       "\n",
       "   eating3d80_run0  eating3d160_run0  eating3d320_run0  eating3d400_run0  \\\n",
       "0         8.293664         18.330667         39.044098         48.458885   \n",
       "\n",
       "   smoking3d80_run0  smoking3d160_run0  ...  walkingdog3d320_run4  \\\n",
       "0          6.709925          13.287291  ...             96.397354   \n",
       "\n",
       "   walkingdog3d400_run4  walkingtogether3d80_run4  walkingtogether3d160_run4  \\\n",
       "0            115.334625                  8.893956                  18.114157   \n",
       "\n",
       "   walkingtogether3d320_run4  walkingtogether3d400_run4  3d80_run4  \\\n",
       "0                  35.208073                  44.087776  11.500675   \n",
       "\n",
       "   3d160_run4  3d320_run4  3d400_run4  \n",
       "0   24.413511   50.369607   60.890268  \n",
       "\n",
       "[1 rows x 320 columns]"
      ]
     },
     "execution_count": 173,
     "metadata": {},
     "output_type": "execute_result"
    }
   ],
   "source": [
    "merged"
   ]
  },
  {
   "cell_type": "code",
   "execution_count": 174,
   "metadata": {},
   "outputs": [
    {
     "data": {
      "text/plain": [
       "['eating',\n",
       " 'posing',\n",
       " 'walking',\n",
       " 'smoking',\n",
       " 'phoning',\n",
       " 'sitting',\n",
       " 'waiting',\n",
       " 'greeting',\n",
       " 'purchases',\n",
       " 'discussion',\n",
       " 'directions',\n",
       " 'walkingdog',\n",
       " 'sittingdown',\n",
       " 'takingphoto',\n",
       " 'walkingtogether']"
      ]
     },
     "execution_count": 174,
     "metadata": {},
     "output_type": "execute_result"
    }
   ],
   "source": [
    "ACTIONS"
   ]
  },
  {
   "cell_type": "code",
   "execution_count": 175,
   "metadata": {},
   "outputs": [],
   "source": [
    "my_cols = []\n",
    "ORDERED_ACTIONS = ['walking', 'eating', 'smoking', 'discussion', 'directions', 'greeting', 'phoning', 'posing', 'purchases', 'sitting',\n",
    "                  'sittingdown', 'takingphoto', 'waiting', 'walkingdog', 'walkingtogether']\n",
    "\n",
    "assert(len(set(ACTIONS).intersection(set(ORDERED_ACTIONS))) == len(ACTIONS))\n",
    "for name in ORDERED_ACTIONS:\n",
    "    my_cols.append(name + '3d80_mean')\n",
    "    my_cols.append(name + '3d160_mean')\n",
    "    my_cols.append(name + '3d320_mean')\n",
    "    my_cols.append(name + '3d400_mean')\n",
    "my_cols.append('3d80_mean')\n",
    "my_cols.append('3d160_mean')\n",
    "my_cols.append('3d320_mean')\n",
    "my_cols.append('3d400_mean')"
   ]
  },
  {
   "cell_type": "code",
   "execution_count": 176,
   "metadata": {},
   "outputs": [
    {
     "data": {
      "text/html": [
       "<div>\n",
       "<style scoped>\n",
       "    .dataframe tbody tr th:only-of-type {\n",
       "        vertical-align: middle;\n",
       "    }\n",
       "\n",
       "    .dataframe tbody tr th {\n",
       "        vertical-align: top;\n",
       "    }\n",
       "\n",
       "    .dataframe thead th {\n",
       "        text-align: right;\n",
       "    }\n",
       "</style>\n",
       "<table border=\"1\" class=\"dataframe\">\n",
       "  <thead>\n",
       "    <tr style=\"text-align: right;\">\n",
       "      <th></th>\n",
       "      <th>walking3d80_mean</th>\n",
       "      <th>walking3d160_mean</th>\n",
       "      <th>walking3d320_mean</th>\n",
       "      <th>walking3d400_mean</th>\n",
       "      <th>eating3d80_mean</th>\n",
       "      <th>eating3d160_mean</th>\n",
       "      <th>eating3d320_mean</th>\n",
       "      <th>eating3d400_mean</th>\n",
       "      <th>smoking3d80_mean</th>\n",
       "      <th>smoking3d160_mean</th>\n",
       "      <th>...</th>\n",
       "      <th>walkingdog3d320_mean</th>\n",
       "      <th>walkingdog3d400_mean</th>\n",
       "      <th>walkingtogether3d80_mean</th>\n",
       "      <th>walkingtogether3d160_mean</th>\n",
       "      <th>walkingtogether3d320_mean</th>\n",
       "      <th>walkingtogether3d400_mean</th>\n",
       "      <th>3d80_mean</th>\n",
       "      <th>3d160_mean</th>\n",
       "      <th>3d320_mean</th>\n",
       "      <th>3d400_mean</th>\n",
       "    </tr>\n",
       "  </thead>\n",
       "  <tbody>\n",
       "    <tr>\n",
       "      <td>0</td>\n",
       "      <td>9.316807</td>\n",
       "      <td>15.985963</td>\n",
       "      <td>30.10947</td>\n",
       "      <td>34.133907</td>\n",
       "      <td>8.475722</td>\n",
       "      <td>18.59529</td>\n",
       "      <td>38.116001</td>\n",
       "      <td>46.625439</td>\n",
       "      <td>6.964761</td>\n",
       "      <td>13.836292</td>\n",
       "      <td>...</td>\n",
       "      <td>99.68416</td>\n",
       "      <td>119.486273</td>\n",
       "      <td>8.91467</td>\n",
       "      <td>18.690227</td>\n",
       "      <td>35.530943</td>\n",
       "      <td>44.348322</td>\n",
       "      <td>11.416297</td>\n",
       "      <td>24.375663</td>\n",
       "      <td>50.417804</td>\n",
       "      <td>60.950869</td>\n",
       "    </tr>\n",
       "  </tbody>\n",
       "</table>\n",
       "<p>1 rows × 64 columns</p>\n",
       "</div>"
      ],
      "text/plain": [
       "   walking3d80_mean  walking3d160_mean  walking3d320_mean  walking3d400_mean  \\\n",
       "0          9.316807          15.985963           30.10947          34.133907   \n",
       "\n",
       "   eating3d80_mean  eating3d160_mean  eating3d320_mean  eating3d400_mean  \\\n",
       "0         8.475722          18.59529         38.116001         46.625439   \n",
       "\n",
       "   smoking3d80_mean  smoking3d160_mean  ...  walkingdog3d320_mean  \\\n",
       "0          6.964761          13.836292  ...              99.68416   \n",
       "\n",
       "   walkingdog3d400_mean  walkingtogether3d80_mean  walkingtogether3d160_mean  \\\n",
       "0            119.486273                   8.91467                  18.690227   \n",
       "\n",
       "   walkingtogether3d320_mean  walkingtogether3d400_mean  3d80_mean  \\\n",
       "0                  35.530943                  44.348322  11.416297   \n",
       "\n",
       "   3d160_mean  3d320_mean  3d400_mean  \n",
       "0   24.375663   50.417804   60.950869  \n",
       "\n",
       "[1 rows x 64 columns]"
      ]
     },
     "execution_count": 176,
     "metadata": {},
     "output_type": "execute_result"
    }
   ],
   "source": [
    "tmp = get_summary_df(merged)\n",
    "tmp[my_cols]"
   ]
  },
  {
   "cell_type": "code",
   "execution_count": 187,
   "metadata": {},
   "outputs": [
    {
     "data": {
      "text/plain": [
       "'11.3&28.0&54.8&64.8&6.4&15.6&41.4&53.5&9.2&21.7&55.9&72.1&29.3&56.4&99.6&119.4&8.9&18.6&35.5&44.3&11.4&24.3&50.4&60.9'"
      ]
     },
     "execution_count": 187,
     "metadata": {},
     "output_type": "execute_result"
    }
   ],
   "source": [
    "values = [str(i).split('.')[0] + '.' + str(i).split('.')[1][:1] for i in list(tmp[my_cols].iloc[0])]\n",
    "'&'.join(values[16+6*4:])"
   ]
  },
  {
   "cell_type": "code",
   "execution_count": null,
   "metadata": {},
   "outputs": [],
   "source": []
  },
  {
   "cell_type": "code",
   "execution_count": 63,
   "metadata": {},
   "outputs": [],
   "source": [
    "# mini_df_lst[0]"
   ]
  },
  {
   "cell_type": "code",
   "execution_count": 64,
   "metadata": {},
   "outputs": [],
   "source": [
    "# mini_df_lst[1]"
   ]
  },
  {
   "cell_type": "code",
   "execution_count": 65,
   "metadata": {},
   "outputs": [],
   "source": [
    "# mini_df_lst[2]"
   ]
  },
  {
   "cell_type": "code",
   "execution_count": 66,
   "metadata": {},
   "outputs": [],
   "source": [
    "# mini_df_lst[3]"
   ]
  },
  {
   "cell_type": "code",
   "execution_count": 67,
   "metadata": {},
   "outputs": [],
   "source": [
    "# mini_df_lst[4]"
   ]
  },
  {
   "cell_type": "code",
   "execution_count": 167,
   "metadata": {},
   "outputs": [
    {
     "name": "stdout",
     "output_type": "stream",
     "text": [
      "23.8&40.4&62.9&70.9&17.6&34.7&71.9&87.7&19.7&36.6&61.8&73.9&31.7&61.3&96.0&103.5\n",
      "17.1&31.2&53.8&61.5&13.7&25.9&52.5&63.3&11.1&21.0&33.4&38.3&18.9&39.3&67.7&75.7\n",
      "8.9&15.7&29.2&33.4&8.8&18.9&39.4&47.2&7.8&14.9&25.3&28.7&9.8&22.1&39.6&44.1\n",
      "\n",
      "\n",
      "36.5&56.4&81.5&97.3&37.9&74.1&139.0&158.8&25.6&44.4&74.0&84.2&27.9&54.7&131.3&160.8&40.8&71.8&104.2&109.8&34.5&69.9&126.3&141.6\n",
      "22.0&37.2&59.6&73.4&24.5&46.2&90.0&103.1&17.2&29.7&53.4&61.3&16.1&35.6&86.2&105.6&29.4&54.9&82.2&93.0&19.8&42.4&77.0&88.4\n",
      "12.6&24.4&48.2&58.4&14.5&30.5&74.2&89.0&11.5&20.2&37.9&43.2&9.4&23.9&66.2&82.9&19.6&38.5&64.4&72.2&10.7&24.6&50.6&62.0\n",
      "\n",
      "\n",
      "28.6&55.3&101.6&118.9&23.6&47.4&94.0&112.7&29.5&60.5&119.9&140.6&60.5&101.9&160.8&188.3&23.5&45.0&71.3&82.8&30.8&57.0&99.8&115.5\n",
      "17.1&34.9&66.3&77.7&14.0&27.2&53.8&66.2&17.9&36.5&74.9&90.7&40.6&74.7&116.6&138.7&15.0&29.9&54.3&65.8&19.6&37.8&68.1&80.2\n",
      "11.4&27.6&56.4&67.6&6.8&15.2&38.2&49.6&9.5&22.0&57.5&73.9&32.2&58.0&102.2&122.7&8.9&18.4&35.3&44.3&12.1&25.0&51.0&61.3\n",
      "\n",
      "\n"
     ]
    }
   ],
   "source": [
    "with open('shorttermcopy.txt', 'r') as f:\n",
    "    counter = 0\n",
    "    for i, line in enumerate(f):\n",
    "        if len(line) > 5:\n",
    "            tmp = line.split(']')[-1]\n",
    "            tmp = tmp.strip('\\n')\n",
    "            tmp = tmp.strip(' ')\n",
    "            print('&'.join(tmp.split(' ')))\n",
    "            counter += 1\n",
    "            if counter == 3:\n",
    "                print()\n",
    "                print()\n",
    "                counter = 0"
   ]
  },
  {
   "cell_type": "code",
   "execution_count": 147,
   "metadata": {},
   "outputs": [],
   "source": [
    "a = 5"
   ]
  },
  {
   "cell_type": "code",
   "execution_count": 148,
   "metadata": {},
   "outputs": [
    {
     "data": {
      "text/plain": [
       "5"
      ]
     },
     "execution_count": 148,
     "metadata": {},
     "output_type": "execute_result"
    }
   ],
   "source": [
    "a"
   ]
  },
  {
   "cell_type": "code",
   "execution_count": null,
   "metadata": {},
   "outputs": [],
   "source": []
  }
 ],
 "metadata": {
  "kernelspec": {
   "display_name": "maowei",
   "language": "python",
   "name": "maowei"
  },
  "language_info": {
   "codemirror_mode": {
    "name": "ipython",
    "version": 3
   },
   "file_extension": ".py",
   "mimetype": "text/x-python",
   "name": "python",
   "nbconvert_exporter": "python",
   "pygments_lexer": "ipython3",
   "version": "3.7.4"
  }
 },
 "nbformat": 4,
 "nbformat_minor": 2
}
