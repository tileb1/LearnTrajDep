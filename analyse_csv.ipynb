{
 "cells": [
  {
   "cell_type": "code",
   "execution_count": 1,
   "metadata": {},
   "outputs": [],
   "source": [
    "import pandas as pd\n",
    "import os\n",
    "from datetime import datetime\n",
    "import utils.data_utils as data_utils\n",
    "from collections import defaultdict\n",
    "\n",
    "LONG_TERM_ACTIONS = ['walking', 'eating', 'smoking', 'discussion']\n",
    "ACTIONS = data_utils.define_actions('all')\n",
    "ACTIONS.sort(key=len)"
   ]
  },
  {
   "cell_type": "code",
   "execution_count": 2,
   "metadata": {},
   "outputs": [],
   "source": [
    "def csv_iter():\n",
    "    for f in os.listdir('./checkpoint/test'):\n",
    "        try:\n",
    "            datetime.strptime(f[-23:-4], \"%d-%m-%Y-%H:%M:%S\")\n",
    "            if f.split('.')[-1] == 'csv':\n",
    "                day = int(f[-23:-21])\n",
    "                if day > 10:\n",
    "                    yield f\n",
    "        except:\n",
    "            pass\n",
    "\n",
    "def extend_df(df, long_term=True):\n",
    "    if long_term:\n",
    "        actions = LONG_TERM_ACTIONS\n",
    "        time_lens = [560, 1000]\n",
    "    else:\n",
    "        actions = ACTIONS\n",
    "        time_lens = [80, 160, 320, 400]\n",
    "    columns_mapping = defaultdict(list)\n",
    "    for time_len in time_lens:\n",
    "        for action_name in actions:\n",
    "            columns_mapping['3d' + str(time_len)].append(action_name + '3d' + str(time_len))\n",
    "            columns_mapping['usingfulltestset_3d' + str(time_len)].append('usingfulltestset_' + action_name + '3d' + str(time_len))\n",
    "\n",
    "    for key in columns_mapping:\n",
    "        df[key] = df[columns_mapping[key]].mean(axis=1)\n",
    "    \n",
    "    return list(columns_mapping.keys())\n",
    "\n",
    "def get_summary_df(merged):\n",
    "    cols = list(set([i[:-5] for i in merged.columns]))\n",
    "    new_cols = []\n",
    "    for col in cols:\n",
    "        col_name = [c for c in merged.columns if c.startswith(col)]\n",
    "        new_cols.append(col+'_mean')\n",
    "        new_cols.append(col+'_std')\n",
    "        merged[col+'_mean'] = merged[col_name].mean(axis=1)\n",
    "        merged[col+'_std'] = merged[col_name].std(axis=1)\n",
    "    return merged[new_cols]"
   ]
  },
  {
   "cell_type": "code",
   "execution_count": 4,
   "metadata": {},
   "outputs": [
    {
     "name": "stdout",
     "output_type": "stream",
     "text": [
      "0 4-4-6-6-8-8-10-10main_3d_3D_in10_out25_dct_n_30_22-06-2020-10:33:39.csv\n",
      "2 4-4-6-6-8-8-10-10main_3d_3D_in10_out25_dct_n_30_24-06-2020-10:30:18.csv\n",
      "4 4-4-6-6-8-8-10-10main_3d_3D_in10_out25_dct_n_30_23-06-2020-17:57:26.csv\n",
      "6 4-4-6-6-8-8-10-10main_3d_3D_in10_out25_dct_n_30_23-06-2020-02:19:14.csv\n",
      "9 4-4-6-6-8-8-10-10main_3d_3D_in10_out25_dct_n_30_21-06-2020-17:04:51.csv\n"
     ]
    }
   ],
   "source": [
    "df_lst = []\n",
    "mini_df_lst = []\n",
    "for i, f in enumerate(csv_iter()):\n",
    "    if not f.startswith('4-4-6-6-8-8-10-10'):\n",
    "        continue\n",
    "    print(i, f)\n",
    "    df = pd.read_csv(os.path.join('checkpoint/test', \"./\", f))\n",
    "    df = df.sort_values(by='v_3d')\n",
    "    df_lst.append(df[extend_df(df, LONG_TERM_ACTIONS)].add_suffix('_run' + str(i)))\n",
    "    mini_df_lst.append(df[extend_df(df, LONG_TERM_ACTIONS)].head(1).add_suffix('_run' + str(i)).reset_index(drop=True))\n",
    "\n",
    "merged = pd.concat(mini_df_lst, axis=1)"
   ]
  },
  {
   "cell_type": "code",
   "execution_count": 5,
   "metadata": {},
   "outputs": [
    {
     "data": {
      "text/html": [
       "<div>\n",
       "<style scoped>\n",
       "    .dataframe tbody tr th:only-of-type {\n",
       "        vertical-align: middle;\n",
       "    }\n",
       "\n",
       "    .dataframe tbody tr th {\n",
       "        vertical-align: top;\n",
       "    }\n",
       "\n",
       "    .dataframe thead th {\n",
       "        text-align: right;\n",
       "    }\n",
       "</style>\n",
       "<table border=\"1\" class=\"dataframe\">\n",
       "  <thead>\n",
       "    <tr style=\"text-align: right;\">\n",
       "      <th></th>\n",
       "      <th>usingfulltestset_3d560_mean</th>\n",
       "      <th>usingfulltestset_3d560_std</th>\n",
       "      <th>usingfulltestset_3d1000_mean</th>\n",
       "      <th>usingfulltestset_3d1000_std</th>\n",
       "      <th>3d1000_mean</th>\n",
       "      <th>3d1000_std</th>\n",
       "      <th>3d560_mean</th>\n",
       "      <th>3d560_std</th>\n",
       "    </tr>\n",
       "  </thead>\n",
       "  <tbody>\n",
       "    <tr>\n",
       "      <td>0</td>\n",
       "      <td>60.339761</td>\n",
       "      <td>0.725688</td>\n",
       "      <td>80.753044</td>\n",
       "      <td>0.70724</td>\n",
       "      <td>68.916667</td>\n",
       "      <td>0.844627</td>\n",
       "      <td>50.056121</td>\n",
       "      <td>0.435249</td>\n",
       "    </tr>\n",
       "  </tbody>\n",
       "</table>\n",
       "</div>"
      ],
      "text/plain": [
       "   usingfulltestset_3d560_mean  usingfulltestset_3d560_std  \\\n",
       "0                    60.339761                    0.725688   \n",
       "\n",
       "   usingfulltestset_3d1000_mean  usingfulltestset_3d1000_std  3d1000_mean  \\\n",
       "0                     80.753044                      0.70724    68.916667   \n",
       "\n",
       "   3d1000_std  3d560_mean  3d560_std  \n",
       "0    0.844627   50.056121   0.435249  "
      ]
     },
     "execution_count": 5,
     "metadata": {},
     "output_type": "execute_result"
    }
   ],
   "source": [
    "get_summary_df(merged)"
   ]
  },
  {
   "cell_type": "code",
   "execution_count": 6,
   "metadata": {},
   "outputs": [
    {
     "data": {
      "text/html": [
       "<div>\n",
       "<style scoped>\n",
       "    .dataframe tbody tr th:only-of-type {\n",
       "        vertical-align: middle;\n",
       "    }\n",
       "\n",
       "    .dataframe tbody tr th {\n",
       "        vertical-align: top;\n",
       "    }\n",
       "\n",
       "    .dataframe thead th {\n",
       "        text-align: right;\n",
       "    }\n",
       "</style>\n",
       "<table border=\"1\" class=\"dataframe\">\n",
       "  <thead>\n",
       "    <tr style=\"text-align: right;\">\n",
       "      <th></th>\n",
       "      <th>3d560_run0</th>\n",
       "      <th>usingfulltestset_3d560_run0</th>\n",
       "      <th>3d1000_run0</th>\n",
       "      <th>usingfulltestset_3d1000_run0</th>\n",
       "    </tr>\n",
       "  </thead>\n",
       "  <tbody>\n",
       "    <tr>\n",
       "      <td>0</td>\n",
       "      <td>50.523773</td>\n",
       "      <td>59.612364</td>\n",
       "      <td>68.232851</td>\n",
       "      <td>80.248953</td>\n",
       "    </tr>\n",
       "  </tbody>\n",
       "</table>\n",
       "</div>"
      ],
      "text/plain": [
       "   3d560_run0  usingfulltestset_3d560_run0  3d1000_run0  \\\n",
       "0   50.523773                    59.612364    68.232851   \n",
       "\n",
       "   usingfulltestset_3d1000_run0  \n",
       "0                     80.248953  "
      ]
     },
     "execution_count": 6,
     "metadata": {},
     "output_type": "execute_result"
    }
   ],
   "source": [
    "mini_df_lst[0]"
   ]
  },
  {
   "cell_type": "code",
   "execution_count": 7,
   "metadata": {},
   "outputs": [
    {
     "data": {
      "text/html": [
       "<div>\n",
       "<style scoped>\n",
       "    .dataframe tbody tr th:only-of-type {\n",
       "        vertical-align: middle;\n",
       "    }\n",
       "\n",
       "    .dataframe tbody tr th {\n",
       "        vertical-align: top;\n",
       "    }\n",
       "\n",
       "    .dataframe thead th {\n",
       "        text-align: right;\n",
       "    }\n",
       "</style>\n",
       "<table border=\"1\" class=\"dataframe\">\n",
       "  <thead>\n",
       "    <tr style=\"text-align: right;\">\n",
       "      <th></th>\n",
       "      <th>3d560_run2</th>\n",
       "      <th>usingfulltestset_3d560_run2</th>\n",
       "      <th>3d1000_run2</th>\n",
       "      <th>usingfulltestset_3d1000_run2</th>\n",
       "    </tr>\n",
       "  </thead>\n",
       "  <tbody>\n",
       "    <tr>\n",
       "      <td>0</td>\n",
       "      <td>49.637818</td>\n",
       "      <td>60.783626</td>\n",
       "      <td>68.056699</td>\n",
       "      <td>80.915037</td>\n",
       "    </tr>\n",
       "  </tbody>\n",
       "</table>\n",
       "</div>"
      ],
      "text/plain": [
       "   3d560_run2  usingfulltestset_3d560_run2  3d1000_run2  \\\n",
       "0   49.637818                    60.783626    68.056699   \n",
       "\n",
       "   usingfulltestset_3d1000_run2  \n",
       "0                     80.915037  "
      ]
     },
     "execution_count": 7,
     "metadata": {},
     "output_type": "execute_result"
    }
   ],
   "source": [
    "mini_df_lst[1]"
   ]
  },
  {
   "cell_type": "code",
   "execution_count": 8,
   "metadata": {},
   "outputs": [
    {
     "data": {
      "text/html": [
       "<div>\n",
       "<style scoped>\n",
       "    .dataframe tbody tr th:only-of-type {\n",
       "        vertical-align: middle;\n",
       "    }\n",
       "\n",
       "    .dataframe tbody tr th {\n",
       "        vertical-align: top;\n",
       "    }\n",
       "\n",
       "    .dataframe thead th {\n",
       "        text-align: right;\n",
       "    }\n",
       "</style>\n",
       "<table border=\"1\" class=\"dataframe\">\n",
       "  <thead>\n",
       "    <tr style=\"text-align: right;\">\n",
       "      <th></th>\n",
       "      <th>3d560_run4</th>\n",
       "      <th>usingfulltestset_3d560_run4</th>\n",
       "      <th>3d1000_run4</th>\n",
       "      <th>usingfulltestset_3d1000_run4</th>\n",
       "    </tr>\n",
       "  </thead>\n",
       "  <tbody>\n",
       "    <tr>\n",
       "      <td>0</td>\n",
       "      <td>50.459402</td>\n",
       "      <td>61.079183</td>\n",
       "      <td>69.452363</td>\n",
       "      <td>81.431589</td>\n",
       "    </tr>\n",
       "  </tbody>\n",
       "</table>\n",
       "</div>"
      ],
      "text/plain": [
       "   3d560_run4  usingfulltestset_3d560_run4  3d1000_run4  \\\n",
       "0   50.459402                    61.079183    69.452363   \n",
       "\n",
       "   usingfulltestset_3d1000_run4  \n",
       "0                     81.431589  "
      ]
     },
     "execution_count": 8,
     "metadata": {},
     "output_type": "execute_result"
    }
   ],
   "source": [
    "mini_df_lst[2]"
   ]
  },
  {
   "cell_type": "code",
   "execution_count": 9,
   "metadata": {},
   "outputs": [
    {
     "data": {
      "text/html": [
       "<div>\n",
       "<style scoped>\n",
       "    .dataframe tbody tr th:only-of-type {\n",
       "        vertical-align: middle;\n",
       "    }\n",
       "\n",
       "    .dataframe tbody tr th {\n",
       "        vertical-align: top;\n",
       "    }\n",
       "\n",
       "    .dataframe thead th {\n",
       "        text-align: right;\n",
       "    }\n",
       "</style>\n",
       "<table border=\"1\" class=\"dataframe\">\n",
       "  <thead>\n",
       "    <tr style=\"text-align: right;\">\n",
       "      <th></th>\n",
       "      <th>3d560_run6</th>\n",
       "      <th>usingfulltestset_3d560_run6</th>\n",
       "      <th>3d1000_run6</th>\n",
       "      <th>usingfulltestset_3d1000_run6</th>\n",
       "    </tr>\n",
       "  </thead>\n",
       "  <tbody>\n",
       "    <tr>\n",
       "      <td>0</td>\n",
       "      <td>50.052311</td>\n",
       "      <td>60.715848</td>\n",
       "      <td>70.073143</td>\n",
       "      <td>81.360507</td>\n",
       "    </tr>\n",
       "  </tbody>\n",
       "</table>\n",
       "</div>"
      ],
      "text/plain": [
       "   3d560_run6  usingfulltestset_3d560_run6  3d1000_run6  \\\n",
       "0   50.052311                    60.715848    70.073143   \n",
       "\n",
       "   usingfulltestset_3d1000_run6  \n",
       "0                     81.360507  "
      ]
     },
     "execution_count": 9,
     "metadata": {},
     "output_type": "execute_result"
    }
   ],
   "source": [
    "mini_df_lst[3]"
   ]
  },
  {
   "cell_type": "code",
   "execution_count": 10,
   "metadata": {},
   "outputs": [
    {
     "data": {
      "text/html": [
       "<div>\n",
       "<style scoped>\n",
       "    .dataframe tbody tr th:only-of-type {\n",
       "        vertical-align: middle;\n",
       "    }\n",
       "\n",
       "    .dataframe tbody tr th {\n",
       "        vertical-align: top;\n",
       "    }\n",
       "\n",
       "    .dataframe thead th {\n",
       "        text-align: right;\n",
       "    }\n",
       "</style>\n",
       "<table border=\"1\" class=\"dataframe\">\n",
       "  <thead>\n",
       "    <tr style=\"text-align: right;\">\n",
       "      <th></th>\n",
       "      <th>3d560_run9</th>\n",
       "      <th>usingfulltestset_3d560_run9</th>\n",
       "      <th>3d1000_run9</th>\n",
       "      <th>usingfulltestset_3d1000_run9</th>\n",
       "    </tr>\n",
       "  </thead>\n",
       "  <tbody>\n",
       "    <tr>\n",
       "      <td>0</td>\n",
       "      <td>49.607301</td>\n",
       "      <td>59.507786</td>\n",
       "      <td>68.768278</td>\n",
       "      <td>79.809133</td>\n",
       "    </tr>\n",
       "  </tbody>\n",
       "</table>\n",
       "</div>"
      ],
      "text/plain": [
       "   3d560_run9  usingfulltestset_3d560_run9  3d1000_run9  \\\n",
       "0   49.607301                    59.507786    68.768278   \n",
       "\n",
       "   usingfulltestset_3d1000_run9  \n",
       "0                     79.809133  "
      ]
     },
     "execution_count": 10,
     "metadata": {},
     "output_type": "execute_result"
    }
   ],
   "source": [
    "mini_df_lst[4]"
   ]
  },
  {
   "cell_type": "code",
   "execution_count": null,
   "metadata": {},
   "outputs": [],
   "source": []
  }
 ],
 "metadata": {
  "kernelspec": {
   "display_name": "maowei",
   "language": "python",
   "name": "maowei"
  },
  "language_info": {
   "codemirror_mode": {
    "name": "ipython",
    "version": 3
   },
   "file_extension": ".py",
   "mimetype": "text/x-python",
   "name": "python",
   "nbconvert_exporter": "python",
   "pygments_lexer": "ipython3",
   "version": "3.7.4"
  }
 },
 "nbformat": 4,
 "nbformat_minor": 2
}
