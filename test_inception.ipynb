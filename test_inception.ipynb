{
 "cells": [
  {
   "cell_type": "code",
   "execution_count": 1,
   "metadata": {},
   "outputs": [],
   "source": [
    "import torch\n",
    "import torch.nn as nn\n",
    "from utils.model import GCN"
   ]
  },
  {
   "cell_type": "code",
   "execution_count": 155,
   "metadata": {},
   "outputs": [],
   "source": [
    "OBSERVED_LEN = 10\n",
    "x = torch.rand(8, 66, OBSERVED_LEN)"
   ]
  },
  {
   "cell_type": "code",
   "execution_count": 219,
   "metadata": {},
   "outputs": [],
   "source": [
    "class Conv1Channel(nn.Module):\n",
    "    def __init__(self, nb_filters=1, filter_size=1, stride=1, dilation=1):\n",
    "        super().__init__()\n",
    "        self.conv = nn.Conv1d(1, nb_filters, filter_size, stride=stride, padding=0, dilation=dilation, groups=1, bias=True, padding_mode='zeros')\n",
    "\n",
    "    def forward(self, x):\n",
    "        shape = x.shape\n",
    "        x = x.reshape(-1, shape[-1])\n",
    "        x = x[:, None, :]\n",
    "        x = self.conv(x)\n",
    "        x = x.reshape(shape[0], shape[1], -1)\n",
    "        return x\n",
    "\n",
    "class TimeInceptionModule(nn.Module):\n",
    "    def __init__(self):\n",
    "        super().__init__()\n",
    "        self.convolutions = nn.ModuleList([])\n",
    "        self.convolutions.append(Conv1Channel(nb_filters=12, filter_size=2))\n",
    "        self.convolutions.append(Conv1Channel(nb_filters=9, filter_size=3))\n",
    "        self.convolutions.append(Conv1Channel(nb_filters=7, filter_size=5))\n",
    "        self.convolutions.append(Conv1Channel(nb_filters=6, filter_size=7))\n",
    "#         self.convolutions.append(Conv1Channel(nb_filters=4, filter_size=3, dilation=2))\n",
    "    \n",
    "    def forward(self, x):\n",
    "        out = x\n",
    "        for conv in self.convolutions:\n",
    "            y = conv(x)\n",
    "            out = torch.cat((out, y), 2)\n",
    "            print(y.shape)\n",
    "        return out"
   ]
  },
  {
   "cell_type": "code",
   "execution_count": 218,
   "metadata": {},
   "outputs": [
    {
     "name": "stdout",
     "output_type": "stream",
     "text": [
      "torch.Size([8, 66, 108])\n",
      "torch.Size([8, 66, 72])\n",
      "torch.Size([8, 66, 42])\n",
      "torch.Size([8, 66, 24])\n"
     ]
    },
    {
     "data": {
      "text/plain": [
       "torch.Size([8, 66, 256])"
      ]
     },
     "execution_count": 218,
     "metadata": {},
     "output_type": "execute_result"
    }
   ],
   "source": [
    "mod = TimeInceptionModule()\n",
    "mod(x).shape"
   ]
  },
  {
   "cell_type": "code",
   "execution_count": 182,
   "metadata": {},
   "outputs": [
    {
     "name": "stdout",
     "output_type": "stream",
     "text": [
      "convolutions.0.conv.weight torch.Size([10, 1, 2])\n",
      "convolutions.0.conv.bias torch.Size([10])\n",
      "convolutions.1.conv.weight torch.Size([8, 1, 3])\n",
      "convolutions.1.conv.bias torch.Size([8])\n",
      "convolutions.2.conv.weight torch.Size([5, 1, 5])\n",
      "convolutions.2.conv.bias torch.Size([5])\n",
      "convolutions.3.conv.weight torch.Size([4, 1, 7])\n",
      "convolutions.3.conv.bias torch.Size([4])\n",
      "convolutions.4.conv.weight torch.Size([4, 1, 3])\n",
      "convolutions.4.conv.bias torch.Size([4])\n",
      "140\n"
     ]
    }
   ],
   "source": [
    "for k, v in mod.state_dict().items():\n",
    "    print(k, v.shape)\n",
    "print(sum([p.numel() for p in mod.parameters()]))"
   ]
  },
  {
   "cell_type": "code",
   "execution_count": 140,
   "metadata": {},
   "outputs": [],
   "source": [
    "gcn = GCN(input_feature=35, hidden_feature=256, p_dropout=0.5,\n",
    "                        num_stage=2, node_n=66)"
   ]
  },
  {
   "cell_type": "code",
   "execution_count": 26,
   "metadata": {},
   "outputs": [
    {
     "data": {
      "text/plain": [
       "torch.Size([8, 66, 35])"
      ]
     },
     "execution_count": 26,
     "metadata": {},
     "output_type": "execute_result"
    }
   ],
   "source": [
    "x.shape"
   ]
  }
 ],
 "metadata": {
  "kernelspec": {
   "display_name": "maowei",
   "language": "python",
   "name": "maowei"
  },
  "language_info": {
   "codemirror_mode": {
    "name": "ipython",
    "version": 3
   },
   "file_extension": ".py",
   "mimetype": "text/x-python",
   "name": "python",
   "nbconvert_exporter": "python",
   "pygments_lexer": "ipython3",
   "version": "3.7.4"
  }
 },
 "nbformat": 4,
 "nbformat_minor": 2
}
