{
 "cells": [
  {
   "cell_type": "code",
   "execution_count": 4,
   "metadata": {},
   "outputs": [],
   "source": [
    "import numpy as np\n",
    "from PIL import Image\n",
    "import os\n",
    "import utils.data_utils as data_utils"
   ]
  },
  {
   "cell_type": "code",
   "execution_count": 48,
   "metadata": {},
   "outputs": [],
   "source": [
    "acts = data_utils.define_actions('all')\n",
    "\n",
    "for action in acts:\n",
    "    global_gt = np.zeros((480, 240*20, 4), dtype='uint8')\n",
    "    for index in range(20):\n",
    "        gt = True\n",
    "        f_name = 'fig/{}{}_gt_{}.png'.format(action, index, str(gt))\n",
    "        pic = Image.open(f_name)\n",
    "        A_img = np.asarray(pic)\n",
    "            \n",
    "        global_gt[:240, index*240:(index+1)*240, :] = A_img\n",
    "        if index == 10:\n",
    "            global_gt[:240, index*240:index*240+3, 0:3] = 0\n",
    "        \n",
    "        \n",
    "        gt = False\n",
    "        f_name = 'fig/{}{}_gt_{}.png'.format(action, index, str(gt))\n",
    "        pic = Image.open(f_name)\n",
    "        A_img = np.asarray(pic)\n",
    "        global_gt[240:, index*240:(index+1)*240, :] = A_img\n",
    "        if index == 10:\n",
    "            global_gt[240:, index*240:index*240+3, 0:3] = 0\n",
    "    \n",
    "#     to_save = global_gt.swapaxes(0, 1)[:, ::-1]\n",
    "    to_save = global_gt\n",
    "    im = Image.fromarray(to_save)\n",
    "    im.save('processed/{}_st.png'.format(action))"
   ]
  },
  {
   "cell_type": "code",
   "execution_count": 12,
   "metadata": {},
   "outputs": [
    {
     "data": {
      "text/plain": [
       "(240, 8400, 4)"
      ]
     },
     "execution_count": 12,
     "metadata": {},
     "output_type": "execute_result"
    }
   ],
   "source": [
    "global_gt.shape"
   ]
  },
  {
   "cell_type": "code",
   "execution_count": 13,
   "metadata": {},
   "outputs": [],
   "source": [
    "import matplotlib.pyplot as plt"
   ]
  },
  {
   "cell_type": "code",
   "execution_count": 14,
   "metadata": {},
   "outputs": [
    {
     "name": "stderr",
     "output_type": "stream",
     "text": [
      "Clipping input data to the valid range for imshow with RGB data ([0..1] for floats or [0..255] for integers).\n"
     ]
    },
    {
     "data": {
      "text/plain": [
       "<matplotlib.image.AxesImage at 0x7f3f8f38c5d0>"
      ]
     },
     "execution_count": 14,
     "metadata": {},
     "output_type": "execute_result"
    },
    {
     "data": {
      "image/png": "[encoded data removed]",
      "text/plain": [
       "<Figure size 432x288 with 1 Axes>"
      ]
     },
     "metadata": {
      "needs_background": "light"
     },
     "output_type": "display_data"
    }
   ],
   "source": [
    "plt.imshow(global_gt)"
   ]
  },
  {
   "cell_type": "code",
   "execution_count": 49,
   "metadata": {},
   "outputs": [
    {
     "data": {
      "text/plain": [
       "['walking',\n",
       " 'eating',\n",
       " 'smoking',\n",
       " 'discussion',\n",
       " 'directions',\n",
       " 'greeting',\n",
       " 'phoning',\n",
       " 'posing',\n",
       " 'purchases',\n",
       " 'sitting',\n",
       " 'sittingdown',\n",
       " 'takingphoto',\n",
       " 'waiting',\n",
       " 'walkingdog',\n",
       " 'walkingtogether']"
      ]
     },
     "execution_count": 49,
     "metadata": {},
     "output_type": "execute_result"
    }
   ],
   "source": [
    "acts"
   ]
  },
  {
   "cell_type": "code",
   "execution_count": null,
   "metadata": {},
   "outputs": [],
   "source": []
  }
 ],
 "metadata": {
  "kernelspec": {
   "display_name": "maowei",
   "language": "python",
   "name": "maowei"
  },
  "language_info": {
   "codemirror_mode": {
    "name": "ipython",
    "version": 3
   },
   "file_extension": ".py",
   "mimetype": "text/x-python",
   "name": "python",
   "nbconvert_exporter": "python",
   "pygments_lexer": "ipython3",
   "version": "3.7.4"
  }
 },
 "nbformat": 4,
 "nbformat_minor": 2
}
